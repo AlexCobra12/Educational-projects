{
 "cells": [
  {
   "cell_type": "markdown",
   "id": "25b5b650",
   "metadata": {},
   "source": [
    "# Банки — Анализ оттока клиентов"
   ]
  },
  {
   "cell_type": "markdown",
   "id": "f38213f9",
   "metadata": {},
   "source": [
    "Ссылка на презентацию: https://drive.google.com/file/d/1YsxwV1Gozb73ADS5sQbIgToKrspuE8py/view?usp=sharing"
   ]
  },
  {
   "cell_type": "markdown",
   "id": "ad38ff76",
   "metadata": {},
   "source": [
    "Ссылка на Дашборд: https://public.tableau.com/views/_16802052205990/Sheet1?:language=en-US&publish=yes&:display_count=n&:origin=viz_share_link"
   ]
  },
  {
   "cell_type": "markdown",
   "id": "737dccd7",
   "metadata": {},
   "source": [
    "### Задача**:**\n",
    "\n",
    "Проанализируйте клиентов регионального банка и выделите сегменты клиентов, которые склонны уходить из банка.\n",
    "\n",
    "- Проведите исследовательский анализ данных,\n",
    "- Выделите портреты клиентов, которые склонны уходить из банка,\n",
    "- Сформулируйте и проверьте статистические гипотезы.\n",
    "    \n",
    "    *Проверьте гипотезу различия дохода между теми клиентами, которые ушли и теми, которые остались.*\n",
    "    \n",
    "    *Сформулируйте и проверьте статистическую гипотезу относительно представленных данных*"
   ]
  },
  {
   "cell_type": "markdown",
   "id": "645c7b4b",
   "metadata": {},
   "source": [
    "### 1. Предобработка"
   ]
  },
  {
   "cell_type": "code",
   "execution_count": 3,
   "id": "7f2d64f0",
   "metadata": {},
   "outputs": [],
   "source": [
    "import pandas as pd\n",
    "import numpy as np\n",
    "import seaborn as sns\n",
    "import matplotlib.pyplot as plt\n",
    "from sklearn. preprocessing import OneHotEncoder\n",
    "from scipy import stats as st"
   ]
  },
  {
   "cell_type": "markdown",
   "id": "a09561ff",
   "metadata": {},
   "source": [
    "Импортируем необходимые библиотеки"
   ]
  },
  {
   "cell_type": "code",
   "execution_count": 4,
   "id": "c2a79b7e",
   "metadata": {},
   "outputs": [],
   "source": [
    "path = \"https://drive.google.com/uc?export=download&id=1-U61mhTz_N1ARjy2XSAZ7IlQqGjeqP0F\" \n",
    "df = pd.read_csv(path)"
   ]
  },
  {
   "cell_type": "markdown",
   "id": "586e7fcb",
   "metadata": {},
   "source": [
    "Загружаем файл"
   ]
  },
  {
   "cell_type": "code",
   "execution_count": 5,
   "id": "615ca210",
   "metadata": {},
   "outputs": [],
   "source": [
    "def check_df(df):\n",
    "    print('Info:', df.info())\n",
    "    print('duplicated:', df.duplicated().sum())\n",
    "    print('isna:', df.isna().sum())\n",
    "    display('describe:', df.describe().T)\n",
    "    display(df.head(10))"
   ]
  },
  {
   "cell_type": "markdown",
   "id": "58fde7d9",
   "metadata": {},
   "source": [
    "Функция для ознакомления с данными"
   ]
  },
  {
   "cell_type": "code",
   "execution_count": 6,
   "id": "a7f6acf5",
   "metadata": {
    "scrolled": false
   },
   "outputs": [
    {
     "name": "stdout",
     "output_type": "stream",
     "text": [
      "<class 'pandas.core.frame.DataFrame'>\n",
      "RangeIndex: 10000 entries, 0 to 9999\n",
      "Data columns (total 12 columns):\n",
      " #   Column         Non-Null Count  Dtype  \n",
      "---  ------         --------------  -----  \n",
      " 0   USERID         10000 non-null  int64  \n",
      " 1   score          10000 non-null  float64\n",
      " 2   city           10000 non-null  object \n",
      " 3   gender         10000 non-null  object \n",
      " 4   age            9974 non-null   float64\n",
      " 5   equity         10000 non-null  int64  \n",
      " 6   balance        7705 non-null   float64\n",
      " 7   products       10000 non-null  int64  \n",
      " 8   credit_card    10000 non-null  int64  \n",
      " 9   last_activity  10000 non-null  int64  \n",
      " 10  EST_SALARY     10000 non-null  float64\n",
      " 11  churn          10000 non-null  int64  \n",
      "dtypes: float64(4), int64(6), object(2)\n",
      "memory usage: 937.6+ KB\n",
      "Info: None\n",
      "duplicated: 0\n",
      "isna: USERID              0\n",
      "score               0\n",
      "city                0\n",
      "gender              0\n",
      "age                26\n",
      "equity              0\n",
      "balance          2295\n",
      "products            0\n",
      "credit_card         0\n",
      "last_activity       0\n",
      "EST_SALARY          0\n",
      "churn               0\n",
      "dtype: int64\n"
     ]
    },
    {
     "data": {
      "text/plain": [
       "'describe:'"
      ]
     },
     "metadata": {},
     "output_type": "display_data"
    },
    {
     "data": {
      "text/html": [
       "<div>\n",
       "<style scoped>\n",
       "    .dataframe tbody tr th:only-of-type {\n",
       "        vertical-align: middle;\n",
       "    }\n",
       "\n",
       "    .dataframe tbody tr th {\n",
       "        vertical-align: top;\n",
       "    }\n",
       "\n",
       "    .dataframe thead th {\n",
       "        text-align: right;\n",
       "    }\n",
       "</style>\n",
       "<table border=\"1\" class=\"dataframe\">\n",
       "  <thead>\n",
       "    <tr style=\"text-align: right;\">\n",
       "      <th></th>\n",
       "      <th>count</th>\n",
       "      <th>mean</th>\n",
       "      <th>std</th>\n",
       "      <th>min</th>\n",
       "      <th>25%</th>\n",
       "      <th>50%</th>\n",
       "      <th>75%</th>\n",
       "      <th>max</th>\n",
       "    </tr>\n",
       "  </thead>\n",
       "  <tbody>\n",
       "    <tr>\n",
       "      <th>USERID</th>\n",
       "      <td>10000.0</td>\n",
       "      <td>171814.712600</td>\n",
       "      <td>3.370824e+04</td>\n",
       "      <td>94561.0</td>\n",
       "      <td>142810.25</td>\n",
       "      <td>172728.000</td>\n",
       "      <td>201261.7500</td>\n",
       "      <td>2.291450e+05</td>\n",
       "    </tr>\n",
       "    <tr>\n",
       "      <th>score</th>\n",
       "      <td>10000.0</td>\n",
       "      <td>848.699400</td>\n",
       "      <td>6.544852e+01</td>\n",
       "      <td>642.0</td>\n",
       "      <td>802.00</td>\n",
       "      <td>853.000</td>\n",
       "      <td>900.0000</td>\n",
       "      <td>1.000000e+03</td>\n",
       "    </tr>\n",
       "    <tr>\n",
       "      <th>age</th>\n",
       "      <td>9974.0</td>\n",
       "      <td>42.734409</td>\n",
       "      <td>1.217997e+01</td>\n",
       "      <td>18.0</td>\n",
       "      <td>33.00</td>\n",
       "      <td>40.000</td>\n",
       "      <td>51.0000</td>\n",
       "      <td>8.600000e+01</td>\n",
       "    </tr>\n",
       "    <tr>\n",
       "      <th>equity</th>\n",
       "      <td>10000.0</td>\n",
       "      <td>2.627600</td>\n",
       "      <td>1.980836e+00</td>\n",
       "      <td>0.0</td>\n",
       "      <td>0.00</td>\n",
       "      <td>3.000</td>\n",
       "      <td>4.0000</td>\n",
       "      <td>9.000000e+00</td>\n",
       "    </tr>\n",
       "    <tr>\n",
       "      <th>balance</th>\n",
       "      <td>7705.0</td>\n",
       "      <td>827794.306510</td>\n",
       "      <td>1.980614e+06</td>\n",
       "      <td>0.0</td>\n",
       "      <td>295554.16</td>\n",
       "      <td>524272.200</td>\n",
       "      <td>980705.8500</td>\n",
       "      <td>1.191136e+08</td>\n",
       "    </tr>\n",
       "    <tr>\n",
       "      <th>products</th>\n",
       "      <td>10000.0</td>\n",
       "      <td>1.870100</td>\n",
       "      <td>7.926467e-01</td>\n",
       "      <td>0.0</td>\n",
       "      <td>1.00</td>\n",
       "      <td>2.000</td>\n",
       "      <td>2.0000</td>\n",
       "      <td>5.000000e+00</td>\n",
       "    </tr>\n",
       "    <tr>\n",
       "      <th>credit_card</th>\n",
       "      <td>10000.0</td>\n",
       "      <td>0.680400</td>\n",
       "      <td>4.663449e-01</td>\n",
       "      <td>0.0</td>\n",
       "      <td>0.00</td>\n",
       "      <td>1.000</td>\n",
       "      <td>1.0000</td>\n",
       "      <td>1.000000e+00</td>\n",
       "    </tr>\n",
       "    <tr>\n",
       "      <th>last_activity</th>\n",
       "      <td>10000.0</td>\n",
       "      <td>0.523500</td>\n",
       "      <td>4.994724e-01</td>\n",
       "      <td>0.0</td>\n",
       "      <td>0.00</td>\n",
       "      <td>1.000</td>\n",
       "      <td>1.0000</td>\n",
       "      <td>1.000000e+00</td>\n",
       "    </tr>\n",
       "    <tr>\n",
       "      <th>EST_SALARY</th>\n",
       "      <td>10000.0</td>\n",
       "      <td>147866.885544</td>\n",
       "      <td>1.393885e+05</td>\n",
       "      <td>2546.3</td>\n",
       "      <td>75251.90</td>\n",
       "      <td>119658.105</td>\n",
       "      <td>174500.5425</td>\n",
       "      <td>1.395064e+06</td>\n",
       "    </tr>\n",
       "    <tr>\n",
       "      <th>churn</th>\n",
       "      <td>10000.0</td>\n",
       "      <td>0.182000</td>\n",
       "      <td>3.858638e-01</td>\n",
       "      <td>0.0</td>\n",
       "      <td>0.00</td>\n",
       "      <td>0.000</td>\n",
       "      <td>0.0000</td>\n",
       "      <td>1.000000e+00</td>\n",
       "    </tr>\n",
       "  </tbody>\n",
       "</table>\n",
       "</div>"
      ],
      "text/plain": [
       "                 count           mean           std      min        25%  \\\n",
       "USERID         10000.0  171814.712600  3.370824e+04  94561.0  142810.25   \n",
       "score          10000.0     848.699400  6.544852e+01    642.0     802.00   \n",
       "age             9974.0      42.734409  1.217997e+01     18.0      33.00   \n",
       "equity         10000.0       2.627600  1.980836e+00      0.0       0.00   \n",
       "balance         7705.0  827794.306510  1.980614e+06      0.0  295554.16   \n",
       "products       10000.0       1.870100  7.926467e-01      0.0       1.00   \n",
       "credit_card    10000.0       0.680400  4.663449e-01      0.0       0.00   \n",
       "last_activity  10000.0       0.523500  4.994724e-01      0.0       0.00   \n",
       "EST_SALARY     10000.0  147866.885544  1.393885e+05   2546.3   75251.90   \n",
       "churn          10000.0       0.182000  3.858638e-01      0.0       0.00   \n",
       "\n",
       "                      50%          75%           max  \n",
       "USERID         172728.000  201261.7500  2.291450e+05  \n",
       "score             853.000     900.0000  1.000000e+03  \n",
       "age                40.000      51.0000  8.600000e+01  \n",
       "equity              3.000       4.0000  9.000000e+00  \n",
       "balance        524272.200  980705.8500  1.191136e+08  \n",
       "products            2.000       2.0000  5.000000e+00  \n",
       "credit_card         1.000       1.0000  1.000000e+00  \n",
       "last_activity       1.000       1.0000  1.000000e+00  \n",
       "EST_SALARY     119658.105  174500.5425  1.395064e+06  \n",
       "churn               0.000       0.0000  1.000000e+00  "
      ]
     },
     "metadata": {},
     "output_type": "display_data"
    },
    {
     "data": {
      "text/html": [
       "<div>\n",
       "<style scoped>\n",
       "    .dataframe tbody tr th:only-of-type {\n",
       "        vertical-align: middle;\n",
       "    }\n",
       "\n",
       "    .dataframe tbody tr th {\n",
       "        vertical-align: top;\n",
       "    }\n",
       "\n",
       "    .dataframe thead th {\n",
       "        text-align: right;\n",
       "    }\n",
       "</style>\n",
       "<table border=\"1\" class=\"dataframe\">\n",
       "  <thead>\n",
       "    <tr style=\"text-align: right;\">\n",
       "      <th></th>\n",
       "      <th>USERID</th>\n",
       "      <th>score</th>\n",
       "      <th>city</th>\n",
       "      <th>gender</th>\n",
       "      <th>age</th>\n",
       "      <th>equity</th>\n",
       "      <th>balance</th>\n",
       "      <th>products</th>\n",
       "      <th>credit_card</th>\n",
       "      <th>last_activity</th>\n",
       "      <th>EST_SALARY</th>\n",
       "      <th>churn</th>\n",
       "    </tr>\n",
       "  </thead>\n",
       "  <tbody>\n",
       "    <tr>\n",
       "      <th>0</th>\n",
       "      <td>183012</td>\n",
       "      <td>850.0</td>\n",
       "      <td>Рыбинск</td>\n",
       "      <td>Ж</td>\n",
       "      <td>25.0</td>\n",
       "      <td>1</td>\n",
       "      <td>59214.82</td>\n",
       "      <td>2</td>\n",
       "      <td>0</td>\n",
       "      <td>1</td>\n",
       "      <td>75719.14</td>\n",
       "      <td>1</td>\n",
       "    </tr>\n",
       "    <tr>\n",
       "      <th>1</th>\n",
       "      <td>146556</td>\n",
       "      <td>861.0</td>\n",
       "      <td>Рыбинск</td>\n",
       "      <td>Ж</td>\n",
       "      <td>37.0</td>\n",
       "      <td>5</td>\n",
       "      <td>850594.33</td>\n",
       "      <td>3</td>\n",
       "      <td>1</td>\n",
       "      <td>0</td>\n",
       "      <td>86621.77</td>\n",
       "      <td>0</td>\n",
       "    </tr>\n",
       "    <tr>\n",
       "      <th>2</th>\n",
       "      <td>120722</td>\n",
       "      <td>892.0</td>\n",
       "      <td>Рыбинск</td>\n",
       "      <td>Ж</td>\n",
       "      <td>30.0</td>\n",
       "      <td>0</td>\n",
       "      <td>NaN</td>\n",
       "      <td>1</td>\n",
       "      <td>1</td>\n",
       "      <td>1</td>\n",
       "      <td>107683.34</td>\n",
       "      <td>0</td>\n",
       "    </tr>\n",
       "    <tr>\n",
       "      <th>3</th>\n",
       "      <td>225363</td>\n",
       "      <td>866.0</td>\n",
       "      <td>Ярославль</td>\n",
       "      <td>Ж</td>\n",
       "      <td>51.0</td>\n",
       "      <td>5</td>\n",
       "      <td>1524746.26</td>\n",
       "      <td>2</td>\n",
       "      <td>0</td>\n",
       "      <td>1</td>\n",
       "      <td>174423.53</td>\n",
       "      <td>1</td>\n",
       "    </tr>\n",
       "    <tr>\n",
       "      <th>4</th>\n",
       "      <td>157978</td>\n",
       "      <td>730.0</td>\n",
       "      <td>Ярославль</td>\n",
       "      <td>М</td>\n",
       "      <td>34.0</td>\n",
       "      <td>5</td>\n",
       "      <td>174.00</td>\n",
       "      <td>1</td>\n",
       "      <td>1</td>\n",
       "      <td>0</td>\n",
       "      <td>67353.16</td>\n",
       "      <td>1</td>\n",
       "    </tr>\n",
       "    <tr>\n",
       "      <th>5</th>\n",
       "      <td>202305</td>\n",
       "      <td>856.0</td>\n",
       "      <td>Рыбинск</td>\n",
       "      <td>М</td>\n",
       "      <td>56.0</td>\n",
       "      <td>4</td>\n",
       "      <td>863687.24</td>\n",
       "      <td>3</td>\n",
       "      <td>1</td>\n",
       "      <td>0</td>\n",
       "      <td>156619.80</td>\n",
       "      <td>0</td>\n",
       "    </tr>\n",
       "    <tr>\n",
       "      <th>6</th>\n",
       "      <td>177259</td>\n",
       "      <td>807.0</td>\n",
       "      <td>Ярославль</td>\n",
       "      <td>Ж</td>\n",
       "      <td>39.0</td>\n",
       "      <td>3</td>\n",
       "      <td>405042.44</td>\n",
       "      <td>3</td>\n",
       "      <td>0</td>\n",
       "      <td>1</td>\n",
       "      <td>103838.32</td>\n",
       "      <td>0</td>\n",
       "    </tr>\n",
       "    <tr>\n",
       "      <th>7</th>\n",
       "      <td>218868</td>\n",
       "      <td>825.0</td>\n",
       "      <td>Ярославль</td>\n",
       "      <td>Ж</td>\n",
       "      <td>38.0</td>\n",
       "      <td>4</td>\n",
       "      <td>458145.40</td>\n",
       "      <td>2</td>\n",
       "      <td>1</td>\n",
       "      <td>1</td>\n",
       "      <td>68085.48</td>\n",
       "      <td>0</td>\n",
       "    </tr>\n",
       "    <tr>\n",
       "      <th>8</th>\n",
       "      <td>211686</td>\n",
       "      <td>923.0</td>\n",
       "      <td>Ярославль</td>\n",
       "      <td>М</td>\n",
       "      <td>54.0</td>\n",
       "      <td>5</td>\n",
       "      <td>1206337.87</td>\n",
       "      <td>2</td>\n",
       "      <td>1</td>\n",
       "      <td>0</td>\n",
       "      <td>155371.79</td>\n",
       "      <td>0</td>\n",
       "    </tr>\n",
       "    <tr>\n",
       "      <th>9</th>\n",
       "      <td>133130</td>\n",
       "      <td>906.0</td>\n",
       "      <td>Ярославль</td>\n",
       "      <td>Ж</td>\n",
       "      <td>67.0</td>\n",
       "      <td>0</td>\n",
       "      <td>NaN</td>\n",
       "      <td>1</td>\n",
       "      <td>0</td>\n",
       "      <td>1</td>\n",
       "      <td>238055.53</td>\n",
       "      <td>0</td>\n",
       "    </tr>\n",
       "  </tbody>\n",
       "</table>\n",
       "</div>"
      ],
      "text/plain": [
       "   USERID  score       city gender   age  equity     balance  products  \\\n",
       "0  183012  850.0    Рыбинск      Ж  25.0       1    59214.82         2   \n",
       "1  146556  861.0    Рыбинск      Ж  37.0       5   850594.33         3   \n",
       "2  120722  892.0    Рыбинск      Ж  30.0       0         NaN         1   \n",
       "3  225363  866.0  Ярославль      Ж  51.0       5  1524746.26         2   \n",
       "4  157978  730.0  Ярославль      М  34.0       5      174.00         1   \n",
       "5  202305  856.0    Рыбинск      М  56.0       4   863687.24         3   \n",
       "6  177259  807.0  Ярославль      Ж  39.0       3   405042.44         3   \n",
       "7  218868  825.0  Ярославль      Ж  38.0       4   458145.40         2   \n",
       "8  211686  923.0  Ярославль      М  54.0       5  1206337.87         2   \n",
       "9  133130  906.0  Ярославль      Ж  67.0       0         NaN         1   \n",
       "\n",
       "   credit_card  last_activity  EST_SALARY  churn  \n",
       "0            0              1    75719.14      1  \n",
       "1            1              0    86621.77      0  \n",
       "2            1              1   107683.34      0  \n",
       "3            0              1   174423.53      1  \n",
       "4            1              0    67353.16      1  \n",
       "5            1              0   156619.80      0  \n",
       "6            0              1   103838.32      0  \n",
       "7            1              1    68085.48      0  \n",
       "8            1              0   155371.79      0  \n",
       "9            0              1   238055.53      0  "
      ]
     },
     "metadata": {},
     "output_type": "display_data"
    }
   ],
   "source": [
    "check_df(df)"
   ]
  },
  {
   "cell_type": "markdown",
   "id": "437f0ed0",
   "metadata": {},
   "source": [
    "В датасете 10000 строк, 2295 пропусков в поле balance, 26 в поле age, поля city и gender имеют нечисловые значения.   \n",
    "Описание полей:  \n",
    "\n",
    "- userid — идентификатор пользователя,\n",
    "- score — баллы кредитного скоринга,\n",
    "- city — город,\n",
    "- gender — пол,\n",
    "- age — возраст,\n",
    "- equity — приблизительная оценка собственности клиента,\n",
    "- balance — баланс на счёте,\n",
    "- products — количество продуктов, которыми пользуется клиент,\n",
    "- credit_card — есть ли кредитная карта,\n",
    "- last_activity — был ли клиент активен последнее время,\n",
    "- salary — заработная плата клиента\n",
    "- churn — уходит или нет."
   ]
  },
  {
   "cell_type": "code",
   "execution_count": 7,
   "id": "c84b37e2",
   "metadata": {},
   "outputs": [],
   "source": [
    "df.columns = df.columns.str.lower()"
   ]
  },
  {
   "cell_type": "markdown",
   "id": "e1872938",
   "metadata": {},
   "source": [
    "Приводим названия столбцов к нижнему регистру"
   ]
  },
  {
   "cell_type": "code",
   "execution_count": 8,
   "id": "f0af2836",
   "metadata": {},
   "outputs": [
    {
     "data": {
      "text/html": [
       "<div>\n",
       "<style scoped>\n",
       "    .dataframe tbody tr th:only-of-type {\n",
       "        vertical-align: middle;\n",
       "    }\n",
       "\n",
       "    .dataframe tbody tr th {\n",
       "        vertical-align: top;\n",
       "    }\n",
       "\n",
       "    .dataframe thead th {\n",
       "        text-align: right;\n",
       "    }\n",
       "</style>\n",
       "<table border=\"1\" class=\"dataframe\">\n",
       "  <thead>\n",
       "    <tr style=\"text-align: right;\">\n",
       "      <th></th>\n",
       "      <th>userid</th>\n",
       "      <th>score</th>\n",
       "      <th>city</th>\n",
       "      <th>gender</th>\n",
       "      <th>age</th>\n",
       "      <th>equity</th>\n",
       "      <th>balance</th>\n",
       "      <th>products</th>\n",
       "      <th>credit_card</th>\n",
       "      <th>last_activity</th>\n",
       "      <th>est_salary</th>\n",
       "      <th>churn</th>\n",
       "    </tr>\n",
       "  </thead>\n",
       "  <tbody>\n",
       "    <tr>\n",
       "      <th>0</th>\n",
       "      <td>183012</td>\n",
       "      <td>850.0</td>\n",
       "      <td>Рыбинск</td>\n",
       "      <td>Ж</td>\n",
       "      <td>25.0</td>\n",
       "      <td>1</td>\n",
       "      <td>59214.82</td>\n",
       "      <td>2</td>\n",
       "      <td>0</td>\n",
       "      <td>1</td>\n",
       "      <td>75719.14</td>\n",
       "      <td>1</td>\n",
       "    </tr>\n",
       "    <tr>\n",
       "      <th>1</th>\n",
       "      <td>146556</td>\n",
       "      <td>861.0</td>\n",
       "      <td>Рыбинск</td>\n",
       "      <td>Ж</td>\n",
       "      <td>37.0</td>\n",
       "      <td>5</td>\n",
       "      <td>850594.33</td>\n",
       "      <td>3</td>\n",
       "      <td>1</td>\n",
       "      <td>0</td>\n",
       "      <td>86621.77</td>\n",
       "      <td>0</td>\n",
       "    </tr>\n",
       "    <tr>\n",
       "      <th>2</th>\n",
       "      <td>120722</td>\n",
       "      <td>892.0</td>\n",
       "      <td>Рыбинск</td>\n",
       "      <td>Ж</td>\n",
       "      <td>30.0</td>\n",
       "      <td>0</td>\n",
       "      <td>NaN</td>\n",
       "      <td>1</td>\n",
       "      <td>1</td>\n",
       "      <td>1</td>\n",
       "      <td>107683.34</td>\n",
       "      <td>0</td>\n",
       "    </tr>\n",
       "    <tr>\n",
       "      <th>3</th>\n",
       "      <td>225363</td>\n",
       "      <td>866.0</td>\n",
       "      <td>Ярославль</td>\n",
       "      <td>Ж</td>\n",
       "      <td>51.0</td>\n",
       "      <td>5</td>\n",
       "      <td>1524746.26</td>\n",
       "      <td>2</td>\n",
       "      <td>0</td>\n",
       "      <td>1</td>\n",
       "      <td>174423.53</td>\n",
       "      <td>1</td>\n",
       "    </tr>\n",
       "    <tr>\n",
       "      <th>4</th>\n",
       "      <td>157978</td>\n",
       "      <td>730.0</td>\n",
       "      <td>Ярославль</td>\n",
       "      <td>М</td>\n",
       "      <td>34.0</td>\n",
       "      <td>5</td>\n",
       "      <td>174.00</td>\n",
       "      <td>1</td>\n",
       "      <td>1</td>\n",
       "      <td>0</td>\n",
       "      <td>67353.16</td>\n",
       "      <td>1</td>\n",
       "    </tr>\n",
       "    <tr>\n",
       "      <th>...</th>\n",
       "      <td>...</td>\n",
       "      <td>...</td>\n",
       "      <td>...</td>\n",
       "      <td>...</td>\n",
       "      <td>...</td>\n",
       "      <td>...</td>\n",
       "      <td>...</td>\n",
       "      <td>...</td>\n",
       "      <td>...</td>\n",
       "      <td>...</td>\n",
       "      <td>...</td>\n",
       "      <td>...</td>\n",
       "    </tr>\n",
       "    <tr>\n",
       "      <th>9995</th>\n",
       "      <td>120553</td>\n",
       "      <td>814.0</td>\n",
       "      <td>Рыбинск</td>\n",
       "      <td>М</td>\n",
       "      <td>27.0</td>\n",
       "      <td>1</td>\n",
       "      <td>78144.65</td>\n",
       "      <td>1</td>\n",
       "      <td>0</td>\n",
       "      <td>1</td>\n",
       "      <td>18943.64</td>\n",
       "      <td>0</td>\n",
       "    </tr>\n",
       "    <tr>\n",
       "      <th>9996</th>\n",
       "      <td>139170</td>\n",
       "      <td>894.0</td>\n",
       "      <td>Ярославль</td>\n",
       "      <td>М</td>\n",
       "      <td>46.0</td>\n",
       "      <td>0</td>\n",
       "      <td>NaN</td>\n",
       "      <td>1</td>\n",
       "      <td>1</td>\n",
       "      <td>0</td>\n",
       "      <td>196898.29</td>\n",
       "      <td>0</td>\n",
       "    </tr>\n",
       "    <tr>\n",
       "      <th>9997</th>\n",
       "      <td>115639</td>\n",
       "      <td>903.0</td>\n",
       "      <td>Ярославль</td>\n",
       "      <td>М</td>\n",
       "      <td>24.0</td>\n",
       "      <td>0</td>\n",
       "      <td>NaN</td>\n",
       "      <td>2</td>\n",
       "      <td>1</td>\n",
       "      <td>1</td>\n",
       "      <td>108905.09</td>\n",
       "      <td>0</td>\n",
       "    </tr>\n",
       "    <tr>\n",
       "      <th>9998</th>\n",
       "      <td>148700</td>\n",
       "      <td>777.0</td>\n",
       "      <td>Ярославль</td>\n",
       "      <td>Ж</td>\n",
       "      <td>68.0</td>\n",
       "      <td>3</td>\n",
       "      <td>865457.97</td>\n",
       "      <td>3</td>\n",
       "      <td>0</td>\n",
       "      <td>1</td>\n",
       "      <td>86874.90</td>\n",
       "      <td>0</td>\n",
       "    </tr>\n",
       "    <tr>\n",
       "      <th>9999</th>\n",
       "      <td>96267</td>\n",
       "      <td>828.0</td>\n",
       "      <td>Рыбинск</td>\n",
       "      <td>Ж</td>\n",
       "      <td>58.0</td>\n",
       "      <td>3</td>\n",
       "      <td>1180886.70</td>\n",
       "      <td>4</td>\n",
       "      <td>0</td>\n",
       "      <td>1</td>\n",
       "      <td>21422.37</td>\n",
       "      <td>0</td>\n",
       "    </tr>\n",
       "  </tbody>\n",
       "</table>\n",
       "<p>10000 rows × 12 columns</p>\n",
       "</div>"
      ],
      "text/plain": [
       "      userid  score       city gender   age  equity     balance  products  \\\n",
       "0     183012  850.0    Рыбинск      Ж  25.0       1    59214.82         2   \n",
       "1     146556  861.0    Рыбинск      Ж  37.0       5   850594.33         3   \n",
       "2     120722  892.0    Рыбинск      Ж  30.0       0         NaN         1   \n",
       "3     225363  866.0  Ярославль      Ж  51.0       5  1524746.26         2   \n",
       "4     157978  730.0  Ярославль      М  34.0       5      174.00         1   \n",
       "...      ...    ...        ...    ...   ...     ...         ...       ...   \n",
       "9995  120553  814.0    Рыбинск      М  27.0       1    78144.65         1   \n",
       "9996  139170  894.0  Ярославль      М  46.0       0         NaN         1   \n",
       "9997  115639  903.0  Ярославль      М  24.0       0         NaN         2   \n",
       "9998  148700  777.0  Ярославль      Ж  68.0       3   865457.97         3   \n",
       "9999   96267  828.0    Рыбинск      Ж  58.0       3  1180886.70         4   \n",
       "\n",
       "      credit_card  last_activity  est_salary  churn  \n",
       "0               0              1    75719.14      1  \n",
       "1               1              0    86621.77      0  \n",
       "2               1              1   107683.34      0  \n",
       "3               0              1   174423.53      1  \n",
       "4               1              0    67353.16      1  \n",
       "...           ...            ...         ...    ...  \n",
       "9995            0              1    18943.64      0  \n",
       "9996            1              0   196898.29      0  \n",
       "9997            1              1   108905.09      0  \n",
       "9998            0              1    86874.90      0  \n",
       "9999            0              1    21422.37      0  \n",
       "\n",
       "[10000 rows x 12 columns]"
      ]
     },
     "execution_count": 8,
     "metadata": {},
     "output_type": "execute_result"
    }
   ],
   "source": [
    "df.apply(pd.to_numeric, errors='ignore')"
   ]
  },
  {
   "cell_type": "markdown",
   "id": "9ddb4ce0",
   "metadata": {},
   "source": [
    "приведем все к численным значениям"
   ]
  },
  {
   "cell_type": "markdown",
   "id": "5cafbf98",
   "metadata": {},
   "source": [
    "Создаем числовые столбцы для значений в полях пол и город"
   ]
  },
  {
   "cell_type": "code",
   "execution_count": 10,
   "id": "817c3531",
   "metadata": {},
   "outputs": [],
   "source": [
    "df['gen_cod'] = np.where(df['gender'] == 'М', 1, 0)\n",
    "df['jar'] = np.where(df['city'] == 'Ярославль', 1,0)\n",
    "df['ryb'] = np.where(df['city'] == 'Рыбинск', 1,0)\n",
    "df['rost']  = np.where(df['city'] == 'Ростов', 1,0)"
   ]
  },
  {
   "cell_type": "code",
   "execution_count": 11,
   "id": "0a9a5108",
   "metadata": {
    "scrolled": true
   },
   "outputs": [
    {
     "data": {
      "text/html": [
       "<div>\n",
       "<style scoped>\n",
       "    .dataframe tbody tr th:only-of-type {\n",
       "        vertical-align: middle;\n",
       "    }\n",
       "\n",
       "    .dataframe tbody tr th {\n",
       "        vertical-align: top;\n",
       "    }\n",
       "\n",
       "    .dataframe thead th {\n",
       "        text-align: right;\n",
       "    }\n",
       "</style>\n",
       "<table border=\"1\" class=\"dataframe\">\n",
       "  <thead>\n",
       "    <tr style=\"text-align: right;\">\n",
       "      <th></th>\n",
       "      <th>count</th>\n",
       "      <th>mean</th>\n",
       "      <th>std</th>\n",
       "      <th>min</th>\n",
       "      <th>25%</th>\n",
       "      <th>50%</th>\n",
       "      <th>75%</th>\n",
       "      <th>max</th>\n",
       "    </tr>\n",
       "  </thead>\n",
       "  <tbody>\n",
       "    <tr>\n",
       "      <th>userid</th>\n",
       "      <td>2295.0</td>\n",
       "      <td>172069.447930</td>\n",
       "      <td>33337.084589</td>\n",
       "      <td>114182.00</td>\n",
       "      <td>143095.5</td>\n",
       "      <td>172659.00</td>\n",
       "      <td>201551.000</td>\n",
       "      <td>229145.00</td>\n",
       "    </tr>\n",
       "    <tr>\n",
       "      <th>score</th>\n",
       "      <td>2295.0</td>\n",
       "      <td>865.352070</td>\n",
       "      <td>89.603091</td>\n",
       "      <td>642.00</td>\n",
       "      <td>871.0</td>\n",
       "      <td>903.00</td>\n",
       "      <td>922.000</td>\n",
       "      <td>990.00</td>\n",
       "    </tr>\n",
       "    <tr>\n",
       "      <th>age</th>\n",
       "      <td>2279.0</td>\n",
       "      <td>42.093023</td>\n",
       "      <td>11.941551</td>\n",
       "      <td>18.00</td>\n",
       "      <td>33.0</td>\n",
       "      <td>40.00</td>\n",
       "      <td>49.000</td>\n",
       "      <td>86.00</td>\n",
       "    </tr>\n",
       "    <tr>\n",
       "      <th>equity</th>\n",
       "      <td>2295.0</td>\n",
       "      <td>0.050980</td>\n",
       "      <td>0.225872</td>\n",
       "      <td>0.00</td>\n",
       "      <td>0.0</td>\n",
       "      <td>0.00</td>\n",
       "      <td>0.000</td>\n",
       "      <td>3.00</td>\n",
       "    </tr>\n",
       "    <tr>\n",
       "      <th>balance</th>\n",
       "      <td>0.0</td>\n",
       "      <td>NaN</td>\n",
       "      <td>NaN</td>\n",
       "      <td>NaN</td>\n",
       "      <td>NaN</td>\n",
       "      <td>NaN</td>\n",
       "      <td>NaN</td>\n",
       "      <td>NaN</td>\n",
       "    </tr>\n",
       "    <tr>\n",
       "      <th>products</th>\n",
       "      <td>2295.0</td>\n",
       "      <td>1.162092</td>\n",
       "      <td>0.402532</td>\n",
       "      <td>0.00</td>\n",
       "      <td>1.0</td>\n",
       "      <td>1.00</td>\n",
       "      <td>1.000</td>\n",
       "      <td>3.00</td>\n",
       "    </tr>\n",
       "    <tr>\n",
       "      <th>credit_card</th>\n",
       "      <td>2295.0</td>\n",
       "      <td>0.815686</td>\n",
       "      <td>0.387824</td>\n",
       "      <td>0.00</td>\n",
       "      <td>1.0</td>\n",
       "      <td>1.00</td>\n",
       "      <td>1.000</td>\n",
       "      <td>1.00</td>\n",
       "    </tr>\n",
       "    <tr>\n",
       "      <th>last_activity</th>\n",
       "      <td>2295.0</td>\n",
       "      <td>0.549455</td>\n",
       "      <td>0.497657</td>\n",
       "      <td>0.00</td>\n",
       "      <td>0.0</td>\n",
       "      <td>1.00</td>\n",
       "      <td>1.000</td>\n",
       "      <td>1.00</td>\n",
       "    </tr>\n",
       "    <tr>\n",
       "      <th>est_salary</th>\n",
       "      <td>2295.0</td>\n",
       "      <td>226310.208654</td>\n",
       "      <td>199771.793737</td>\n",
       "      <td>20274.03</td>\n",
       "      <td>120347.7</td>\n",
       "      <td>174160.68</td>\n",
       "      <td>240014.995</td>\n",
       "      <td>1333687.36</td>\n",
       "    </tr>\n",
       "    <tr>\n",
       "      <th>churn</th>\n",
       "      <td>2295.0</td>\n",
       "      <td>0.005664</td>\n",
       "      <td>0.075066</td>\n",
       "      <td>0.00</td>\n",
       "      <td>0.0</td>\n",
       "      <td>0.00</td>\n",
       "      <td>0.000</td>\n",
       "      <td>1.00</td>\n",
       "    </tr>\n",
       "    <tr>\n",
       "      <th>gen_cod</th>\n",
       "      <td>2295.0</td>\n",
       "      <td>0.558606</td>\n",
       "      <td>0.496662</td>\n",
       "      <td>0.00</td>\n",
       "      <td>0.0</td>\n",
       "      <td>1.00</td>\n",
       "      <td>1.000</td>\n",
       "      <td>1.00</td>\n",
       "    </tr>\n",
       "    <tr>\n",
       "      <th>jar</th>\n",
       "      <td>2295.0</td>\n",
       "      <td>0.639216</td>\n",
       "      <td>0.480333</td>\n",
       "      <td>0.00</td>\n",
       "      <td>0.0</td>\n",
       "      <td>1.00</td>\n",
       "      <td>1.000</td>\n",
       "      <td>1.00</td>\n",
       "    </tr>\n",
       "    <tr>\n",
       "      <th>ryb</th>\n",
       "      <td>2295.0</td>\n",
       "      <td>0.258388</td>\n",
       "      <td>0.437844</td>\n",
       "      <td>0.00</td>\n",
       "      <td>0.0</td>\n",
       "      <td>0.00</td>\n",
       "      <td>1.000</td>\n",
       "      <td>1.00</td>\n",
       "    </tr>\n",
       "    <tr>\n",
       "      <th>rost</th>\n",
       "      <td>2295.0</td>\n",
       "      <td>0.102397</td>\n",
       "      <td>0.303235</td>\n",
       "      <td>0.00</td>\n",
       "      <td>0.0</td>\n",
       "      <td>0.00</td>\n",
       "      <td>0.000</td>\n",
       "      <td>1.00</td>\n",
       "    </tr>\n",
       "  </tbody>\n",
       "</table>\n",
       "</div>"
      ],
      "text/plain": [
       "                count           mean            std        min       25%  \\\n",
       "userid         2295.0  172069.447930   33337.084589  114182.00  143095.5   \n",
       "score          2295.0     865.352070      89.603091     642.00     871.0   \n",
       "age            2279.0      42.093023      11.941551      18.00      33.0   \n",
       "equity         2295.0       0.050980       0.225872       0.00       0.0   \n",
       "balance           0.0            NaN            NaN        NaN       NaN   \n",
       "products       2295.0       1.162092       0.402532       0.00       1.0   \n",
       "credit_card    2295.0       0.815686       0.387824       0.00       1.0   \n",
       "last_activity  2295.0       0.549455       0.497657       0.00       0.0   \n",
       "est_salary     2295.0  226310.208654  199771.793737   20274.03  120347.7   \n",
       "churn          2295.0       0.005664       0.075066       0.00       0.0   \n",
       "gen_cod        2295.0       0.558606       0.496662       0.00       0.0   \n",
       "jar            2295.0       0.639216       0.480333       0.00       0.0   \n",
       "ryb            2295.0       0.258388       0.437844       0.00       0.0   \n",
       "rost           2295.0       0.102397       0.303235       0.00       0.0   \n",
       "\n",
       "                     50%         75%         max  \n",
       "userid         172659.00  201551.000   229145.00  \n",
       "score             903.00     922.000      990.00  \n",
       "age                40.00      49.000       86.00  \n",
       "equity              0.00       0.000        3.00  \n",
       "balance              NaN         NaN         NaN  \n",
       "products            1.00       1.000        3.00  \n",
       "credit_card         1.00       1.000        1.00  \n",
       "last_activity       1.00       1.000        1.00  \n",
       "est_salary     174160.68  240014.995  1333687.36  \n",
       "churn               0.00       0.000        1.00  \n",
       "gen_cod             1.00       1.000        1.00  \n",
       "jar                 1.00       1.000        1.00  \n",
       "ryb                 0.00       1.000        1.00  \n",
       "rost                0.00       0.000        1.00  "
      ]
     },
     "execution_count": 11,
     "metadata": {},
     "output_type": "execute_result"
    }
   ],
   "source": [
    "df[df['balance'].isna()].describe().T"
   ]
  },
  {
   "cell_type": "code",
   "execution_count": 12,
   "id": "d6fb0065",
   "metadata": {},
   "outputs": [
    {
     "data": {
      "text/html": [
       "<div>\n",
       "<style scoped>\n",
       "    .dataframe tbody tr th:only-of-type {\n",
       "        vertical-align: middle;\n",
       "    }\n",
       "\n",
       "    .dataframe tbody tr th {\n",
       "        vertical-align: top;\n",
       "    }\n",
       "\n",
       "    .dataframe thead th {\n",
       "        text-align: right;\n",
       "    }\n",
       "</style>\n",
       "<table border=\"1\" class=\"dataframe\">\n",
       "  <thead>\n",
       "    <tr style=\"text-align: right;\">\n",
       "      <th></th>\n",
       "      <th>count</th>\n",
       "      <th>mean</th>\n",
       "      <th>std</th>\n",
       "      <th>min</th>\n",
       "      <th>25%</th>\n",
       "      <th>50%</th>\n",
       "      <th>75%</th>\n",
       "      <th>max</th>\n",
       "    </tr>\n",
       "  </thead>\n",
       "  <tbody>\n",
       "    <tr>\n",
       "      <th>userid</th>\n",
       "      <td>7705.0</td>\n",
       "      <td>171738.837508</td>\n",
       "      <td>3.381978e+04</td>\n",
       "      <td>94561.0</td>\n",
       "      <td>142639.00</td>\n",
       "      <td>172740.0</td>\n",
       "      <td>201168.00</td>\n",
       "      <td>2.291360e+05</td>\n",
       "    </tr>\n",
       "    <tr>\n",
       "      <th>score</th>\n",
       "      <td>7705.0</td>\n",
       "      <td>843.739260</td>\n",
       "      <td>5.533216e+01</td>\n",
       "      <td>689.0</td>\n",
       "      <td>801.00</td>\n",
       "      <td>840.0</td>\n",
       "      <td>882.00</td>\n",
       "      <td>1.000000e+03</td>\n",
       "    </tr>\n",
       "    <tr>\n",
       "      <th>age</th>\n",
       "      <td>7695.0</td>\n",
       "      <td>42.924366</td>\n",
       "      <td>1.224401e+01</td>\n",
       "      <td>18.0</td>\n",
       "      <td>33.00</td>\n",
       "      <td>40.0</td>\n",
       "      <td>52.00</td>\n",
       "      <td>8.600000e+01</td>\n",
       "    </tr>\n",
       "    <tr>\n",
       "      <th>equity</th>\n",
       "      <td>7705.0</td>\n",
       "      <td>3.395068</td>\n",
       "      <td>1.584477e+00</td>\n",
       "      <td>0.0</td>\n",
       "      <td>2.00</td>\n",
       "      <td>4.0</td>\n",
       "      <td>5.00</td>\n",
       "      <td>9.000000e+00</td>\n",
       "    </tr>\n",
       "    <tr>\n",
       "      <th>balance</th>\n",
       "      <td>7705.0</td>\n",
       "      <td>827794.306510</td>\n",
       "      <td>1.980614e+06</td>\n",
       "      <td>0.0</td>\n",
       "      <td>295554.16</td>\n",
       "      <td>524272.2</td>\n",
       "      <td>980705.85</td>\n",
       "      <td>1.191136e+08</td>\n",
       "    </tr>\n",
       "    <tr>\n",
       "      <th>products</th>\n",
       "      <td>7705.0</td>\n",
       "      <td>2.080986</td>\n",
       "      <td>7.572310e-01</td>\n",
       "      <td>1.0</td>\n",
       "      <td>2.00</td>\n",
       "      <td>2.0</td>\n",
       "      <td>2.00</td>\n",
       "      <td>5.000000e+00</td>\n",
       "    </tr>\n",
       "    <tr>\n",
       "      <th>credit_card</th>\n",
       "      <td>7705.0</td>\n",
       "      <td>0.640104</td>\n",
       "      <td>4.800009e-01</td>\n",
       "      <td>0.0</td>\n",
       "      <td>0.00</td>\n",
       "      <td>1.0</td>\n",
       "      <td>1.00</td>\n",
       "      <td>1.000000e+00</td>\n",
       "    </tr>\n",
       "    <tr>\n",
       "      <th>last_activity</th>\n",
       "      <td>7705.0</td>\n",
       "      <td>0.515769</td>\n",
       "      <td>4.997837e-01</td>\n",
       "      <td>0.0</td>\n",
       "      <td>0.00</td>\n",
       "      <td>1.0</td>\n",
       "      <td>1.00</td>\n",
       "      <td>1.000000e+00</td>\n",
       "    </tr>\n",
       "    <tr>\n",
       "      <th>est_salary</th>\n",
       "      <td>7705.0</td>\n",
       "      <td>124501.872366</td>\n",
       "      <td>1.046635e+05</td>\n",
       "      <td>2546.3</td>\n",
       "      <td>67551.81</td>\n",
       "      <td>106222.2</td>\n",
       "      <td>155045.67</td>\n",
       "      <td>1.395064e+06</td>\n",
       "    </tr>\n",
       "    <tr>\n",
       "      <th>churn</th>\n",
       "      <td>7705.0</td>\n",
       "      <td>0.234523</td>\n",
       "      <td>4.237278e-01</td>\n",
       "      <td>0.0</td>\n",
       "      <td>0.00</td>\n",
       "      <td>0.0</td>\n",
       "      <td>0.00</td>\n",
       "      <td>1.000000e+00</td>\n",
       "    </tr>\n",
       "    <tr>\n",
       "      <th>gen_cod</th>\n",
       "      <td>7705.0</td>\n",
       "      <td>0.483193</td>\n",
       "      <td>4.997499e-01</td>\n",
       "      <td>0.0</td>\n",
       "      <td>0.00</td>\n",
       "      <td>0.0</td>\n",
       "      <td>1.00</td>\n",
       "      <td>1.000000e+00</td>\n",
       "    </tr>\n",
       "    <tr>\n",
       "      <th>jar</th>\n",
       "      <td>7705.0</td>\n",
       "      <td>0.573783</td>\n",
       "      <td>4.945582e-01</td>\n",
       "      <td>0.0</td>\n",
       "      <td>0.00</td>\n",
       "      <td>1.0</td>\n",
       "      <td>1.00</td>\n",
       "      <td>1.000000e+00</td>\n",
       "    </tr>\n",
       "    <tr>\n",
       "      <th>ryb</th>\n",
       "      <td>7705.0</td>\n",
       "      <td>0.272810</td>\n",
       "      <td>4.454328e-01</td>\n",
       "      <td>0.0</td>\n",
       "      <td>0.00</td>\n",
       "      <td>0.0</td>\n",
       "      <td>1.00</td>\n",
       "      <td>1.000000e+00</td>\n",
       "    </tr>\n",
       "    <tr>\n",
       "      <th>rost</th>\n",
       "      <td>7705.0</td>\n",
       "      <td>0.153407</td>\n",
       "      <td>3.604026e-01</td>\n",
       "      <td>0.0</td>\n",
       "      <td>0.00</td>\n",
       "      <td>0.0</td>\n",
       "      <td>0.00</td>\n",
       "      <td>1.000000e+00</td>\n",
       "    </tr>\n",
       "  </tbody>\n",
       "</table>\n",
       "</div>"
      ],
      "text/plain": [
       "                count           mean           std      min        25%  \\\n",
       "userid         7705.0  171738.837508  3.381978e+04  94561.0  142639.00   \n",
       "score          7705.0     843.739260  5.533216e+01    689.0     801.00   \n",
       "age            7695.0      42.924366  1.224401e+01     18.0      33.00   \n",
       "equity         7705.0       3.395068  1.584477e+00      0.0       2.00   \n",
       "balance        7705.0  827794.306510  1.980614e+06      0.0  295554.16   \n",
       "products       7705.0       2.080986  7.572310e-01      1.0       2.00   \n",
       "credit_card    7705.0       0.640104  4.800009e-01      0.0       0.00   \n",
       "last_activity  7705.0       0.515769  4.997837e-01      0.0       0.00   \n",
       "est_salary     7705.0  124501.872366  1.046635e+05   2546.3   67551.81   \n",
       "churn          7705.0       0.234523  4.237278e-01      0.0       0.00   \n",
       "gen_cod        7705.0       0.483193  4.997499e-01      0.0       0.00   \n",
       "jar            7705.0       0.573783  4.945582e-01      0.0       0.00   \n",
       "ryb            7705.0       0.272810  4.454328e-01      0.0       0.00   \n",
       "rost           7705.0       0.153407  3.604026e-01      0.0       0.00   \n",
       "\n",
       "                    50%        75%           max  \n",
       "userid         172740.0  201168.00  2.291360e+05  \n",
       "score             840.0     882.00  1.000000e+03  \n",
       "age                40.0      52.00  8.600000e+01  \n",
       "equity              4.0       5.00  9.000000e+00  \n",
       "balance        524272.2  980705.85  1.191136e+08  \n",
       "products            2.0       2.00  5.000000e+00  \n",
       "credit_card         1.0       1.00  1.000000e+00  \n",
       "last_activity       1.0       1.00  1.000000e+00  \n",
       "est_salary     106222.2  155045.67  1.395064e+06  \n",
       "churn               0.0       0.00  1.000000e+00  \n",
       "gen_cod             0.0       1.00  1.000000e+00  \n",
       "jar                 1.0       1.00  1.000000e+00  \n",
       "ryb                 0.0       1.00  1.000000e+00  \n",
       "rost                0.0       0.00  1.000000e+00  "
      ]
     },
     "execution_count": 12,
     "metadata": {},
     "output_type": "execute_result"
    }
   ],
   "source": [
    "df[df['balance'].notna()].describe().T"
   ]
  },
  {
   "cell_type": "markdown",
   "id": "145dabe9",
   "metadata": {},
   "source": [
    "Пропуски занимают около 23% данных, для понимания дальнейшего формата работы с ними проверяем однородность данных в срезах с пропусками и без пропусков, наблюдаем значительные отличия по параметрам, например:  \n",
    "-  среднее значение объектов в собственности в данных с пропусками - 0,05, медиана - 0, а в данных без пропусков среднее - 3,4, медиана - 4  \n",
    "- среднее количества продуктов в данных с пропусками - 1,16, медиана - 1, а в данных без пропусков  среднее - 2,1, медиана - 2  \n",
    "- средний скоринговый балл в данных с пропусками - 865, медиана - 903, а в данных без пропусков среднее - 843, медиана 840\n",
    "\n",
    "Делаем вывод о значительных различиях в стоках с пропусками в столбце balance и без, что говорит о сильной связи пропусков и данных. Оснований заменить пропуски какими либо данными нет, удалить их так же не можем. Оставляем в том виде, в котором есть."
   ]
  },
  {
   "cell_type": "markdown",
   "id": "9631a61c",
   "metadata": {},
   "source": [
    "### 2. Исследовательский анализ"
   ]
  },
  {
   "cell_type": "code",
   "execution_count": 13,
   "id": "4cbf97ef",
   "metadata": {},
   "outputs": [
    {
     "data": {
      "image/png": "[encoded data removed]",
      "text/plain": [
       "<Figure size 640x480 with 2 Axes>"
      ]
     },
     "metadata": {},
     "output_type": "display_data"
    }
   ],
   "source": [
    "corr = df.corr()\n",
    "sns.heatmap(corr.loc[:,['churn']].drop('churn').sort_values(by = 'churn'), annot = True, fmt = \".0%\", cmap = \"vlag\", center = 0)\n",
    "plt.title('Матрица корреляции признаков с оттоком');"
   ]
  },
  {
   "cell_type": "markdown",
   "id": "806fa463",
   "metadata": {},
   "source": [
    "Определяем линейные зависимости ухода клиента к остальным параметрам. При получении задачи заказчик озвучил, что необходимо рассмотреть все линейные зависимости более 10%.Используя шкалу Чеддока имеем следующие значения:   \n",
    "\n",
    "Умеренная зависимость ухода клиентов к количеству используемых продуктов Банка - 0,3  \n",
    "Слабая зависимость от таких признаков как скоринговый балл (0,11), пол клиента(0,14), активность в последнее время (0,17) и количество объектов в собственности (0,27).  \n",
    "Слабую обратную зависимость имеет наличие кредитной карты (-0,13)\n"
   ]
  },
  {
   "cell_type": "code",
   "execution_count": 14,
   "id": "959d7b85",
   "metadata": {},
   "outputs": [
    {
     "data": {
      "text/html": [
       "<div>\n",
       "<style scoped>\n",
       "    .dataframe tbody tr th:only-of-type {\n",
       "        vertical-align: middle;\n",
       "    }\n",
       "\n",
       "    .dataframe tbody tr th {\n",
       "        vertical-align: top;\n",
       "    }\n",
       "\n",
       "    .dataframe thead th {\n",
       "        text-align: right;\n",
       "    }\n",
       "</style>\n",
       "<table border=\"1\" class=\"dataframe\">\n",
       "  <thead>\n",
       "    <tr style=\"text-align: right;\">\n",
       "      <th></th>\n",
       "      <th>userid</th>\n",
       "      <th>score</th>\n",
       "      <th>age</th>\n",
       "      <th>equity</th>\n",
       "      <th>balance</th>\n",
       "      <th>products</th>\n",
       "      <th>credit_card</th>\n",
       "      <th>last_activity</th>\n",
       "      <th>est_salary</th>\n",
       "      <th>gen_cod</th>\n",
       "      <th>jar</th>\n",
       "      <th>ryb</th>\n",
       "      <th>rost</th>\n",
       "    </tr>\n",
       "    <tr>\n",
       "      <th>churn</th>\n",
       "      <th></th>\n",
       "      <th></th>\n",
       "      <th></th>\n",
       "      <th></th>\n",
       "      <th></th>\n",
       "      <th></th>\n",
       "      <th></th>\n",
       "      <th></th>\n",
       "      <th></th>\n",
       "      <th></th>\n",
       "      <th></th>\n",
       "      <th></th>\n",
       "      <th></th>\n",
       "    </tr>\n",
       "  </thead>\n",
       "  <tbody>\n",
       "    <tr>\n",
       "      <th>0</th>\n",
       "      <td>172004.359046</td>\n",
       "      <td>845.428362</td>\n",
       "      <td>43.020846</td>\n",
       "      <td>2.374817</td>\n",
       "      <td>7.339826e+05</td>\n",
       "      <td>1.757579</td>\n",
       "      <td>0.709169</td>\n",
       "      <td>0.483741</td>\n",
       "      <td>147783.200108</td>\n",
       "      <td>0.467237</td>\n",
       "      <td>0.583252</td>\n",
       "      <td>0.276039</td>\n",
       "      <td>0.140709</td>\n",
       "    </tr>\n",
       "    <tr>\n",
       "      <th>1</th>\n",
       "      <td>170962.345604</td>\n",
       "      <td>863.401099</td>\n",
       "      <td>41.450247</td>\n",
       "      <td>3.763736</td>\n",
       "      <td>1.133993e+06</td>\n",
       "      <td>2.375824</td>\n",
       "      <td>0.551099</td>\n",
       "      <td>0.702198</td>\n",
       "      <td>148243.010198</td>\n",
       "      <td>0.650000</td>\n",
       "      <td>0.613736</td>\n",
       "      <td>0.240110</td>\n",
       "      <td>0.146154</td>\n",
       "    </tr>\n",
       "  </tbody>\n",
       "</table>\n",
       "</div>"
      ],
      "text/plain": [
       "              userid       score        age    equity       balance  products  \\\n",
       "churn                                                                           \n",
       "0      172004.359046  845.428362  43.020846  2.374817  7.339826e+05  1.757579   \n",
       "1      170962.345604  863.401099  41.450247  3.763736  1.133993e+06  2.375824   \n",
       "\n",
       "       credit_card  last_activity     est_salary   gen_cod       jar  \\\n",
       "churn                                                                  \n",
       "0         0.709169       0.483741  147783.200108  0.467237  0.583252   \n",
       "1         0.551099       0.702198  148243.010198  0.650000  0.613736   \n",
       "\n",
       "            ryb      rost  \n",
       "churn                      \n",
       "0      0.276039  0.140709  \n",
       "1      0.240110  0.146154  "
      ]
     },
     "execution_count": 14,
     "metadata": {},
     "output_type": "execute_result"
    }
   ],
   "source": [
    "df.groupby('churn').mean()"
   ]
  },
  {
   "cell_type": "code",
   "execution_count": 15,
   "id": "702d5a52",
   "metadata": {},
   "outputs": [
    {
     "data": {
      "text/plain": [
       "0.182"
      ]
     },
     "execution_count": 15,
     "metadata": {},
     "output_type": "execute_result"
    }
   ],
   "source": [
    "df['churn'].mean()"
   ]
  },
  {
   "cell_type": "markdown",
   "id": "4169c7d6",
   "metadata": {},
   "source": [
    "В датасете 18,2% ушедших пользователей, в среднем, клиенты которые уходят: \n",
    " - имеют выше скоринговый балл - возможно получают более выгодное предложение от конкурентов\n",
    " - меньше средний возраст - возможно более активно пользуются интернетом\n",
    " - имеют больше собственности - возможно более высокий уровень жизни\n",
    " - ниже остаток средств на счете, но тут возможно влияние пропусков\n",
    " - пользуются большим количеством продуктов \n",
    " - менее активно открывают кредитные карты\n",
    " - большая часть активна в последнее время\n",
    " - имеют сопостовимый уровень зароботной платы\n",
    " - доля мужчин больше\n",
    " - соотношение по городам сопоставимо\n",
    "по отношению к средним показателям пользователей, которые остаются клиентами банка"
   ]
  },
  {
   "cell_type": "code",
   "execution_count": 16,
   "id": "d9352727",
   "metadata": {
    "scrolled": false
   },
   "outputs": [
    {
     "data": {
      "image/png": "[encoded data removed]",
      "text/plain": [
       "<Figure size 1500x600 with 1 Axes>"
      ]
     },
     "metadata": {},
     "output_type": "display_data"
    }
   ],
   "source": [
    "plt.figure(figsize=(15, 6))\n",
    "ax = sns.histplot(\n",
    "    data = df[['churn', 'score']],\n",
    "    x='score',\n",
    "    stat='density',\n",
    "    common_norm=False,\n",
    "    hue='churn',\n",
    "    kde=True)\n",
    "ax.set (xlabel='Скоринговый балл',\n",
    " ylabel='Нормированное количество пользователей',\n",
    " title='Нормированное распределение пользователей в зависимости от скорингового балла в разрезе оттока')\n",
    "legend = ax.get_legend()\n",
    "handles = legend.legendHandles\n",
    "legend.remove()\n",
    "ax.legend(handles, ['удержанный клиент', 'ушедший клиент'], title='Характеристика клиента')\n",
    "plt.show()"
   ]
  },
  {
   "cell_type": "code",
   "execution_count": 17,
   "id": "c0217629",
   "metadata": {},
   "outputs": [
    {
     "data": {
      "text/plain": [
       "1730"
      ]
     },
     "execution_count": 17,
     "metadata": {},
     "output_type": "execute_result"
    }
   ],
   "source": [
    "len(df[((df['score']>880)&(df['score']<910))])"
   ]
  },
  {
   "cell_type": "markdown",
   "id": "fb6449a0",
   "metadata": {},
   "source": [
    "Если рассматривать в разрезе скорингового балла, в диапазоне до 825 преоблодание лояльных клиентов, от 825 до 910 - доля уходящих выше, от 910 значения примерно равны, с небольшими перевесами, то в одну, то в другую сторону, в диапазоне 825-910 баллов 1730 клиентов  диапазоне, выделим их в отдельный признак"
   ]
  },
  {
   "cell_type": "code",
   "execution_count": 18,
   "id": "97cb04e8",
   "metadata": {},
   "outputs": [],
   "source": [
    "df['risk_score'] = np.where(((df['score']>880)&(df['score']<910)), 1,0)"
   ]
  },
  {
   "cell_type": "code",
   "execution_count": 19,
   "id": "449093c4",
   "metadata": {
    "scrolled": false
   },
   "outputs": [
    {
     "data": {
      "image/png": "[encoded data removed]",
      "text/plain": [
       "<Figure size 1500x600 with 1 Axes>"
      ]
     },
     "metadata": {},
     "output_type": "display_data"
    }
   ],
   "source": [
    "plt.figure(figsize=(15, 6))\n",
    "ax = sns.histplot(\n",
    "    data = df[['churn', 'age']],\n",
    "    x='age',\n",
    "    bins = 10,\n",
    "    stat='density',\n",
    "    common_norm=False,\n",
    "    hue='churn',\n",
    "    kde=True)\n",
    "ax.set (xlabel='Возраст клиента',\n",
    " ylabel='Нормированное количество пользователей',\n",
    " title='Нормированное распределение пользователей в зависимости от возраста в разрезе оттока')\n",
    "legend = ax.get_legend()\n",
    "handles = legend.legendHandles\n",
    "legend.remove()\n",
    "ax.legend(handles, ['удержанный клиент', 'ушедший клиент'], title='Характеристика клиента')\n",
    "plt.show()"
   ]
  },
  {
   "cell_type": "code",
   "execution_count": 20,
   "id": "85895a07",
   "metadata": {},
   "outputs": [
    {
     "data": {
      "text/plain": [
       "3301"
      ]
     },
     "execution_count": 20,
     "metadata": {},
     "output_type": "execute_result"
    }
   ],
   "source": [
    "len(df[((df['age']>25)&(df['age']<35))|((df['age']>54)&(df['age']<60))])"
   ]
  },
  {
   "cell_type": "markdown",
   "id": "0bf382c3",
   "metadata": {},
   "source": [
    "В распределении по возрасту доля уходящих немного выше в диапазоне 25-35 лет и преобладает в 54-60 лет, суммарно 3350  клиентов попадают в диапазоны"
   ]
  },
  {
   "cell_type": "code",
   "execution_count": 21,
   "id": "0e06c2ad",
   "metadata": {},
   "outputs": [],
   "source": [
    "df['risk_age'] = np.where(((df['age']>25)&(df['age']<35))|((df['age']>54)&(df['age']<60)), 1,0)"
   ]
  },
  {
   "cell_type": "code",
   "execution_count": 69,
   "id": "9faec844",
   "metadata": {},
   "outputs": [
    {
     "data": {
      "image/png": "[encoded data removed]",
      "text/plain": [
       "<Figure size 1500x600 with 1 Axes>"
      ]
     },
     "metadata": {},
     "output_type": "display_data"
    }
   ],
   "source": [
    "plt.figure(figsize=(15, 6))\n",
    "ax = sns.barplot(x='equity', y='churn', data=df)\n",
    "ax.axhline(df['churn'].mean())\n",
    "ax.set_title( 'Доля уходящих клиентов в зависимости от количества объектов в собственности' )\n",
    "ax.set_xlabel( 'Количество объектов в собственности'  )\n",
    "ax.set_ylabel( 'Доля уходящих пользователей в группе'  );"
   ]
  },
  {
   "cell_type": "code",
   "execution_count": 22,
   "id": "71f027cb",
   "metadata": {},
   "outputs": [
    {
     "data": {
      "image/png": "[encoded data removed]",
      "text/plain": [
       "<Figure size 1500x600 with 1 Axes>"
      ]
     },
     "metadata": {},
     "output_type": "display_data"
    }
   ],
   "source": [
    "df_equity = df.groupby('equity').agg({'userid':'count', 'churn':'sum'})\n",
    "fig, ax = plt.subplots(figsize=(15, 6))\n",
    "sns.barplot(x=df_equity.index, y='userid', data=df_equity, color='steelblue', ax=ax)\n",
    "sns.barplot(x=df_equity.index, y='churn', data=df_equity, color='orange', linewidth=2.5, edgecolor='black', ax=ax)\n",
    "ax.set_title( 'Доля уходящих клиентов в зависимости от количества объектов в собственности' )\n",
    "ax.set_xlabel( 'Количество объектов в собственности'  )\n",
    "ax.set_ylabel( 'Количество пользователей'  );"
   ]
  },
  {
   "cell_type": "code",
   "execution_count": 23,
   "id": "79e93c61",
   "metadata": {},
   "outputs": [
    {
     "data": {
      "text/plain": [
       "5582"
      ]
     },
     "execution_count": 23,
     "metadata": {},
     "output_type": "execute_result"
    }
   ],
   "source": [
    "len(df[df['equity']>=3])"
   ]
  },
  {
   "cell_type": "markdown",
   "id": "e07a60c2",
   "metadata": {},
   "source": [
    "чаще уходят клиенты, у которых более 2 объектов в собственности, в датасете их 5582"
   ]
  },
  {
   "cell_type": "code",
   "execution_count": 24,
   "id": "0bc1a22a",
   "metadata": {},
   "outputs": [],
   "source": [
    "df['risk_equity'] = np.where((df['equity']>3), 1,0)"
   ]
  },
  {
   "cell_type": "code",
   "execution_count": 25,
   "id": "c0b5d2e2",
   "metadata": {},
   "outputs": [
    {
     "data": {
      "image/png": "[encoded data removed]",
      "text/plain": [
       "<Figure size 1500x600 with 1 Axes>"
      ]
     },
     "metadata": {},
     "output_type": "display_data"
    }
   ],
   "source": [
    "df_city = df.groupby('city').agg({'userid':'count', 'churn':'sum'})\n",
    "fig, ax = plt.subplots(figsize=(15, 6))\n",
    "sns.barplot(x=df_city.index, y='userid', data=df_city, color='steelblue', ax=ax)\n",
    "sns.barplot(x=df_city.index, y='churn', data=df_city, color='orange', linewidth=2.5, edgecolor='black', ax=ax)\n",
    "ax.set_title( 'Доля уходящих клиентов в зависимости от города' )\n",
    "ax.set_xlabel( 'Город'  )\n",
    "ax.set_ylabel( 'Количество пользователей'  );"
   ]
  },
  {
   "cell_type": "code",
   "execution_count": 26,
   "id": "0ea1b0da",
   "metadata": {},
   "outputs": [
    {
     "data": {
      "text/plain": [
       "5888"
      ]
     },
     "execution_count": 26,
     "metadata": {},
     "output_type": "execute_result"
    }
   ],
   "source": [
    "len(df[df['jar']==1])"
   ]
  },
  {
   "cell_type": "markdown",
   "id": "afd8912f",
   "metadata": {},
   "source": [
    "Среди городов небольшое преоблодание лояльных клиентов в Рыбинске, а доля уходящих чуть выше в Ярославле. В Ростове ситация средняя по датасету. 5905 клиентов из Ярославля"
   ]
  },
  {
   "cell_type": "code",
   "execution_count": 27,
   "id": "05b735a3",
   "metadata": {
    "scrolled": false
   },
   "outputs": [
    {
     "data": {
      "image/png": "[encoded data removed]",
      "text/plain": [
       "<Figure size 1500x600 with 1 Axes>"
      ]
     },
     "metadata": {},
     "output_type": "display_data"
    }
   ],
   "source": [
    "df_gender = df.groupby('gender').agg({'userid':'count', 'churn':'sum'})\n",
    "fig, ax = plt.subplots(figsize=(15, 6))\n",
    "sns.barplot(x=df_gender.index, y='userid', data=df_gender, color='steelblue', ax=ax)\n",
    "sns.barplot(x=df_gender.index, y='churn', data=df_gender, color='orange', linewidth=2.5, edgecolor='black', ax=ax)\n",
    "ax.set_title( 'Доля уходящих клиентов в зависимости от пола' )\n",
    "ax.set_xlabel( 'Пол'  )\n",
    "ax.set_ylabel( 'Количество пользователей'  );"
   ]
  },
  {
   "cell_type": "code",
   "execution_count": 28,
   "id": "a7d24e23",
   "metadata": {},
   "outputs": [
    {
     "data": {
      "text/plain": [
       "5005"
      ]
     },
     "execution_count": 28,
     "metadata": {},
     "output_type": "execute_result"
    }
   ],
   "source": [
    "len(df[df['gen_cod']==1])"
   ]
  },
  {
   "cell_type": "markdown",
   "id": "f231e3aa",
   "metadata": {},
   "source": [
    "Клиентов мужчин чуть больше, но среди них и больше уходящих, меньшинство женщин более лояльно. 5007 мужчин"
   ]
  },
  {
   "cell_type": "code",
   "execution_count": 29,
   "id": "62da57ab",
   "metadata": {},
   "outputs": [
    {
     "data": {
      "text/plain": [
       "2.01"
      ]
     },
     "execution_count": 29,
     "metadata": {},
     "output_type": "execute_result"
    }
   ],
   "source": [
    "len(df[df['balance']>3000000])*100/len(df)"
   ]
  },
  {
   "cell_type": "code",
   "execution_count": 30,
   "id": "7f93c1c1",
   "metadata": {
    "scrolled": false
   },
   "outputs": [
    {
     "data": {
      "image/png": "[encoded data removed]",
      "text/plain": [
       "<Figure size 1500x600 with 1 Axes>"
      ]
     },
     "metadata": {},
     "output_type": "display_data"
    }
   ],
   "source": [
    "df_lim = df[df['balance']<=3000000]\n",
    "plt.figure(figsize=(15, 6))\n",
    "ax = sns.histplot(\n",
    "    data = df_lim[['churn', 'balance']],\n",
    "    x='balance',\n",
    "    stat='density',\n",
    "    common_norm=False,\n",
    "    hue='churn',\n",
    "    kde=True)\n",
    "ax.set (xlabel='Текущий баланс',\n",
    " ylabel='Нормированное количество пользователей',\n",
    " title='Нормированное распределение пользователей в зависимости от баланса в разрезе оттока')\n",
    "legend = ax.get_legend()\n",
    "handles = legend.legendHandles\n",
    "legend.remove()\n",
    "ax.legend(handles, ['удержанный клиент', 'ушедший клиент'], title='Характеристика клиента')\n",
    "plt.show()"
   ]
  },
  {
   "cell_type": "code",
   "execution_count": 31,
   "id": "a6abb3b9",
   "metadata": {},
   "outputs": [
    {
     "data": {
      "text/plain": [
       "2510"
      ]
     },
     "execution_count": 31,
     "metadata": {},
     "output_type": "execute_result"
    }
   ],
   "source": [
    "len(df[df['balance']>800000])"
   ]
  },
  {
   "cell_type": "markdown",
   "id": "8f196bc3",
   "metadata": {},
   "source": [
    "Клиентов с балансом выше 3 млн около 2% датасета, но они уменьшают масштаб графика таким образом, что им невозможно воспользоваться. После их отсечения общая динамика становиться наглядной - среди клиентов с балансом выше 800 тыс доля уходящих выше. Таких в датасете 2510."
   ]
  },
  {
   "cell_type": "code",
   "execution_count": 32,
   "id": "c543800e",
   "metadata": {},
   "outputs": [
    {
     "data": {
      "text/plain": [
       "0.0"
      ]
     },
     "execution_count": 32,
     "metadata": {},
     "output_type": "execute_result"
    }
   ],
   "source": [
    "np.percentile(df[df['balance'].isna()]['churn'], 95)"
   ]
  },
  {
   "cell_type": "markdown",
   "id": "bff0748d",
   "metadata": {},
   "source": [
    "более 95% пользователей с отсутствующими данными не уходят из банка, отнесем их к категории до 800 тыс и заменим пропуски на 0"
   ]
  },
  {
   "cell_type": "code",
   "execution_count": 33,
   "id": "0311de73",
   "metadata": {},
   "outputs": [],
   "source": [
    "#df['balance'] = df['balance'].fillna(0)"
   ]
  },
  {
   "cell_type": "code",
   "execution_count": 34,
   "id": "9dd8c7bc",
   "metadata": {},
   "outputs": [],
   "source": [
    "df['risk_balance'] = np.where((df['balance']>800000), 1,0)"
   ]
  },
  {
   "cell_type": "code",
   "execution_count": 70,
   "id": "a6776ee0",
   "metadata": {},
   "outputs": [
    {
     "data": {
      "image/png": "[encoded data removed]",
      "text/plain": [
       "<Figure size 1500x600 with 1 Axes>"
      ]
     },
     "metadata": {},
     "output_type": "display_data"
    }
   ],
   "source": [
    "plt.figure(figsize=(15, 6))\n",
    "ax = sns.barplot(x='products', y='churn', data=df)\n",
    "ax.axhline(df['churn'].mean())\n",
    "ax.set_title( 'Доля уходящих клиентов в зависимости от количества продуктов банка' )\n",
    "ax.set_xlabel( 'количество продуктов банка'  )\n",
    "ax.set_ylabel( 'Доля уходящих пользователей в группе'  );"
   ]
  },
  {
   "cell_type": "code",
   "execution_count": 35,
   "id": "e7d3b9cb",
   "metadata": {},
   "outputs": [
    {
     "data": {
      "image/png": "[encoded data removed]",
      "text/plain": [
       "<Figure size 1500x600 with 1 Axes>"
      ]
     },
     "metadata": {},
     "output_type": "display_data"
    }
   ],
   "source": [
    "df_products = df.groupby('products').agg({'userid':'count', 'churn':'sum'})\n",
    "fig, ax = plt.subplots(figsize=(15, 6))\n",
    "sns.barplot(x=df_products.index, y='userid', data=df_products, color='steelblue', ax=ax)\n",
    "sns.barplot(x=df_products.index, y='churn', data=df_products, color='orange', linewidth=2.5, edgecolor='black', ax=ax)\n",
    "ax.set_title( 'Доля уходящих клиентов в зависимости от количества продуктов банка' )\n",
    "ax.set_xlabel( 'количество продуктов банка'  )\n",
    "ax.set_ylabel( 'Количество пользователей'  );"
   ]
  },
  {
   "cell_type": "code",
   "execution_count": 36,
   "id": "51b6158b",
   "metadata": {},
   "outputs": [
    {
     "data": {
      "text/plain": [
       "6658"
      ]
     },
     "execution_count": 36,
     "metadata": {},
     "output_type": "execute_result"
    }
   ],
   "source": [
    "len(df[df['products']>=2])"
   ]
  },
  {
   "cell_type": "markdown",
   "id": "f95ba526",
   "metadata": {},
   "source": [
    "доля уходящих повышается с увеличением количества используемых продуктов,  более 2 - в зоне риска. 6658 клиента"
   ]
  },
  {
   "cell_type": "code",
   "execution_count": 37,
   "id": "b9d096fc",
   "metadata": {},
   "outputs": [],
   "source": [
    "df['risk_products'] = np.where((df['products']>2), 1,0)"
   ]
  },
  {
   "cell_type": "code",
   "execution_count": 38,
   "id": "07391bce",
   "metadata": {},
   "outputs": [
    {
     "data": {
      "image/png": "[encoded data removed]",
      "text/plain": [
       "<Figure size 1500x600 with 1 Axes>"
      ]
     },
     "metadata": {},
     "output_type": "display_data"
    }
   ],
   "source": [
    "df_credit_card = df.groupby('credit_card').agg({'userid':'count', 'churn':'sum'})\n",
    "fig, ax = plt.subplots(figsize=(15, 6))\n",
    "sns.barplot(x=df_credit_card.index, y='userid', data=df_credit_card, color='steelblue', ax=ax)\n",
    "sns.barplot(x=df_credit_card.index, y='churn', data=df_credit_card, color='orange', linewidth=2.5, edgecolor='black', ax=ax)\n",
    "ax.set_title( 'Доля уходящих клиентов в зависимости от наличия кредитной карты' )\n",
    "ax.set_xlabel( 'Признак наличия кредитной карты'  )\n",
    "ax.set_ylabel( 'Количество пользователей'  );"
   ]
  },
  {
   "cell_type": "code",
   "execution_count": 39,
   "id": "c376cd73",
   "metadata": {},
   "outputs": [
    {
     "data": {
      "text/plain": [
       "3196"
      ]
     },
     "execution_count": 39,
     "metadata": {},
     "output_type": "execute_result"
    }
   ],
   "source": [
    "len(df[df['credit_card']==0])"
   ]
  },
  {
   "cell_type": "markdown",
   "id": "26632571",
   "metadata": {},
   "source": [
    "Среди владельцев кредитных карт лояльность выше. 3196 клиентов не имеют кредитной карты."
   ]
  },
  {
   "cell_type": "code",
   "execution_count": 40,
   "id": "d632fed8",
   "metadata": {},
   "outputs": [
    {
     "data": {
      "image/png": "[encoded data removed]",
      "text/plain": [
       "<Figure size 1500x600 with 1 Axes>"
      ]
     },
     "metadata": {},
     "output_type": "display_data"
    }
   ],
   "source": [
    "df_last_activity = df.groupby('last_activity').agg({'userid':'count', 'churn':'sum'})\n",
    "fig, ax = plt.subplots(figsize=(15, 6))\n",
    "sns.barplot(x=df_last_activity.index, y='userid', data=df_last_activity, color='steelblue', ax=ax)\n",
    "sns.barplot(x=df_last_activity.index, y='churn', data=df_last_activity, color='orange', linewidth=2.5, edgecolor='black', ax=ax)\n",
    "ax.set_title( 'Доля уходящих клиентов в зависимости от активности последнее время' )\n",
    "ax.set_xlabel( 'Признак активности последнее время'  )\n",
    "ax.set_ylabel( 'Количество пользователей'  );"
   ]
  },
  {
   "cell_type": "markdown",
   "id": "f5306a1e",
   "metadata": {},
   "source": [
    "Как это ни странно, чаще уходят пользователи, активные в последнее время. Хотя возможно, что действия по закрытию счету система тоже интерпритирует как активность."
   ]
  },
  {
   "cell_type": "code",
   "execution_count": 41,
   "id": "2fe250a2",
   "metadata": {},
   "outputs": [
    {
     "data": {
      "text/plain": [
       "3.37"
      ]
     },
     "execution_count": 41,
     "metadata": {},
     "output_type": "execute_result"
    }
   ],
   "source": [
    "len(df[df['est_salary']>400000])*100/len(df)"
   ]
  },
  {
   "cell_type": "code",
   "execution_count": 42,
   "id": "7e0ca6f4",
   "metadata": {
    "scrolled": false
   },
   "outputs": [
    {
     "data": {
      "image/png": "[encoded data removed]",
      "text/plain": [
       "<Figure size 1500x600 with 1 Axes>"
      ]
     },
     "metadata": {},
     "output_type": "display_data"
    }
   ],
   "source": [
    "df_lim = df[df['est_salary']<=400000]\n",
    "plt.figure(figsize=(15, 6))\n",
    "ax = sns.histplot(\n",
    "    data = df_lim[['churn', 'est_salary']],\n",
    "    x='est_salary',\n",
    "    bins = 20,\n",
    "    stat='density',\n",
    "    common_norm=False,\n",
    "    hue='churn',\n",
    "    kde=True)\n",
    "ax.set (xlabel='Доход клиента',\n",
    " ylabel='Нормированное количество пользователей',\n",
    " title='Нормированное распределение пользователей в зависимости от дохода в разрезе оттока')\n",
    "legend = ax.get_legend()\n",
    "handles = legend.legendHandles\n",
    "legend.remove()\n",
    "ax.legend(handles, ['удержанный клиент', 'ушедший клиент'], title='Характеристика клиента')\n",
    "plt.show()\n"
   ]
  },
  {
   "cell_type": "code",
   "execution_count": 43,
   "id": "a24851aa",
   "metadata": {},
   "outputs": [
    {
     "data": {
      "text/plain": [
       "4721"
      ]
     },
     "execution_count": 43,
     "metadata": {},
     "output_type": "execute_result"
    }
   ],
   "source": [
    "len(df[((df['est_salary']>=100000)&(df['est_salary']<=220000))])"
   ]
  },
  {
   "cell_type": "markdown",
   "id": "8219e2be",
   "metadata": {},
   "source": [
    "Откинув 3,5% пользователей с доходом выше 400 тыс, наблюдаем, что в диапазоне от 100 до 220 тыс доля уходящих выше. 4721"
   ]
  },
  {
   "cell_type": "code",
   "execution_count": 44,
   "id": "8c65684f",
   "metadata": {},
   "outputs": [],
   "source": [
    "df['risk_salary'] = np.where((df['est_salary']>=100000)&(df['est_salary']<=220000), 1,0)"
   ]
  },
  {
   "cell_type": "markdown",
   "id": "4a659b7e",
   "metadata": {},
   "source": [
    "### 3. Проверка гипотез"
   ]
  },
  {
   "cell_type": "markdown",
   "id": "2f5930f4",
   "metadata": {},
   "source": [
    "#### Гипотеза о разнице дохода\n",
    "Сформулируем гипотезу:  \n",
    "H_0: Доход клиентов(est_salary) которые ушли = Доход клиентов(est_salary) которые остались  \n",
    "\n",
    "H_a: Доход клиентов(est_salary) которые ушли ≠ Доход клиентов(est_salary) которые остались\n",
    "alpha = 0.05  \n",
    "Таким образом задача сводится к проверке гипотезы о равнстве средних двух генеральных совокупностей, применим для решения тест Стьюдента (st.ttest). Проверим необходимые для его корректного использования ограничения:  \n",
    "1. Генеральные совокупности не должны зависеть друг от друга - у нас один файл, но абсолютно разные клиенты, у каждого свои параметры, таким образом считаем, что совокупности не зависимы\n",
    "2. Выборочные средние должны быть нормально распределены, для генеральных совокупностей это условие у нас не соблюдается, но количество объектов в них более 100 значений в каждой, таким образом выборочные средние, которые можно получить из одной и той же генеральной совокупности, будут распределены нормально вокруг истинного среднего этой совокупности. \n",
    "3. Дисперсии рассматриваемых генеральных совокупностей должны быть равны. Этот параметр в st.ttest регулируется значением equal_var, в нашем случае размеры выборок значительно отличаются друг от друга, и нет основания пологать, что они имеют одинаковые дисперсии, поэтому установим этот параметр в значение False"
   ]
  },
  {
   "cell_type": "code",
   "execution_count": 45,
   "id": "92cd67f1",
   "metadata": {},
   "outputs": [
    {
     "name": "stdout",
     "output_type": "stream",
     "text": [
      "0.8887054822123845\n",
      "Не получилось отвергнуть нулевую гипотезу\n"
     ]
    }
   ],
   "source": [
    "results = (st.ttest_ind(\n",
    "    df.loc[df['churn'] == 1, 'est_salary'],\n",
    "    df.loc[df['churn'] == 0, 'est_salary'], \n",
    "    equal_var = False)) #  вызов метода для проверки гипотезы\n",
    "\n",
    "alpha = 0.05 #задайте значение уровня значимости\n",
    "\n",
    "print(results.pvalue) # вывод значения p-value на экран \n",
    "if results.pvalue<alpha:\n",
    "    print('Отвергаем нулевую гипотезу')\n",
    "else:\n",
    "    print('Не получилось отвергнуть нулевую гипотезу')\n",
    "    \n",
    "    "
   ]
  },
  {
   "cell_type": "markdown",
   "id": "7794a84f",
   "metadata": {},
   "source": [
    "Таким образом нет оснований полагать, что есть статистически значимая разность в уровне дохода клиентов которые ушли."
   ]
  },
  {
   "cell_type": "markdown",
   "id": "eaea2286",
   "metadata": {},
   "source": [
    "#### Гипотеза о разнице баланса\n",
    "Сформулируем гипотезу:\n",
    "H_0: Баланс клиентов(balance) которые ушли = Баланс клиентов(balance) которые остались\n",
    "\n",
    "H_a: Баланс клиентов(balance) которые ушли ≠ Баланс клиентов(balance) которые остались  \n",
    "alpha = 0.05  \n",
    "Таким образом задача сводится к проверке гипотезы о равнстве средних двух генеральных совокупностей, применим для решения тест Стьюдента (st.ttest). Проверим необходимые для его корректного использования ограничения:\n",
    "\n",
    "Генеральные совокупности не должны зависеть друг от друга - у нас один файл, но абсолютно разные клиенты, у каждого свои параметры, таким образом считаем, что совокупности не зависимы\n",
    "Выборочные средние должны быть нормально распределены, для генеральных совокупностей это условие у нас не соблюдается, но количество объектов в них более 100 значений в каждой, таким образом выборочные средние, которые можно получить из одной и той же генеральной совокупности, будут распределены нормально вокруг истинного среднего этой совокупности.\n",
    "Дисперсии рассматриваемых генеральных совокупностей должны быть равны. Этот параметр в st.ttest регулируется значением equal_var, в нашем случае размеры выборок значительно отличаются друг от друга, и нет основания пологать, что они имеют одинаковые дисперсии, поэтому установим этот параметр в значение False"
   ]
  },
  {
   "cell_type": "code",
   "execution_count": 46,
   "id": "dc7f7d99",
   "metadata": {},
   "outputs": [
    {
     "name": "stdout",
     "output_type": "stream",
     "text": [
      "nan\n",
      "Не получилось отвергнуть нулевую гипотезу\n"
     ]
    }
   ],
   "source": [
    "results = (st.ttest_ind(\n",
    "    df.loc[df['churn'] == 1, 'balance'],\n",
    "    df.loc[df['churn'] == 0, 'balance'], \n",
    "    equal_var = False)) #  вызов метода для проверки гипотезы\n",
    "\n",
    "alpha = 0.05 #задайте значение уровня значимости\n",
    "\n",
    "print(results.pvalue) # вывод значения p-value на экран \n",
    "if results.pvalue<alpha:\n",
    "    print('Отвергаем нулевую гипотезу')\n",
    "else:\n",
    "    print('Не получилось отвергнуть нулевую гипотезу')"
   ]
  },
  {
   "cell_type": "markdown",
   "id": "3fceab00",
   "metadata": {},
   "source": [
    "Таким образом нет оснований полагать что баланс клиентов которые ушли равен балансу клиентов которые остались"
   ]
  },
  {
   "cell_type": "markdown",
   "id": "ceda1554",
   "metadata": {},
   "source": [
    "### 4 Сегментация"
   ]
  },
  {
   "cell_type": "markdown",
   "id": "d92c93f3",
   "metadata": {},
   "source": [
    "Статистически значимым  и максимально важным для банка является признак текущего балланса клиента - судя по предедущему анализу, из банка уходят клиенты с большим остатком на счетах, таким образом ушеньшая размер собственных активов Банка, рассмотрим эту категорию в среднем."
   ]
  },
  {
   "cell_type": "code",
   "execution_count": 47,
   "id": "2dda509b",
   "metadata": {
    "scrolled": true
   },
   "outputs": [
    {
     "data": {
      "text/html": [
       "<div>\n",
       "<style scoped>\n",
       "    .dataframe tbody tr th:only-of-type {\n",
       "        vertical-align: middle;\n",
       "    }\n",
       "\n",
       "    .dataframe tbody tr th {\n",
       "        vertical-align: top;\n",
       "    }\n",
       "\n",
       "    .dataframe thead th {\n",
       "        text-align: right;\n",
       "    }\n",
       "</style>\n",
       "<table border=\"1\" class=\"dataframe\">\n",
       "  <thead>\n",
       "    <tr style=\"text-align: right;\">\n",
       "      <th></th>\n",
       "      <th>userid</th>\n",
       "      <th>score</th>\n",
       "      <th>age</th>\n",
       "      <th>equity</th>\n",
       "      <th>balance</th>\n",
       "      <th>products</th>\n",
       "      <th>credit_card</th>\n",
       "      <th>last_activity</th>\n",
       "      <th>est_salary</th>\n",
       "      <th>churn</th>\n",
       "      <th>gen_cod</th>\n",
       "      <th>jar</th>\n",
       "      <th>ryb</th>\n",
       "      <th>rost</th>\n",
       "      <th>risk_score</th>\n",
       "      <th>risk_age</th>\n",
       "      <th>risk_equity</th>\n",
       "      <th>risk_products</th>\n",
       "      <th>risk_salary</th>\n",
       "    </tr>\n",
       "    <tr>\n",
       "      <th>risk_balance</th>\n",
       "      <th></th>\n",
       "      <th></th>\n",
       "      <th></th>\n",
       "      <th></th>\n",
       "      <th></th>\n",
       "      <th></th>\n",
       "      <th></th>\n",
       "      <th></th>\n",
       "      <th></th>\n",
       "      <th></th>\n",
       "      <th></th>\n",
       "      <th></th>\n",
       "      <th></th>\n",
       "      <th></th>\n",
       "      <th></th>\n",
       "      <th></th>\n",
       "      <th></th>\n",
       "      <th></th>\n",
       "      <th></th>\n",
       "    </tr>\n",
       "  </thead>\n",
       "  <tbody>\n",
       "    <tr>\n",
       "      <th>0</th>\n",
       "      <td>171370.193992</td>\n",
       "      <td>841.425901</td>\n",
       "      <td>41.875184</td>\n",
       "      <td>2.116956</td>\n",
       "      <td>3.815416e+05</td>\n",
       "      <td>1.736716</td>\n",
       "      <td>0.724433</td>\n",
       "      <td>0.522563</td>\n",
       "      <td>141106.631123</td>\n",
       "      <td>0.124433</td>\n",
       "      <td>0.496662</td>\n",
       "      <td>0.582911</td>\n",
       "      <td>0.272630</td>\n",
       "      <td>0.144459</td>\n",
       "      <td>0.158211</td>\n",
       "      <td>0.348331</td>\n",
       "      <td>0.291455</td>\n",
       "      <td>0.111081</td>\n",
       "      <td>0.449933</td>\n",
       "    </tr>\n",
       "    <tr>\n",
       "      <th>1</th>\n",
       "      <td>173141.184462</td>\n",
       "      <td>870.403984</td>\n",
       "      <td>45.293578</td>\n",
       "      <td>4.151394</td>\n",
       "      <td>1.751413e+06</td>\n",
       "      <td>2.268127</td>\n",
       "      <td>0.549004</td>\n",
       "      <td>0.526295</td>\n",
       "      <td>168039.915669</td>\n",
       "      <td>0.353785</td>\n",
       "      <td>0.511952</td>\n",
       "      <td>0.606375</td>\n",
       "      <td>0.260159</td>\n",
       "      <td>0.133466</td>\n",
       "      <td>0.217131</td>\n",
       "      <td>0.275697</td>\n",
       "      <td>0.739442</td>\n",
       "      <td>0.278884</td>\n",
       "      <td>0.538247</td>\n",
       "    </tr>\n",
       "  </tbody>\n",
       "</table>\n",
       "</div>"
      ],
      "text/plain": [
       "                     userid       score        age    equity       balance  \\\n",
       "risk_balance                                                                 \n",
       "0             171370.193992  841.425901  41.875184  2.116956  3.815416e+05   \n",
       "1             173141.184462  870.403984  45.293578  4.151394  1.751413e+06   \n",
       "\n",
       "              products  credit_card  last_activity     est_salary     churn  \\\n",
       "risk_balance                                                                  \n",
       "0             1.736716     0.724433       0.522563  141106.631123  0.124433   \n",
       "1             2.268127     0.549004       0.526295  168039.915669  0.353785   \n",
       "\n",
       "               gen_cod       jar       ryb      rost  risk_score  risk_age  \\\n",
       "risk_balance                                                                 \n",
       "0             0.496662  0.582911  0.272630  0.144459    0.158211  0.348331   \n",
       "1             0.511952  0.606375  0.260159  0.133466    0.217131  0.275697   \n",
       "\n",
       "              risk_equity  risk_products  risk_salary  \n",
       "risk_balance                                           \n",
       "0                0.291455       0.111081     0.449933  \n",
       "1                0.739442       0.278884     0.538247  "
      ]
     },
     "execution_count": 47,
     "metadata": {},
     "output_type": "execute_result"
    }
   ],
   "source": [
    "df.groupby('risk_balance').mean()"
   ]
  },
  {
   "cell_type": "code",
   "execution_count": 48,
   "id": "84dc3fad",
   "metadata": {
    "scrolled": true
   },
   "outputs": [
    {
     "data": {
      "text/plain": [
       "risk_balance\n",
       "0    7490\n",
       "1    2510\n",
       "Name: userid, dtype: int64"
      ]
     },
     "execution_count": 48,
     "metadata": {},
     "output_type": "execute_result"
    }
   ],
   "source": [
    "df.groupby('risk_balance')['userid'].count()"
   ]
  },
  {
   "cell_type": "code",
   "execution_count": 49,
   "id": "2c5a02ef",
   "metadata": {},
   "outputs": [
    {
     "data": {
      "text/html": [
       "<div>\n",
       "<style scoped>\n",
       "    .dataframe tbody tr th:only-of-type {\n",
       "        vertical-align: middle;\n",
       "    }\n",
       "\n",
       "    .dataframe tbody tr th {\n",
       "        vertical-align: top;\n",
       "    }\n",
       "\n",
       "    .dataframe thead th {\n",
       "        text-align: right;\n",
       "    }\n",
       "</style>\n",
       "<table border=\"1\" class=\"dataframe\">\n",
       "  <thead>\n",
       "    <tr style=\"text-align: right;\">\n",
       "      <th></th>\n",
       "      <th>userid</th>\n",
       "      <th>score</th>\n",
       "      <th>age</th>\n",
       "      <th>equity</th>\n",
       "      <th>balance</th>\n",
       "      <th>products</th>\n",
       "      <th>credit_card</th>\n",
       "      <th>last_activity</th>\n",
       "      <th>est_salary</th>\n",
       "      <th>churn</th>\n",
       "      <th>gen_cod</th>\n",
       "      <th>jar</th>\n",
       "      <th>ryb</th>\n",
       "      <th>rost</th>\n",
       "      <th>risk_score</th>\n",
       "      <th>risk_age</th>\n",
       "      <th>risk_equity</th>\n",
       "      <th>risk_products</th>\n",
       "      <th>risk_salary</th>\n",
       "    </tr>\n",
       "    <tr>\n",
       "      <th>risk_balance</th>\n",
       "      <th></th>\n",
       "      <th></th>\n",
       "      <th></th>\n",
       "      <th></th>\n",
       "      <th></th>\n",
       "      <th></th>\n",
       "      <th></th>\n",
       "      <th></th>\n",
       "      <th></th>\n",
       "      <th></th>\n",
       "      <th></th>\n",
       "      <th></th>\n",
       "      <th></th>\n",
       "      <th></th>\n",
       "      <th></th>\n",
       "      <th></th>\n",
       "      <th></th>\n",
       "      <th></th>\n",
       "      <th></th>\n",
       "    </tr>\n",
       "  </thead>\n",
       "  <tbody>\n",
       "    <tr>\n",
       "      <th>0</th>\n",
       "      <td>171945.5</td>\n",
       "      <td>843.0</td>\n",
       "      <td>39.0</td>\n",
       "      <td>2.0</td>\n",
       "      <td>366885.980</td>\n",
       "      <td>2.0</td>\n",
       "      <td>1.0</td>\n",
       "      <td>1.0</td>\n",
       "      <td>113259.21</td>\n",
       "      <td>0.0</td>\n",
       "      <td>0.0</td>\n",
       "      <td>1.0</td>\n",
       "      <td>0.0</td>\n",
       "      <td>0.0</td>\n",
       "      <td>0.0</td>\n",
       "      <td>0.0</td>\n",
       "      <td>0.0</td>\n",
       "      <td>0.0</td>\n",
       "      <td>0.0</td>\n",
       "    </tr>\n",
       "    <tr>\n",
       "      <th>1</th>\n",
       "      <td>174387.0</td>\n",
       "      <td>877.0</td>\n",
       "      <td>43.0</td>\n",
       "      <td>4.0</td>\n",
       "      <td>1232389.985</td>\n",
       "      <td>2.0</td>\n",
       "      <td>1.0</td>\n",
       "      <td>1.0</td>\n",
       "      <td>137366.84</td>\n",
       "      <td>0.0</td>\n",
       "      <td>1.0</td>\n",
       "      <td>1.0</td>\n",
       "      <td>0.0</td>\n",
       "      <td>0.0</td>\n",
       "      <td>0.0</td>\n",
       "      <td>0.0</td>\n",
       "      <td>1.0</td>\n",
       "      <td>0.0</td>\n",
       "      <td>1.0</td>\n",
       "    </tr>\n",
       "  </tbody>\n",
       "</table>\n",
       "</div>"
      ],
      "text/plain": [
       "                userid  score   age  equity      balance  products  \\\n",
       "risk_balance                                                         \n",
       "0             171945.5  843.0  39.0     2.0   366885.980       2.0   \n",
       "1             174387.0  877.0  43.0     4.0  1232389.985       2.0   \n",
       "\n",
       "              credit_card  last_activity  est_salary  churn  gen_cod  jar  \\\n",
       "risk_balance                                                                \n",
       "0                     1.0            1.0   113259.21    0.0      0.0  1.0   \n",
       "1                     1.0            1.0   137366.84    0.0      1.0  1.0   \n",
       "\n",
       "              ryb  rost  risk_score  risk_age  risk_equity  risk_products  \\\n",
       "risk_balance                                                                \n",
       "0             0.0   0.0         0.0       0.0          0.0            0.0   \n",
       "1             0.0   0.0         0.0       0.0          1.0            0.0   \n",
       "\n",
       "              risk_salary  \n",
       "risk_balance               \n",
       "0                     0.0  \n",
       "1                     1.0  "
      ]
     },
     "execution_count": 49,
     "metadata": {},
     "output_type": "execute_result"
    }
   ],
   "source": [
    "df.groupby('risk_balance').median()"
   ]
  },
  {
   "cell_type": "markdown",
   "id": "49f95e06",
   "metadata": {},
   "source": [
    "В среднем более 35% пользователей с балансом выше 800 тыс. приняли решение об уходе, всего таких клиентов 2510 человек. При таких показателях принимаю решение не проводить дальнейшую сегментацию, а выделить их в отдельную категорию, приняв во внимание средние значения: возраст 45 лет, 4 объекта в собственности, 2 продукта банка.  \n",
    "Сформулируем общие рекомендации для этой группы:  \n",
    "1. Для удержания клиентов с большим балансом на счетах, необходимо заинтересовать их дополнительным доходом, который они могут заработать с его помощью. Маркетинговые активности должны быть направлены на инвестиционные продукты, реализуемые в нашем Банке - ИИС, ИЖС, брокерский счет, повышеный процент на ежедневный остаток на счете (при среднем значении в 1,75 млн  и медианой в 1,23 млн, например от 1,5 млн)\n",
    "2. Учитывая средние 4 объекта в собственности и более 2 продуктов банка, возможно предложить скидки на собственный 2 и последующие продукты, либо скидки на продукты партнеров банка - СК (при наличии) например скидка 50% на страхование объектов недвижимости (при маржинальности 80% и более продукта для Банка)"
   ]
  },
  {
   "cell_type": "markdown",
   "id": "052ed81c",
   "metadata": {},
   "source": [
    "Далее рассмотрим группу клиентов, имеющих  более 2 продуктов банка - в среднем комиссионый доход с таких клиентов выше, исключив проработанных ранее клиентов с высоким балансом:"
   ]
  },
  {
   "cell_type": "code",
   "execution_count": 50,
   "id": "5b33219e",
   "metadata": {
    "scrolled": false
   },
   "outputs": [
    {
     "data": {
      "text/html": [
       "<div>\n",
       "<style scoped>\n",
       "    .dataframe tbody tr th:only-of-type {\n",
       "        vertical-align: middle;\n",
       "    }\n",
       "\n",
       "    .dataframe tbody tr th {\n",
       "        vertical-align: top;\n",
       "    }\n",
       "\n",
       "    .dataframe thead th {\n",
       "        text-align: right;\n",
       "    }\n",
       "</style>\n",
       "<table border=\"1\" class=\"dataframe\">\n",
       "  <thead>\n",
       "    <tr style=\"text-align: right;\">\n",
       "      <th></th>\n",
       "      <th>userid</th>\n",
       "      <th>score</th>\n",
       "      <th>age</th>\n",
       "      <th>equity</th>\n",
       "      <th>balance</th>\n",
       "      <th>products</th>\n",
       "      <th>credit_card</th>\n",
       "      <th>last_activity</th>\n",
       "      <th>est_salary</th>\n",
       "      <th>churn</th>\n",
       "      <th>gen_cod</th>\n",
       "      <th>jar</th>\n",
       "      <th>ryb</th>\n",
       "      <th>rost</th>\n",
       "      <th>risk_score</th>\n",
       "      <th>risk_age</th>\n",
       "      <th>risk_equity</th>\n",
       "      <th>risk_balance</th>\n",
       "      <th>risk_salary</th>\n",
       "    </tr>\n",
       "    <tr>\n",
       "      <th>risk_products</th>\n",
       "      <th></th>\n",
       "      <th></th>\n",
       "      <th></th>\n",
       "      <th></th>\n",
       "      <th></th>\n",
       "      <th></th>\n",
       "      <th></th>\n",
       "      <th></th>\n",
       "      <th></th>\n",
       "      <th></th>\n",
       "      <th></th>\n",
       "      <th></th>\n",
       "      <th></th>\n",
       "      <th></th>\n",
       "      <th></th>\n",
       "      <th></th>\n",
       "      <th></th>\n",
       "      <th></th>\n",
       "      <th></th>\n",
       "    </tr>\n",
       "  </thead>\n",
       "  <tbody>\n",
       "    <tr>\n",
       "      <th>0</th>\n",
       "      <td>171367.139682</td>\n",
       "      <td>842.418594</td>\n",
       "      <td>41.884099</td>\n",
       "      <td>1.965305</td>\n",
       "      <td>376027.562322</td>\n",
       "      <td>1.542806</td>\n",
       "      <td>0.756984</td>\n",
       "      <td>0.519676</td>\n",
       "      <td>145435.897564</td>\n",
       "      <td>0.104836</td>\n",
       "      <td>0.497747</td>\n",
       "      <td>0.566837</td>\n",
       "      <td>0.285071</td>\n",
       "      <td>0.148093</td>\n",
       "      <td>0.164314</td>\n",
       "      <td>0.346651</td>\n",
       "      <td>0.263142</td>\n",
       "      <td>0.0</td>\n",
       "      <td>0.456594</td>\n",
       "    </tr>\n",
       "    <tr>\n",
       "      <th>1</th>\n",
       "      <td>171394.635817</td>\n",
       "      <td>833.481971</td>\n",
       "      <td>41.804087</td>\n",
       "      <td>3.330529</td>\n",
       "      <td>411700.884832</td>\n",
       "      <td>3.288462</td>\n",
       "      <td>0.463942</td>\n",
       "      <td>0.545673</td>\n",
       "      <td>106462.092704</td>\n",
       "      <td>0.281250</td>\n",
       "      <td>0.487981</td>\n",
       "      <td>0.711538</td>\n",
       "      <td>0.173077</td>\n",
       "      <td>0.115385</td>\n",
       "      <td>0.109375</td>\n",
       "      <td>0.361779</td>\n",
       "      <td>0.518029</td>\n",
       "      <td>0.0</td>\n",
       "      <td>0.396635</td>\n",
       "    </tr>\n",
       "  </tbody>\n",
       "</table>\n",
       "</div>"
      ],
      "text/plain": [
       "                      userid       score        age    equity        balance  \\\n",
       "risk_products                                                                  \n",
       "0              171367.139682  842.418594  41.884099  1.965305  376027.562322   \n",
       "1              171394.635817  833.481971  41.804087  3.330529  411700.884832   \n",
       "\n",
       "               products  credit_card  last_activity     est_salary     churn  \\\n",
       "risk_products                                                                  \n",
       "0              1.542806     0.756984       0.519676  145435.897564  0.104836   \n",
       "1              3.288462     0.463942       0.545673  106462.092704  0.281250   \n",
       "\n",
       "                gen_cod       jar       ryb      rost  risk_score  risk_age  \\\n",
       "risk_products                                                                 \n",
       "0              0.497747  0.566837  0.285071  0.148093    0.164314  0.346651   \n",
       "1              0.487981  0.711538  0.173077  0.115385    0.109375  0.361779   \n",
       "\n",
       "               risk_equity  risk_balance  risk_salary  \n",
       "risk_products                                          \n",
       "0                 0.263142           0.0     0.456594  \n",
       "1                 0.518029           0.0     0.396635  "
      ]
     },
     "execution_count": 50,
     "metadata": {},
     "output_type": "execute_result"
    }
   ],
   "source": [
    "df[df['risk_balance'] == 0].groupby('risk_products').mean()"
   ]
  },
  {
   "cell_type": "code",
   "execution_count": 51,
   "id": "5f287190",
   "metadata": {},
   "outputs": [
    {
     "data": {
      "text/plain": [
       "risk_products\n",
       "0    2.0\n",
       "1    4.0\n",
       "Name: equity, dtype: float64"
      ]
     },
     "execution_count": 51,
     "metadata": {},
     "output_type": "execute_result"
    }
   ],
   "source": [
    "df[df['risk_balance'] == 0].groupby('risk_products')['equity'].median()"
   ]
  },
  {
   "cell_type": "markdown",
   "id": "368bae83",
   "metadata": {},
   "source": [
    "Наблюдаем, что клиенты с 2 и более продуктов имеют 3 и более объектов недвижимости в собственности в среднем, половина из них имеет не менее 4, добавим этот признак:"
   ]
  },
  {
   "cell_type": "code",
   "execution_count": 52,
   "id": "ae460a28",
   "metadata": {
    "scrolled": true
   },
   "outputs": [
    {
     "data": {
      "text/html": [
       "<div>\n",
       "<style scoped>\n",
       "    .dataframe tbody tr th:only-of-type {\n",
       "        vertical-align: middle;\n",
       "    }\n",
       "\n",
       "    .dataframe tbody tr th {\n",
       "        vertical-align: top;\n",
       "    }\n",
       "\n",
       "    .dataframe thead th {\n",
       "        text-align: right;\n",
       "    }\n",
       "</style>\n",
       "<table border=\"1\" class=\"dataframe\">\n",
       "  <thead>\n",
       "    <tr style=\"text-align: right;\">\n",
       "      <th></th>\n",
       "      <th>userid</th>\n",
       "      <th>score</th>\n",
       "      <th>age</th>\n",
       "      <th>equity</th>\n",
       "      <th>balance</th>\n",
       "      <th>products</th>\n",
       "      <th>credit_card</th>\n",
       "      <th>last_activity</th>\n",
       "      <th>est_salary</th>\n",
       "      <th>churn</th>\n",
       "      <th>gen_cod</th>\n",
       "      <th>jar</th>\n",
       "      <th>ryb</th>\n",
       "      <th>rost</th>\n",
       "      <th>risk_score</th>\n",
       "      <th>risk_age</th>\n",
       "      <th>risk_equity</th>\n",
       "      <th>risk_balance</th>\n",
       "      <th>risk_salary</th>\n",
       "    </tr>\n",
       "    <tr>\n",
       "      <th>risk_products</th>\n",
       "      <th></th>\n",
       "      <th></th>\n",
       "      <th></th>\n",
       "      <th></th>\n",
       "      <th></th>\n",
       "      <th></th>\n",
       "      <th></th>\n",
       "      <th></th>\n",
       "      <th></th>\n",
       "      <th></th>\n",
       "      <th></th>\n",
       "      <th></th>\n",
       "      <th></th>\n",
       "      <th></th>\n",
       "      <th></th>\n",
       "      <th></th>\n",
       "      <th></th>\n",
       "      <th></th>\n",
       "      <th></th>\n",
       "    </tr>\n",
       "  </thead>\n",
       "  <tbody>\n",
       "    <tr>\n",
       "      <th>0</th>\n",
       "      <td>170624.131849</td>\n",
       "      <td>842.757991</td>\n",
       "      <td>40.802173</td>\n",
       "      <td>4.591324</td>\n",
       "      <td>498691.578659</td>\n",
       "      <td>1.769977</td>\n",
       "      <td>0.708904</td>\n",
       "      <td>0.515411</td>\n",
       "      <td>103167.375582</td>\n",
       "      <td>0.184932</td>\n",
       "      <td>0.460046</td>\n",
       "      <td>0.537671</td>\n",
       "      <td>0.287100</td>\n",
       "      <td>0.175228</td>\n",
       "      <td>0.142694</td>\n",
       "      <td>0.398973</td>\n",
       "      <td>1.0</td>\n",
       "      <td>0.0</td>\n",
       "      <td>0.418379</td>\n",
       "    </tr>\n",
       "    <tr>\n",
       "      <th>1</th>\n",
       "      <td>171320.821346</td>\n",
       "      <td>844.800464</td>\n",
       "      <td>40.844548</td>\n",
       "      <td>4.714617</td>\n",
       "      <td>485526.540835</td>\n",
       "      <td>3.375870</td>\n",
       "      <td>0.477958</td>\n",
       "      <td>0.582367</td>\n",
       "      <td>95987.393225</td>\n",
       "      <td>0.315545</td>\n",
       "      <td>0.573086</td>\n",
       "      <td>0.689095</td>\n",
       "      <td>0.194896</td>\n",
       "      <td>0.116009</td>\n",
       "      <td>0.148492</td>\n",
       "      <td>0.380510</td>\n",
       "      <td>1.0</td>\n",
       "      <td>0.0</td>\n",
       "      <td>0.380510</td>\n",
       "    </tr>\n",
       "  </tbody>\n",
       "</table>\n",
       "</div>"
      ],
      "text/plain": [
       "                      userid       score        age    equity        balance  \\\n",
       "risk_products                                                                  \n",
       "0              170624.131849  842.757991  40.802173  4.591324  498691.578659   \n",
       "1              171320.821346  844.800464  40.844548  4.714617  485526.540835   \n",
       "\n",
       "               products  credit_card  last_activity     est_salary     churn  \\\n",
       "risk_products                                                                  \n",
       "0              1.769977     0.708904       0.515411  103167.375582  0.184932   \n",
       "1              3.375870     0.477958       0.582367   95987.393225  0.315545   \n",
       "\n",
       "                gen_cod       jar       ryb      rost  risk_score  risk_age  \\\n",
       "risk_products                                                                 \n",
       "0              0.460046  0.537671  0.287100  0.175228    0.142694  0.398973   \n",
       "1              0.573086  0.689095  0.194896  0.116009    0.148492  0.380510   \n",
       "\n",
       "               risk_equity  risk_balance  risk_salary  \n",
       "risk_products                                          \n",
       "0                      1.0           0.0     0.418379  \n",
       "1                      1.0           0.0     0.380510  "
      ]
     },
     "execution_count": 52,
     "metadata": {},
     "output_type": "execute_result"
    }
   ],
   "source": [
    "df.query('(risk_balance == 0) and (risk_equity == 1)').groupby('risk_products').mean()"
   ]
  },
  {
   "cell_type": "code",
   "execution_count": 53,
   "id": "86754e8c",
   "metadata": {
    "scrolled": false
   },
   "outputs": [
    {
     "data": {
      "text/html": [
       "<div>\n",
       "<style scoped>\n",
       "    .dataframe tbody tr th:only-of-type {\n",
       "        vertical-align: middle;\n",
       "    }\n",
       "\n",
       "    .dataframe tbody tr th {\n",
       "        vertical-align: top;\n",
       "    }\n",
       "\n",
       "    .dataframe thead th {\n",
       "        text-align: right;\n",
       "    }\n",
       "</style>\n",
       "<table border=\"1\" class=\"dataframe\">\n",
       "  <thead>\n",
       "    <tr style=\"text-align: right;\">\n",
       "      <th></th>\n",
       "      <th>userid</th>\n",
       "      <th>score</th>\n",
       "      <th>city</th>\n",
       "      <th>gender</th>\n",
       "      <th>age</th>\n",
       "      <th>equity</th>\n",
       "      <th>balance</th>\n",
       "      <th>products</th>\n",
       "      <th>credit_card</th>\n",
       "      <th>last_activity</th>\n",
       "      <th>...</th>\n",
       "      <th>churn</th>\n",
       "      <th>gen_cod</th>\n",
       "      <th>jar</th>\n",
       "      <th>ryb</th>\n",
       "      <th>rost</th>\n",
       "      <th>risk_score</th>\n",
       "      <th>risk_age</th>\n",
       "      <th>risk_equity</th>\n",
       "      <th>risk_balance</th>\n",
       "      <th>risk_salary</th>\n",
       "    </tr>\n",
       "    <tr>\n",
       "      <th>risk_products</th>\n",
       "      <th></th>\n",
       "      <th></th>\n",
       "      <th></th>\n",
       "      <th></th>\n",
       "      <th></th>\n",
       "      <th></th>\n",
       "      <th></th>\n",
       "      <th></th>\n",
       "      <th></th>\n",
       "      <th></th>\n",
       "      <th></th>\n",
       "      <th></th>\n",
       "      <th></th>\n",
       "      <th></th>\n",
       "      <th></th>\n",
       "      <th></th>\n",
       "      <th></th>\n",
       "      <th></th>\n",
       "      <th></th>\n",
       "      <th></th>\n",
       "      <th></th>\n",
       "    </tr>\n",
       "  </thead>\n",
       "  <tbody>\n",
       "    <tr>\n",
       "      <th>0</th>\n",
       "      <td>1752</td>\n",
       "      <td>1752</td>\n",
       "      <td>1752</td>\n",
       "      <td>1752</td>\n",
       "      <td>1749</td>\n",
       "      <td>1752</td>\n",
       "      <td>1752</td>\n",
       "      <td>1752</td>\n",
       "      <td>1752</td>\n",
       "      <td>1752</td>\n",
       "      <td>...</td>\n",
       "      <td>1752</td>\n",
       "      <td>1752</td>\n",
       "      <td>1752</td>\n",
       "      <td>1752</td>\n",
       "      <td>1752</td>\n",
       "      <td>1752</td>\n",
       "      <td>1752</td>\n",
       "      <td>1752</td>\n",
       "      <td>1752</td>\n",
       "      <td>1752</td>\n",
       "    </tr>\n",
       "    <tr>\n",
       "      <th>1</th>\n",
       "      <td>431</td>\n",
       "      <td>431</td>\n",
       "      <td>431</td>\n",
       "      <td>431</td>\n",
       "      <td>431</td>\n",
       "      <td>431</td>\n",
       "      <td>431</td>\n",
       "      <td>431</td>\n",
       "      <td>431</td>\n",
       "      <td>431</td>\n",
       "      <td>...</td>\n",
       "      <td>431</td>\n",
       "      <td>431</td>\n",
       "      <td>431</td>\n",
       "      <td>431</td>\n",
       "      <td>431</td>\n",
       "      <td>431</td>\n",
       "      <td>431</td>\n",
       "      <td>431</td>\n",
       "      <td>431</td>\n",
       "      <td>431</td>\n",
       "    </tr>\n",
       "  </tbody>\n",
       "</table>\n",
       "<p>2 rows × 21 columns</p>\n",
       "</div>"
      ],
      "text/plain": [
       "               userid  score  city  gender   age  equity  balance  products  \\\n",
       "risk_products                                                                 \n",
       "0                1752   1752  1752    1752  1749    1752     1752      1752   \n",
       "1                 431    431   431     431   431     431      431       431   \n",
       "\n",
       "               credit_card  last_activity  ...  churn  gen_cod   jar   ryb  \\\n",
       "risk_products                              ...                               \n",
       "0                     1752           1752  ...   1752     1752  1752  1752   \n",
       "1                      431            431  ...    431      431   431   431   \n",
       "\n",
       "               rost  risk_score  risk_age  risk_equity  risk_balance  \\\n",
       "risk_products                                                          \n",
       "0              1752        1752      1752         1752          1752   \n",
       "1               431         431       431          431           431   \n",
       "\n",
       "               risk_salary  \n",
       "risk_products               \n",
       "0                     1752  \n",
       "1                      431  \n",
       "\n",
       "[2 rows x 21 columns]"
      ]
     },
     "execution_count": 53,
     "metadata": {},
     "output_type": "execute_result"
    }
   ],
   "source": [
    "df.query('(risk_balance == 0) and (risk_equity == 1)').groupby('risk_products').count()"
   ]
  },
  {
   "cell_type": "markdown",
   "id": "3b98e306",
   "metadata": {},
   "source": [
    "Итого 431 клиент, имеющий остаток на счетах до 800 тыс. включительно, обладающий 2 и более продуктами банка, и владеющий 3 и более объектами недвижимости имеют вероятность ухода в 31,5%.   \n",
    "Группа немногочисленная, поэтому в части мероприятий, предлагаю присоединить к группе с большими остатками на счетах в части предложений по продуктам и недвижимости в собственности. Окончательно сформулирую в итоговых выводах и презентации."
   ]
  },
  {
   "cell_type": "markdown",
   "id": "1f270579",
   "metadata": {},
   "source": [
    "Рассмотрим оставшуюся группу клиентов в разрезе оставшихся категорий риска:"
   ]
  },
  {
   "cell_type": "code",
   "execution_count": 54,
   "id": "e4ed96cc",
   "metadata": {},
   "outputs": [
    {
     "data": {
      "text/plain": [
       "7966"
      ]
     },
     "execution_count": 54,
     "metadata": {},
     "output_type": "execute_result"
    }
   ],
   "source": [
    "df_temp = df.query('(risk_balance == 0) or ((risk_equity == 0) and (risk_products == 0))')\n",
    "\n",
    "df_temp['userid'].count()"
   ]
  },
  {
   "cell_type": "code",
   "execution_count": 55,
   "id": "f5a21d2b",
   "metadata": {
    "scrolled": true
   },
   "outputs": [
    {
     "name": "stderr",
     "output_type": "stream",
     "text": [
      "C:\\Users\\User\\AppData\\Local\\Temp\\ipykernel_4896\\2646066452.py:1: FutureWarning: Dropping of nuisance columns in DataFrame reductions (with 'numeric_only=None') is deprecated; in a future version this will raise TypeError.  Select only valid columns before calling the reduction.\n",
      "  df_temp.mean()\n"
     ]
    },
    {
     "data": {
      "text/plain": [
       "userid           171453.118504\n",
       "score               842.019583\n",
       "age                  42.085358\n",
       "equity                2.148883\n",
       "balance          474456.322169\n",
       "products              1.743535\n",
       "credit_card           0.716420\n",
       "last_activity         0.522094\n",
       "est_salary       142189.930503\n",
       "churn                 0.131810\n",
       "gen_cod               0.498117\n",
       "jar                   0.582727\n",
       "ryb                   0.271655\n",
       "rost                  0.145619\n",
       "risk_score            0.158047\n",
       "risk_age              0.343711\n",
       "risk_equity           0.274040\n",
       "risk_balance          0.059754\n",
       "risk_products         0.104444\n",
       "risk_salary           0.457821\n",
       "dtype: float64"
      ]
     },
     "execution_count": 55,
     "metadata": {},
     "output_type": "execute_result"
    }
   ],
   "source": [
    "df_temp.mean()"
   ]
  },
  {
   "cell_type": "markdown",
   "id": "68d9245c",
   "metadata": {},
   "source": [
    "Средний уровень ухода для этой группы в районе 13%.\n",
    "45% из оставшихся 7966 клиентов имеют рисковое значение в категории доход, и хотя мы отметили ранее, что разница в доходе не является статистически значимой между уходящими и сохраняющимися клиентами, рассмотрим эту категорию подробнее:"
   ]
  },
  {
   "cell_type": "code",
   "execution_count": 56,
   "id": "9f031ba3",
   "metadata": {},
   "outputs": [
    {
     "data": {
      "text/html": [
       "<div>\n",
       "<style scoped>\n",
       "    .dataframe tbody tr th:only-of-type {\n",
       "        vertical-align: middle;\n",
       "    }\n",
       "\n",
       "    .dataframe tbody tr th {\n",
       "        vertical-align: top;\n",
       "    }\n",
       "\n",
       "    .dataframe thead th {\n",
       "        text-align: right;\n",
       "    }\n",
       "</style>\n",
       "<table border=\"1\" class=\"dataframe\">\n",
       "  <thead>\n",
       "    <tr style=\"text-align: right;\">\n",
       "      <th></th>\n",
       "      <th>userid</th>\n",
       "      <th>score</th>\n",
       "      <th>age</th>\n",
       "      <th>equity</th>\n",
       "      <th>balance</th>\n",
       "      <th>products</th>\n",
       "      <th>credit_card</th>\n",
       "      <th>last_activity</th>\n",
       "      <th>est_salary</th>\n",
       "      <th>churn</th>\n",
       "      <th>gen_cod</th>\n",
       "      <th>jar</th>\n",
       "      <th>ryb</th>\n",
       "      <th>rost</th>\n",
       "      <th>risk_score</th>\n",
       "      <th>risk_age</th>\n",
       "      <th>risk_equity</th>\n",
       "      <th>risk_balance</th>\n",
       "      <th>risk_products</th>\n",
       "    </tr>\n",
       "    <tr>\n",
       "      <th>risk_salary</th>\n",
       "      <th></th>\n",
       "      <th></th>\n",
       "      <th></th>\n",
       "      <th></th>\n",
       "      <th></th>\n",
       "      <th></th>\n",
       "      <th></th>\n",
       "      <th></th>\n",
       "      <th></th>\n",
       "      <th></th>\n",
       "      <th></th>\n",
       "      <th></th>\n",
       "      <th></th>\n",
       "      <th></th>\n",
       "      <th></th>\n",
       "      <th></th>\n",
       "      <th></th>\n",
       "      <th></th>\n",
       "      <th></th>\n",
       "    </tr>\n",
       "  </thead>\n",
       "  <tbody>\n",
       "    <tr>\n",
       "      <th>0</th>\n",
       "      <td>172063.723316</td>\n",
       "      <td>839.335494</td>\n",
       "      <td>42.382544</td>\n",
       "      <td>2.285714</td>\n",
       "      <td>453566.286478</td>\n",
       "      <td>1.787914</td>\n",
       "      <td>0.710118</td>\n",
       "      <td>0.523964</td>\n",
       "      <td>136772.085934</td>\n",
       "      <td>0.127113</td>\n",
       "      <td>0.480667</td>\n",
       "      <td>0.570271</td>\n",
       "      <td>0.278074</td>\n",
       "      <td>0.151655</td>\n",
       "      <td>0.136143</td>\n",
       "      <td>0.399630</td>\n",
       "      <td>0.297754</td>\n",
       "      <td>0.046075</td>\n",
       "      <td>0.116231</td>\n",
       "    </tr>\n",
       "    <tr>\n",
       "      <th>1</th>\n",
       "      <td>170730.003016</td>\n",
       "      <td>845.198245</td>\n",
       "      <td>41.733150</td>\n",
       "      <td>1.986838</td>\n",
       "      <td>501999.398663</td>\n",
       "      <td>1.690979</td>\n",
       "      <td>0.723883</td>\n",
       "      <td>0.519879</td>\n",
       "      <td>148606.072728</td>\n",
       "      <td>0.137373</td>\n",
       "      <td>0.518783</td>\n",
       "      <td>0.597477</td>\n",
       "      <td>0.264053</td>\n",
       "      <td>0.138470</td>\n",
       "      <td>0.183987</td>\n",
       "      <td>0.277488</td>\n",
       "      <td>0.245956</td>\n",
       "      <td>0.075953</td>\n",
       "      <td>0.090485</td>\n",
       "    </tr>\n",
       "  </tbody>\n",
       "</table>\n",
       "</div>"
      ],
      "text/plain": [
       "                    userid       score        age    equity        balance  \\\n",
       "risk_salary                                                                  \n",
       "0            172063.723316  839.335494  42.382544  2.285714  453566.286478   \n",
       "1            170730.003016  845.198245  41.733150  1.986838  501999.398663   \n",
       "\n",
       "             products  credit_card  last_activity     est_salary     churn  \\\n",
       "risk_salary                                                                  \n",
       "0            1.787914     0.710118       0.523964  136772.085934  0.127113   \n",
       "1            1.690979     0.723883       0.519879  148606.072728  0.137373   \n",
       "\n",
       "              gen_cod       jar       ryb      rost  risk_score  risk_age  \\\n",
       "risk_salary                                                                 \n",
       "0            0.480667  0.570271  0.278074  0.151655    0.136143  0.399630   \n",
       "1            0.518783  0.597477  0.264053  0.138470    0.183987  0.277488   \n",
       "\n",
       "             risk_equity  risk_balance  risk_products  \n",
       "risk_salary                                            \n",
       "0               0.297754      0.046075       0.116231  \n",
       "1               0.245956      0.075953       0.090485  "
      ]
     },
     "execution_count": 56,
     "metadata": {},
     "output_type": "execute_result"
    }
   ],
   "source": [
    "df_temp.groupby('risk_salary').mean()"
   ]
  },
  {
   "cell_type": "markdown",
   "id": "0aaba4e5",
   "metadata": {},
   "source": [
    "Вероятность ухода в районе 13,7%,  а по категории, изначально определенной как лояльная, вероятность 12,7%.\n",
    "51% мужчин в оставшейся выборке, посмотрим на них:"
   ]
  },
  {
   "cell_type": "code",
   "execution_count": 57,
   "id": "2ef53f8a",
   "metadata": {},
   "outputs": [
    {
     "data": {
      "text/html": [
       "<div>\n",
       "<style scoped>\n",
       "    .dataframe tbody tr th:only-of-type {\n",
       "        vertical-align: middle;\n",
       "    }\n",
       "\n",
       "    .dataframe tbody tr th {\n",
       "        vertical-align: top;\n",
       "    }\n",
       "\n",
       "    .dataframe thead th {\n",
       "        text-align: right;\n",
       "    }\n",
       "</style>\n",
       "<table border=\"1\" class=\"dataframe\">\n",
       "  <thead>\n",
       "    <tr style=\"text-align: right;\">\n",
       "      <th></th>\n",
       "      <th>userid</th>\n",
       "      <th>score</th>\n",
       "      <th>age</th>\n",
       "      <th>equity</th>\n",
       "      <th>balance</th>\n",
       "      <th>products</th>\n",
       "      <th>credit_card</th>\n",
       "      <th>last_activity</th>\n",
       "      <th>est_salary</th>\n",
       "      <th>churn</th>\n",
       "      <th>jar</th>\n",
       "      <th>ryb</th>\n",
       "      <th>rost</th>\n",
       "      <th>risk_score</th>\n",
       "      <th>risk_age</th>\n",
       "      <th>risk_equity</th>\n",
       "      <th>risk_balance</th>\n",
       "      <th>risk_products</th>\n",
       "      <th>risk_salary</th>\n",
       "    </tr>\n",
       "    <tr>\n",
       "      <th>gen_cod</th>\n",
       "      <th></th>\n",
       "      <th></th>\n",
       "      <th></th>\n",
       "      <th></th>\n",
       "      <th></th>\n",
       "      <th></th>\n",
       "      <th></th>\n",
       "      <th></th>\n",
       "      <th></th>\n",
       "      <th></th>\n",
       "      <th></th>\n",
       "      <th></th>\n",
       "      <th></th>\n",
       "      <th></th>\n",
       "      <th></th>\n",
       "      <th></th>\n",
       "      <th></th>\n",
       "      <th></th>\n",
       "      <th></th>\n",
       "    </tr>\n",
       "  </thead>\n",
       "  <tbody>\n",
       "    <tr>\n",
       "      <th>0</th>\n",
       "      <td>171219.195348</td>\n",
       "      <td>841.902951</td>\n",
       "      <td>44.719589</td>\n",
       "      <td>2.228864</td>\n",
       "      <td>460804.060777</td>\n",
       "      <td>1.769135</td>\n",
       "      <td>0.647074</td>\n",
       "      <td>0.529515</td>\n",
       "      <td>132883.857824</td>\n",
       "      <td>0.092796</td>\n",
       "      <td>0.570785</td>\n",
       "      <td>0.276888</td>\n",
       "      <td>0.152326</td>\n",
       "      <td>0.152076</td>\n",
       "      <td>0.315658</td>\n",
       "      <td>0.282641</td>\n",
       "      <td>0.057029</td>\n",
       "      <td>0.106553</td>\n",
       "      <td>0.438969</td>\n",
       "    </tr>\n",
       "    <tr>\n",
       "      <th>1</th>\n",
       "      <td>171688.810232</td>\n",
       "      <td>842.137097</td>\n",
       "      <td>39.430485</td>\n",
       "      <td>2.068296</td>\n",
       "      <td>489628.325242</td>\n",
       "      <td>1.717742</td>\n",
       "      <td>0.786290</td>\n",
       "      <td>0.514617</td>\n",
       "      <td>151566.361595</td>\n",
       "      <td>0.171119</td>\n",
       "      <td>0.594758</td>\n",
       "      <td>0.266381</td>\n",
       "      <td>0.138861</td>\n",
       "      <td>0.164062</td>\n",
       "      <td>0.371976</td>\n",
       "      <td>0.265373</td>\n",
       "      <td>0.062500</td>\n",
       "      <td>0.102319</td>\n",
       "      <td>0.476815</td>\n",
       "    </tr>\n",
       "  </tbody>\n",
       "</table>\n",
       "</div>"
      ],
      "text/plain": [
       "                userid       score        age    equity        balance  \\\n",
       "gen_cod                                                                  \n",
       "0        171219.195348  841.902951  44.719589  2.228864  460804.060777   \n",
       "1        171688.810232  842.137097  39.430485  2.068296  489628.325242   \n",
       "\n",
       "         products  credit_card  last_activity     est_salary     churn  \\\n",
       "gen_cod                                                                  \n",
       "0        1.769135     0.647074       0.529515  132883.857824  0.092796   \n",
       "1        1.717742     0.786290       0.514617  151566.361595  0.171119   \n",
       "\n",
       "              jar       ryb      rost  risk_score  risk_age  risk_equity  \\\n",
       "gen_cod                                                                    \n",
       "0        0.570785  0.276888  0.152326    0.152076  0.315658     0.282641   \n",
       "1        0.594758  0.266381  0.138861    0.164062  0.371976     0.265373   \n",
       "\n",
       "         risk_balance  risk_products  risk_salary  \n",
       "gen_cod                                            \n",
       "0            0.057029       0.106553     0.438969  \n",
       "1            0.062500       0.102319     0.476815  "
      ]
     },
     "execution_count": 57,
     "metadata": {},
     "output_type": "execute_result"
    }
   ],
   "source": [
    "df_temp.groupby('gen_cod').mean()"
   ]
  },
  {
   "cell_type": "markdown",
   "id": "19e23dc0",
   "metadata": {},
   "source": [
    "Как и предпологалось вероятнось ухода мужчин выше,  составляет 17%,  \n",
    "рассмотрим возраст, который мы определили как рисованный:"
   ]
  },
  {
   "cell_type": "code",
   "execution_count": 58,
   "id": "4f0f5072",
   "metadata": {
    "scrolled": false
   },
   "outputs": [
    {
     "data": {
      "text/html": [
       "<div>\n",
       "<style scoped>\n",
       "    .dataframe tbody tr th:only-of-type {\n",
       "        vertical-align: middle;\n",
       "    }\n",
       "\n",
       "    .dataframe tbody tr th {\n",
       "        vertical-align: top;\n",
       "    }\n",
       "\n",
       "    .dataframe thead th {\n",
       "        text-align: right;\n",
       "    }\n",
       "</style>\n",
       "<table border=\"1\" class=\"dataframe\">\n",
       "  <thead>\n",
       "    <tr style=\"text-align: right;\">\n",
       "      <th></th>\n",
       "      <th>userid</th>\n",
       "      <th>score</th>\n",
       "      <th>age</th>\n",
       "      <th>equity</th>\n",
       "      <th>balance</th>\n",
       "      <th>products</th>\n",
       "      <th>credit_card</th>\n",
       "      <th>last_activity</th>\n",
       "      <th>est_salary</th>\n",
       "      <th>churn</th>\n",
       "      <th>gen_cod</th>\n",
       "      <th>jar</th>\n",
       "      <th>ryb</th>\n",
       "      <th>rost</th>\n",
       "      <th>risk_score</th>\n",
       "      <th>risk_equity</th>\n",
       "      <th>risk_balance</th>\n",
       "      <th>risk_products</th>\n",
       "      <th>risk_salary</th>\n",
       "    </tr>\n",
       "    <tr>\n",
       "      <th>risk_age</th>\n",
       "      <th></th>\n",
       "      <th></th>\n",
       "      <th></th>\n",
       "      <th></th>\n",
       "      <th></th>\n",
       "      <th></th>\n",
       "      <th></th>\n",
       "      <th></th>\n",
       "      <th></th>\n",
       "      <th></th>\n",
       "      <th></th>\n",
       "      <th></th>\n",
       "      <th></th>\n",
       "      <th></th>\n",
       "      <th></th>\n",
       "      <th></th>\n",
       "      <th></th>\n",
       "      <th></th>\n",
       "      <th></th>\n",
       "    </tr>\n",
       "  </thead>\n",
       "  <tbody>\n",
       "    <tr>\n",
       "      <th>0</th>\n",
       "      <td>172184.694147</td>\n",
       "      <td>840.584162</td>\n",
       "      <td>45.224784</td>\n",
       "      <td>2.068477</td>\n",
       "      <td>492841.516725</td>\n",
       "      <td>1.723795</td>\n",
       "      <td>0.709640</td>\n",
       "      <td>0.517598</td>\n",
       "      <td>153617.871393</td>\n",
       "      <td>0.107116</td>\n",
       "      <td>0.476664</td>\n",
       "      <td>0.576129</td>\n",
       "      <td>0.274101</td>\n",
       "      <td>0.149770</td>\n",
       "      <td>0.154361</td>\n",
       "      <td>0.252487</td>\n",
       "      <td>0.066373</td>\n",
       "      <td>0.101568</td>\n",
       "      <td>0.504017</td>\n",
       "    </tr>\n",
       "    <tr>\n",
       "      <th>1</th>\n",
       "      <td>170056.231191</td>\n",
       "      <td>844.760409</td>\n",
       "      <td>36.117239</td>\n",
       "      <td>2.302411</td>\n",
       "      <td>440814.351891</td>\n",
       "      <td>1.781227</td>\n",
       "      <td>0.729364</td>\n",
       "      <td>0.530679</td>\n",
       "      <td>120369.158053</td>\n",
       "      <td>0.178963</td>\n",
       "      <td>0.539080</td>\n",
       "      <td>0.595325</td>\n",
       "      <td>0.266983</td>\n",
       "      <td>0.137692</td>\n",
       "      <td>0.165084</td>\n",
       "      <td>0.315194</td>\n",
       "      <td>0.047115</td>\n",
       "      <td>0.109934</td>\n",
       "      <td>0.369613</td>\n",
       "    </tr>\n",
       "  </tbody>\n",
       "</table>\n",
       "</div>"
      ],
      "text/plain": [
       "                 userid       score        age    equity        balance  \\\n",
       "risk_age                                                                  \n",
       "0         172184.694147  840.584162  45.224784  2.068477  492841.516725   \n",
       "1         170056.231191  844.760409  36.117239  2.302411  440814.351891   \n",
       "\n",
       "          products  credit_card  last_activity     est_salary     churn  \\\n",
       "risk_age                                                                  \n",
       "0         1.723795     0.709640       0.517598  153617.871393  0.107116   \n",
       "1         1.781227     0.729364       0.530679  120369.158053  0.178963   \n",
       "\n",
       "           gen_cod       jar       ryb      rost  risk_score  risk_equity  \\\n",
       "risk_age                                                                    \n",
       "0         0.476664  0.576129  0.274101  0.149770    0.154361     0.252487   \n",
       "1         0.539080  0.595325  0.266983  0.137692    0.165084     0.315194   \n",
       "\n",
       "          risk_balance  risk_products  risk_salary  \n",
       "risk_age                                            \n",
       "0             0.066373       0.101568     0.504017  \n",
       "1             0.047115       0.109934     0.369613  "
      ]
     },
     "execution_count": 58,
     "metadata": {},
     "output_type": "execute_result"
    }
   ],
   "source": [
    "df_temp.groupby('risk_age').mean()"
   ]
  },
  {
   "cell_type": "markdown",
   "id": "9505718f",
   "metadata": {},
   "source": [
    "Почти 18% вероятности ухода  \n",
    "Распределение по городам:"
   ]
  },
  {
   "cell_type": "code",
   "execution_count": 59,
   "id": "c77a5dd6",
   "metadata": {
    "scrolled": false
   },
   "outputs": [
    {
     "data": {
      "text/html": [
       "<div>\n",
       "<style scoped>\n",
       "    .dataframe tbody tr th:only-of-type {\n",
       "        vertical-align: middle;\n",
       "    }\n",
       "\n",
       "    .dataframe tbody tr th {\n",
       "        vertical-align: top;\n",
       "    }\n",
       "\n",
       "    .dataframe thead th {\n",
       "        text-align: right;\n",
       "    }\n",
       "</style>\n",
       "<table border=\"1\" class=\"dataframe\">\n",
       "  <thead>\n",
       "    <tr style=\"text-align: right;\">\n",
       "      <th></th>\n",
       "      <th>userid</th>\n",
       "      <th>score</th>\n",
       "      <th>age</th>\n",
       "      <th>equity</th>\n",
       "      <th>balance</th>\n",
       "      <th>products</th>\n",
       "      <th>credit_card</th>\n",
       "      <th>last_activity</th>\n",
       "      <th>est_salary</th>\n",
       "      <th>churn</th>\n",
       "      <th>gen_cod</th>\n",
       "      <th>jar</th>\n",
       "      <th>ryb</th>\n",
       "      <th>rost</th>\n",
       "      <th>risk_score</th>\n",
       "      <th>risk_age</th>\n",
       "      <th>risk_equity</th>\n",
       "      <th>risk_balance</th>\n",
       "      <th>risk_products</th>\n",
       "      <th>risk_salary</th>\n",
       "    </tr>\n",
       "    <tr>\n",
       "      <th>city</th>\n",
       "      <th></th>\n",
       "      <th></th>\n",
       "      <th></th>\n",
       "      <th></th>\n",
       "      <th></th>\n",
       "      <th></th>\n",
       "      <th></th>\n",
       "      <th></th>\n",
       "      <th></th>\n",
       "      <th></th>\n",
       "      <th></th>\n",
       "      <th></th>\n",
       "      <th></th>\n",
       "      <th></th>\n",
       "      <th></th>\n",
       "      <th></th>\n",
       "      <th></th>\n",
       "      <th></th>\n",
       "      <th></th>\n",
       "      <th></th>\n",
       "    </tr>\n",
       "  </thead>\n",
       "  <tbody>\n",
       "    <tr>\n",
       "      <th>Ростов</th>\n",
       "      <td>169117.618966</td>\n",
       "      <td>838.184483</td>\n",
       "      <td>43.573770</td>\n",
       "      <td>2.431034</td>\n",
       "      <td>456491.888389</td>\n",
       "      <td>1.769828</td>\n",
       "      <td>0.589655</td>\n",
       "      <td>0.534483</td>\n",
       "      <td>106587.047336</td>\n",
       "      <td>0.147414</td>\n",
       "      <td>0.475000</td>\n",
       "      <td>0.0</td>\n",
       "      <td>0.0</td>\n",
       "      <td>1.0</td>\n",
       "      <td>0.134483</td>\n",
       "      <td>0.325000</td>\n",
       "      <td>0.307759</td>\n",
       "      <td>0.067241</td>\n",
       "      <td>0.082759</td>\n",
       "      <td>0.435345</td>\n",
       "    </tr>\n",
       "    <tr>\n",
       "      <th>Рыбинск</th>\n",
       "      <td>172798.741682</td>\n",
       "      <td>842.408041</td>\n",
       "      <td>42.544821</td>\n",
       "      <td>2.147874</td>\n",
       "      <td>456138.603297</td>\n",
       "      <td>1.721811</td>\n",
       "      <td>0.665896</td>\n",
       "      <td>0.556839</td>\n",
       "      <td>132137.341345</td>\n",
       "      <td>0.129390</td>\n",
       "      <td>0.488447</td>\n",
       "      <td>0.0</td>\n",
       "      <td>1.0</td>\n",
       "      <td>0.0</td>\n",
       "      <td>0.163586</td>\n",
       "      <td>0.337800</td>\n",
       "      <td>0.271257</td>\n",
       "      <td>0.056377</td>\n",
       "      <td>0.066543</td>\n",
       "      <td>0.445009</td>\n",
       "    </tr>\n",
       "    <tr>\n",
       "      <th>Ярославль</th>\n",
       "      <td>171409.441405</td>\n",
       "      <td>842.796855</td>\n",
       "      <td>41.499244</td>\n",
       "      <td>2.078845</td>\n",
       "      <td>488753.719836</td>\n",
       "      <td>1.747092</td>\n",
       "      <td>0.771650</td>\n",
       "      <td>0.502801</td>\n",
       "      <td>155773.116073</td>\n",
       "      <td>0.129039</td>\n",
       "      <td>0.508402</td>\n",
       "      <td>1.0</td>\n",
       "      <td>0.0</td>\n",
       "      <td>0.0</td>\n",
       "      <td>0.161353</td>\n",
       "      <td>0.351142</td>\n",
       "      <td>0.266911</td>\n",
       "      <td>0.059457</td>\n",
       "      <td>0.127531</td>\n",
       "      <td>0.469410</td>\n",
       "    </tr>\n",
       "  </tbody>\n",
       "</table>\n",
       "</div>"
      ],
      "text/plain": [
       "                  userid       score        age    equity        balance  \\\n",
       "city                                                                       \n",
       "Ростов     169117.618966  838.184483  43.573770  2.431034  456491.888389   \n",
       "Рыбинск    172798.741682  842.408041  42.544821  2.147874  456138.603297   \n",
       "Ярославль  171409.441405  842.796855  41.499244  2.078845  488753.719836   \n",
       "\n",
       "           products  credit_card  last_activity     est_salary     churn  \\\n",
       "city                                                                       \n",
       "Ростов     1.769828     0.589655       0.534483  106587.047336  0.147414   \n",
       "Рыбинск    1.721811     0.665896       0.556839  132137.341345  0.129390   \n",
       "Ярославль  1.747092     0.771650       0.502801  155773.116073  0.129039   \n",
       "\n",
       "            gen_cod  jar  ryb  rost  risk_score  risk_age  risk_equity  \\\n",
       "city                                                                     \n",
       "Ростов     0.475000  0.0  0.0   1.0    0.134483  0.325000     0.307759   \n",
       "Рыбинск    0.488447  0.0  1.0   0.0    0.163586  0.337800     0.271257   \n",
       "Ярославль  0.508402  1.0  0.0   0.0    0.161353  0.351142     0.266911   \n",
       "\n",
       "           risk_balance  risk_products  risk_salary  \n",
       "city                                                 \n",
       "Ростов         0.067241       0.082759     0.435345  \n",
       "Рыбинск        0.056377       0.066543     0.445009  \n",
       "Ярославль      0.059457       0.127531     0.469410  "
      ]
     },
     "execution_count": 59,
     "metadata": {},
     "output_type": "execute_result"
    }
   ],
   "source": [
    "df_temp.groupby('city').mean()"
   ]
  },
  {
   "cell_type": "markdown",
   "id": "d4b060e7",
   "metadata": {},
   "source": [
    "14,7% в Ростове, по 12,9 Рыбинск и Ярославль.  \n",
    "Наличие кредитной карты:"
   ]
  },
  {
   "cell_type": "code",
   "execution_count": 60,
   "id": "d7d05227",
   "metadata": {
    "scrolled": false
   },
   "outputs": [
    {
     "data": {
      "text/html": [
       "<div>\n",
       "<style scoped>\n",
       "    .dataframe tbody tr th:only-of-type {\n",
       "        vertical-align: middle;\n",
       "    }\n",
       "\n",
       "    .dataframe tbody tr th {\n",
       "        vertical-align: top;\n",
       "    }\n",
       "\n",
       "    .dataframe thead th {\n",
       "        text-align: right;\n",
       "    }\n",
       "</style>\n",
       "<table border=\"1\" class=\"dataframe\">\n",
       "  <thead>\n",
       "    <tr style=\"text-align: right;\">\n",
       "      <th></th>\n",
       "      <th>userid</th>\n",
       "      <th>score</th>\n",
       "      <th>age</th>\n",
       "      <th>equity</th>\n",
       "      <th>balance</th>\n",
       "      <th>products</th>\n",
       "      <th>last_activity</th>\n",
       "      <th>est_salary</th>\n",
       "      <th>churn</th>\n",
       "      <th>gen_cod</th>\n",
       "      <th>jar</th>\n",
       "      <th>ryb</th>\n",
       "      <th>rost</th>\n",
       "      <th>risk_score</th>\n",
       "      <th>risk_age</th>\n",
       "      <th>risk_equity</th>\n",
       "      <th>risk_balance</th>\n",
       "      <th>risk_products</th>\n",
       "      <th>risk_salary</th>\n",
       "    </tr>\n",
       "    <tr>\n",
       "      <th>credit_card</th>\n",
       "      <th></th>\n",
       "      <th></th>\n",
       "      <th></th>\n",
       "      <th></th>\n",
       "      <th></th>\n",
       "      <th></th>\n",
       "      <th></th>\n",
       "      <th></th>\n",
       "      <th></th>\n",
       "      <th></th>\n",
       "      <th></th>\n",
       "      <th></th>\n",
       "      <th></th>\n",
       "      <th></th>\n",
       "      <th></th>\n",
       "      <th></th>\n",
       "      <th></th>\n",
       "      <th></th>\n",
       "      <th></th>\n",
       "    </tr>\n",
       "  </thead>\n",
       "  <tbody>\n",
       "    <tr>\n",
       "      <th>0</th>\n",
       "      <td>170657.084551</td>\n",
       "      <td>848.734396</td>\n",
       "      <td>44.430537</td>\n",
       "      <td>2.533865</td>\n",
       "      <td>539360.979014</td>\n",
       "      <td>2.033643</td>\n",
       "      <td>0.543161</td>\n",
       "      <td>127104.454449</td>\n",
       "      <td>0.174856</td>\n",
       "      <td>0.375387</td>\n",
       "      <td>0.469234</td>\n",
       "      <td>0.320053</td>\n",
       "      <td>0.210713</td>\n",
       "      <td>0.169101</td>\n",
       "      <td>0.328021</td>\n",
       "      <td>0.325365</td>\n",
       "      <td>0.086321</td>\n",
       "      <td>0.197432</td>\n",
       "      <td>0.445772</td>\n",
       "    </tr>\n",
       "    <tr>\n",
       "      <th>1</th>\n",
       "      <td>171768.212371</td>\n",
       "      <td>839.361661</td>\n",
       "      <td>41.156766</td>\n",
       "      <td>1.996496</td>\n",
       "      <td>443383.323481</td>\n",
       "      <td>1.628702</td>\n",
       "      <td>0.513755</td>\n",
       "      <td>148161.209706</td>\n",
       "      <td>0.114771</td>\n",
       "      <td>0.546697</td>\n",
       "      <td>0.627650</td>\n",
       "      <td>0.252497</td>\n",
       "      <td>0.119853</td>\n",
       "      <td>0.153671</td>\n",
       "      <td>0.349921</td>\n",
       "      <td>0.253723</td>\n",
       "      <td>0.049238</td>\n",
       "      <td>0.067636</td>\n",
       "      <td>0.462590</td>\n",
       "    </tr>\n",
       "  </tbody>\n",
       "</table>\n",
       "</div>"
      ],
      "text/plain": [
       "                    userid       score        age    equity        balance  \\\n",
       "credit_card                                                                  \n",
       "0            170657.084551  848.734396  44.430537  2.533865  539360.979014   \n",
       "1            171768.212371  839.361661  41.156766  1.996496  443383.323481   \n",
       "\n",
       "             products  last_activity     est_salary     churn   gen_cod  \\\n",
       "credit_card                                                               \n",
       "0            2.033643       0.543161  127104.454449  0.174856  0.375387   \n",
       "1            1.628702       0.513755  148161.209706  0.114771  0.546697   \n",
       "\n",
       "                  jar       ryb      rost  risk_score  risk_age  risk_equity  \\\n",
       "credit_card                                                                    \n",
       "0            0.469234  0.320053  0.210713    0.169101  0.328021     0.325365   \n",
       "1            0.627650  0.252497  0.119853    0.153671  0.349921     0.253723   \n",
       "\n",
       "             risk_balance  risk_products  risk_salary  \n",
       "credit_card                                            \n",
       "0                0.086321       0.197432     0.445772  \n",
       "1                0.049238       0.067636     0.462590  "
      ]
     },
     "execution_count": 60,
     "metadata": {},
     "output_type": "execute_result"
    }
   ],
   "source": [
    "df_temp.groupby('credit_card').mean()"
   ]
  },
  {
   "cell_type": "markdown",
   "id": "02d17dfe",
   "metadata": {},
   "source": [
    "17% у неимеющих карту  \n",
    "и наконец скоринговый балл:"
   ]
  },
  {
   "cell_type": "code",
   "execution_count": 61,
   "id": "8aa87ebd",
   "metadata": {
    "scrolled": true
   },
   "outputs": [
    {
     "data": {
      "text/html": [
       "<div>\n",
       "<style scoped>\n",
       "    .dataframe tbody tr th:only-of-type {\n",
       "        vertical-align: middle;\n",
       "    }\n",
       "\n",
       "    .dataframe tbody tr th {\n",
       "        vertical-align: top;\n",
       "    }\n",
       "\n",
       "    .dataframe thead th {\n",
       "        text-align: right;\n",
       "    }\n",
       "</style>\n",
       "<table border=\"1\" class=\"dataframe\">\n",
       "  <thead>\n",
       "    <tr style=\"text-align: right;\">\n",
       "      <th></th>\n",
       "      <th>userid</th>\n",
       "      <th>score</th>\n",
       "      <th>age</th>\n",
       "      <th>equity</th>\n",
       "      <th>balance</th>\n",
       "      <th>products</th>\n",
       "      <th>credit_card</th>\n",
       "      <th>last_activity</th>\n",
       "      <th>est_salary</th>\n",
       "      <th>churn</th>\n",
       "      <th>gen_cod</th>\n",
       "      <th>jar</th>\n",
       "      <th>ryb</th>\n",
       "      <th>rost</th>\n",
       "      <th>risk_age</th>\n",
       "      <th>risk_equity</th>\n",
       "      <th>risk_balance</th>\n",
       "      <th>risk_products</th>\n",
       "      <th>risk_salary</th>\n",
       "    </tr>\n",
       "    <tr>\n",
       "      <th>risk_score</th>\n",
       "      <th></th>\n",
       "      <th></th>\n",
       "      <th></th>\n",
       "      <th></th>\n",
       "      <th></th>\n",
       "      <th></th>\n",
       "      <th></th>\n",
       "      <th></th>\n",
       "      <th></th>\n",
       "      <th></th>\n",
       "      <th></th>\n",
       "      <th></th>\n",
       "      <th></th>\n",
       "      <th></th>\n",
       "      <th></th>\n",
       "      <th></th>\n",
       "      <th></th>\n",
       "      <th></th>\n",
       "      <th></th>\n",
       "    </tr>\n",
       "  </thead>\n",
       "  <tbody>\n",
       "    <tr>\n",
       "      <th>0</th>\n",
       "      <td>171505.026241</td>\n",
       "      <td>832.091993</td>\n",
       "      <td>42.178256</td>\n",
       "      <td>2.248099</td>\n",
       "      <td>459245.745480</td>\n",
       "      <td>1.784703</td>\n",
       "      <td>0.720143</td>\n",
       "      <td>0.522737</td>\n",
       "      <td>141687.890643</td>\n",
       "      <td>0.133443</td>\n",
       "      <td>0.494558</td>\n",
       "      <td>0.580438</td>\n",
       "      <td>0.269867</td>\n",
       "      <td>0.149694</td>\n",
       "      <td>0.340838</td>\n",
       "      <td>0.278664</td>\n",
       "      <td>0.059937</td>\n",
       "      <td>0.110482</td>\n",
       "      <td>0.443716</td>\n",
       "    </tr>\n",
       "    <tr>\n",
       "      <th>1</th>\n",
       "      <td>171176.593328</td>\n",
       "      <td>894.906275</td>\n",
       "      <td>41.590764</td>\n",
       "      <td>1.620334</td>\n",
       "      <td>618689.701867</td>\n",
       "      <td>1.524226</td>\n",
       "      <td>0.696585</td>\n",
       "      <td>0.518666</td>\n",
       "      <td>144864.419261</td>\n",
       "      <td>0.123114</td>\n",
       "      <td>0.517077</td>\n",
       "      <td>0.594917</td>\n",
       "      <td>0.281176</td>\n",
       "      <td>0.123908</td>\n",
       "      <td>0.359015</td>\n",
       "      <td>0.249404</td>\n",
       "      <td>0.058777</td>\n",
       "      <td>0.072280</td>\n",
       "      <td>0.532963</td>\n",
       "    </tr>\n",
       "  </tbody>\n",
       "</table>\n",
       "</div>"
      ],
      "text/plain": [
       "                   userid       score        age    equity        balance  \\\n",
       "risk_score                                                                  \n",
       "0           171505.026241  832.091993  42.178256  2.248099  459245.745480   \n",
       "1           171176.593328  894.906275  41.590764  1.620334  618689.701867   \n",
       "\n",
       "            products  credit_card  last_activity     est_salary     churn  \\\n",
       "risk_score                                                                  \n",
       "0           1.784703     0.720143       0.522737  141687.890643  0.133443   \n",
       "1           1.524226     0.696585       0.518666  144864.419261  0.123114   \n",
       "\n",
       "             gen_cod       jar       ryb      rost  risk_age  risk_equity  \\\n",
       "risk_score                                                                  \n",
       "0           0.494558  0.580438  0.269867  0.149694  0.340838     0.278664   \n",
       "1           0.517077  0.594917  0.281176  0.123908  0.359015     0.249404   \n",
       "\n",
       "            risk_balance  risk_products  risk_salary  \n",
       "risk_score                                            \n",
       "0               0.059937       0.110482     0.443716  \n",
       "1               0.058777       0.072280     0.532963  "
      ]
     },
     "execution_count": 61,
     "metadata": {},
     "output_type": "execute_result"
    }
   ],
   "source": [
    "df_temp.groupby('risk_score').mean()"
   ]
  },
  {
   "cell_type": "markdown",
   "id": "f141efee",
   "metadata": {},
   "source": [
    "13,3 % у тех, кого мы изначально не относили к группе риска и 12,3% у изначально отведенных к рисковой зоне \n",
    "На основе этих данных сформулируем профиль: мужчина, в возрасте 25-35 или 54-60 лет, обсуживающийся  в Ростове, не имеющий кредитной карты, добавим признаки поочередно и посмотрим размер сегмента и вероятность ухода для него:"
   ]
  },
  {
   "cell_type": "code",
   "execution_count": 62,
   "id": "f5360e3c",
   "metadata": {},
   "outputs": [
    {
     "data": {
      "text/plain": [
       "77"
      ]
     },
     "execution_count": 62,
     "metadata": {},
     "output_type": "execute_result"
    }
   ],
   "source": [
    "df_temp.query('(gen_cod == 1)\\\n",
    "    and (rost == 1)\\\n",
    "    and (credit_card == 0)\\\n",
    "    and(risk_age == 1)')['userid'].count()"
   ]
  },
  {
   "cell_type": "code",
   "execution_count": 63,
   "id": "1ebe44cf",
   "metadata": {},
   "outputs": [
    {
     "data": {
      "text/plain": [
       "0.2987012987012987"
      ]
     },
     "execution_count": 63,
     "metadata": {},
     "output_type": "execute_result"
    }
   ],
   "source": [
    "df_temp.query('(gen_cod == 1)\\\n",
    "    and (rost == 1)\\\n",
    "    and (credit_card == 0)\\\n",
    "    and(risk_age == 1)')['churn'].mean()"
   ]
  },
  {
   "cell_type": "markdown",
   "id": "cba18889",
   "metadata": {},
   "source": [
    "Сочетание всех параметров по приципу максимальной доли ушедших дает пересечение на 77 пользователях, с вероятностью 29,9%, то есть сегменты с большим количеством клиентов будут более лояльными.  Сегмент в 77 человек не рассматривается в виду малого количества, все остальные сегменты будут с меньшей вероятностью ухода, поэтому так же убираем их из рассмотрения.\n",
    "На этом сегментацию считаю завершенной."
   ]
  },
  {
   "cell_type": "markdown",
   "id": "f1e4af3c",
   "metadata": {},
   "source": [
    "## Общие выводы по работе"
   ]
  },
  {
   "cell_type": "markdown",
   "id": "dbd077e2",
   "metadata": {},
   "source": [
    "По результату проведенного исследования выявлены 2 основных категории клиентов, с большой вероятностью ухода из Банка:\n",
    "1. Клиенты с текущим остатком на счетах более 800 тыс, таких клиентов 2510 человек, вероятность ухода 35,4%.  \n",
    "Рекомендуемые маркетинговые мероприятия для этого сегмента:  \n",
    "  1.1 Предложение индивидуальной повышенной ставки на срочные депозиты и вклады  \n",
    "  1.2 Предложение инвестиционных продуктов, реализуемых Банком (ИЖС, ИИС, ПИФ, брокерский счет и т.п.)\n",
    "  1.3 Начисление индивидуальной ставки на ежедневный остаток на счете (Возможно не для всех, а для тех, у кого остаток выше среднего по сегменту (1,5 млн)) - например ставка Ruonia - маржа банка.\n",
    "2. Клиенты пользующиеся 2 и более продуктами Банка, и имеющие в собственности 3 и более объекта недвижимости. 431 человек, не входящих в 1 категорию и 522 человека, которых прорабатываем по первому сегменту. Вероятность ухода 31,5%.\n",
    "Рекомендуемые маркетинговые мероприятия для этого сегмента (рекомендуются так же для попадающих под условия и включенных в 1 сегмент):\n",
    "  2.1 Предоставление индивидуальной скидки на 3й и последующие продукты Банка владельцам 3 и более объектов недвижимости\n",
    "  2.2 Предоставление индивидуальной скидки на комплект страховых продуктов от СК-партнера Банка на страхование от 3 объектов недвижимости для пользователей 2 и более продуктов банка."
   ]
  }
 ],
 "metadata": {
  "ExecuteTimeLog": [
   {
    "duration": 1743,
    "start_time": "2023-03-31T17:46:41.420Z"
   },
   {
    "duration": 1021,
    "start_time": "2023-03-31T17:46:59.377Z"
   },
   {
    "duration": 20,
    "start_time": "2023-03-31T17:47:13.304Z"
   },
   {
    "duration": 30,
    "start_time": "2023-03-31T17:49:47.275Z"
   },
   {
    "duration": 9,
    "start_time": "2023-04-01T14:30:36.218Z"
   },
   {
    "duration": 64,
    "start_time": "2023-04-01T14:30:46.830Z"
   },
   {
    "duration": 1582,
    "start_time": "2023-04-01T14:31:00.993Z"
   },
   {
    "duration": 1272,
    "start_time": "2023-04-01T14:31:02.577Z"
   },
   {
    "duration": 3,
    "start_time": "2023-04-01T14:31:03.851Z"
   },
   {
    "duration": 75,
    "start_time": "2023-04-01T14:31:03.856Z"
   },
   {
    "duration": 3,
    "start_time": "2023-04-01T14:31:03.933Z"
   },
   {
    "duration": 5,
    "start_time": "2023-04-01T14:31:03.937Z"
   },
   {
    "duration": 33,
    "start_time": "2023-04-01T14:31:03.944Z"
   },
   {
    "duration": 8,
    "start_time": "2023-04-01T14:31:03.980Z"
   },
   {
    "duration": 51,
    "start_time": "2023-04-01T14:31:03.990Z"
   },
   {
    "duration": 79,
    "start_time": "2023-04-01T14:31:04.044Z"
   },
   {
    "duration": 147,
    "start_time": "2023-04-01T14:31:04.125Z"
   },
   {
    "duration": 0,
    "start_time": "2023-04-01T14:31:04.275Z"
   },
   {
    "duration": 0,
    "start_time": "2023-04-01T14:31:04.279Z"
   },
   {
    "duration": 0,
    "start_time": "2023-04-01T14:31:04.281Z"
   },
   {
    "duration": 0,
    "start_time": "2023-04-01T14:31:04.282Z"
   },
   {
    "duration": 0,
    "start_time": "2023-04-01T14:31:04.284Z"
   },
   {
    "duration": 0,
    "start_time": "2023-04-01T14:31:04.285Z"
   },
   {
    "duration": 0,
    "start_time": "2023-04-01T14:31:04.286Z"
   },
   {
    "duration": 0,
    "start_time": "2023-04-01T14:31:04.287Z"
   },
   {
    "duration": 0,
    "start_time": "2023-04-01T14:31:04.288Z"
   },
   {
    "duration": 0,
    "start_time": "2023-04-01T14:31:04.289Z"
   },
   {
    "duration": 0,
    "start_time": "2023-04-01T14:31:04.291Z"
   },
   {
    "duration": 0,
    "start_time": "2023-04-01T14:31:04.292Z"
   },
   {
    "duration": 0,
    "start_time": "2023-04-01T14:31:04.293Z"
   },
   {
    "duration": 0,
    "start_time": "2023-04-01T14:31:04.294Z"
   },
   {
    "duration": 0,
    "start_time": "2023-04-01T14:31:04.295Z"
   },
   {
    "duration": 0,
    "start_time": "2023-04-01T14:31:04.297Z"
   },
   {
    "duration": 0,
    "start_time": "2023-04-01T14:31:04.298Z"
   },
   {
    "duration": 0,
    "start_time": "2023-04-01T14:31:04.299Z"
   },
   {
    "duration": 0,
    "start_time": "2023-04-01T14:31:04.301Z"
   },
   {
    "duration": 0,
    "start_time": "2023-04-01T14:31:04.303Z"
   },
   {
    "duration": 0,
    "start_time": "2023-04-01T14:31:04.304Z"
   },
   {
    "duration": 0,
    "start_time": "2023-04-01T14:31:04.306Z"
   },
   {
    "duration": 0,
    "start_time": "2023-04-01T14:31:04.308Z"
   },
   {
    "duration": 0,
    "start_time": "2023-04-01T14:31:04.312Z"
   },
   {
    "duration": 0,
    "start_time": "2023-04-01T14:31:04.312Z"
   },
   {
    "duration": 0,
    "start_time": "2023-04-01T14:31:04.314Z"
   },
   {
    "duration": 0,
    "start_time": "2023-04-01T14:31:04.316Z"
   },
   {
    "duration": 0,
    "start_time": "2023-04-01T14:31:04.375Z"
   },
   {
    "duration": 0,
    "start_time": "2023-04-01T14:31:04.376Z"
   },
   {
    "duration": 0,
    "start_time": "2023-04-01T14:31:04.377Z"
   },
   {
    "duration": 0,
    "start_time": "2023-04-01T14:31:04.379Z"
   },
   {
    "duration": 0,
    "start_time": "2023-04-01T14:31:04.380Z"
   },
   {
    "duration": 0,
    "start_time": "2023-04-01T14:31:04.382Z"
   },
   {
    "duration": 0,
    "start_time": "2023-04-01T14:31:04.383Z"
   },
   {
    "duration": 0,
    "start_time": "2023-04-01T14:31:04.384Z"
   },
   {
    "duration": 0,
    "start_time": "2023-04-01T14:31:04.386Z"
   },
   {
    "duration": 0,
    "start_time": "2023-04-01T14:31:04.388Z"
   },
   {
    "duration": 0,
    "start_time": "2023-04-01T14:31:04.389Z"
   },
   {
    "duration": 0,
    "start_time": "2023-04-01T14:31:04.391Z"
   },
   {
    "duration": 0,
    "start_time": "2023-04-01T14:31:04.393Z"
   },
   {
    "duration": 1510,
    "start_time": "2023-04-01T16:11:39.983Z"
   },
   {
    "duration": 1115,
    "start_time": "2023-04-01T16:11:41.495Z"
   },
   {
    "duration": 3,
    "start_time": "2023-04-01T16:11:42.612Z"
   },
   {
    "duration": 77,
    "start_time": "2023-04-01T16:11:42.617Z"
   },
   {
    "duration": 3,
    "start_time": "2023-04-01T16:11:42.695Z"
   },
   {
    "duration": 20,
    "start_time": "2023-04-01T16:11:42.700Z"
   },
   {
    "duration": 9,
    "start_time": "2023-04-01T16:11:42.722Z"
   },
   {
    "duration": 11,
    "start_time": "2023-04-01T16:11:42.732Z"
   },
   {
    "duration": 44,
    "start_time": "2023-04-01T16:11:42.745Z"
   },
   {
    "duration": 62,
    "start_time": "2023-04-01T16:11:42.791Z"
   },
   {
    "duration": 108,
    "start_time": "2023-04-01T16:11:42.854Z"
   },
   {
    "duration": 0,
    "start_time": "2023-04-01T16:11:42.964Z"
   },
   {
    "duration": 0,
    "start_time": "2023-04-01T16:11:42.965Z"
   },
   {
    "duration": 0,
    "start_time": "2023-04-01T16:11:42.966Z"
   },
   {
    "duration": 0,
    "start_time": "2023-04-01T16:11:42.967Z"
   },
   {
    "duration": 0,
    "start_time": "2023-04-01T16:11:42.968Z"
   },
   {
    "duration": 0,
    "start_time": "2023-04-01T16:11:42.969Z"
   },
   {
    "duration": 0,
    "start_time": "2023-04-01T16:11:42.970Z"
   },
   {
    "duration": 0,
    "start_time": "2023-04-01T16:11:42.971Z"
   },
   {
    "duration": 0,
    "start_time": "2023-04-01T16:11:42.973Z"
   },
   {
    "duration": 0,
    "start_time": "2023-04-01T16:11:42.974Z"
   },
   {
    "duration": 0,
    "start_time": "2023-04-01T16:11:42.975Z"
   },
   {
    "duration": 0,
    "start_time": "2023-04-01T16:11:42.976Z"
   },
   {
    "duration": 0,
    "start_time": "2023-04-01T16:11:42.977Z"
   },
   {
    "duration": 0,
    "start_time": "2023-04-01T16:11:42.978Z"
   },
   {
    "duration": 0,
    "start_time": "2023-04-01T16:11:42.979Z"
   },
   {
    "duration": 0,
    "start_time": "2023-04-01T16:11:42.980Z"
   },
   {
    "duration": 0,
    "start_time": "2023-04-01T16:11:42.981Z"
   },
   {
    "duration": 0,
    "start_time": "2023-04-01T16:11:42.982Z"
   },
   {
    "duration": 0,
    "start_time": "2023-04-01T16:11:42.983Z"
   },
   {
    "duration": 0,
    "start_time": "2023-04-01T16:11:42.984Z"
   },
   {
    "duration": 0,
    "start_time": "2023-04-01T16:11:42.985Z"
   },
   {
    "duration": 0,
    "start_time": "2023-04-01T16:11:42.986Z"
   },
   {
    "duration": 0,
    "start_time": "2023-04-01T16:11:42.987Z"
   },
   {
    "duration": 0,
    "start_time": "2023-04-01T16:11:42.988Z"
   },
   {
    "duration": 0,
    "start_time": "2023-04-01T16:11:43.034Z"
   },
   {
    "duration": 0,
    "start_time": "2023-04-01T16:11:43.035Z"
   },
   {
    "duration": 0,
    "start_time": "2023-04-01T16:11:43.036Z"
   },
   {
    "duration": 0,
    "start_time": "2023-04-01T16:11:43.036Z"
   },
   {
    "duration": 0,
    "start_time": "2023-04-01T16:11:43.037Z"
   },
   {
    "duration": 0,
    "start_time": "2023-04-01T16:11:43.038Z"
   },
   {
    "duration": 0,
    "start_time": "2023-04-01T16:11:43.039Z"
   },
   {
    "duration": 0,
    "start_time": "2023-04-01T16:11:43.040Z"
   },
   {
    "duration": 0,
    "start_time": "2023-04-01T16:11:43.041Z"
   },
   {
    "duration": 0,
    "start_time": "2023-04-01T16:11:43.042Z"
   },
   {
    "duration": 0,
    "start_time": "2023-04-01T16:11:43.042Z"
   },
   {
    "duration": 0,
    "start_time": "2023-04-01T16:11:43.043Z"
   },
   {
    "duration": 0,
    "start_time": "2023-04-01T16:11:43.044Z"
   },
   {
    "duration": 0,
    "start_time": "2023-04-01T16:11:43.045Z"
   },
   {
    "duration": 0,
    "start_time": "2023-04-01T16:11:43.046Z"
   },
   {
    "duration": 0,
    "start_time": "2023-04-01T16:11:43.047Z"
   },
   {
    "duration": 446,
    "start_time": "2023-04-01T16:18:41.876Z"
   },
   {
    "duration": 3,
    "start_time": "2023-04-01T16:28:13.582Z"
   },
   {
    "duration": 1062,
    "start_time": "2023-04-01T16:28:13.586Z"
   },
   {
    "duration": 4,
    "start_time": "2023-04-01T16:28:14.649Z"
   },
   {
    "duration": 74,
    "start_time": "2023-04-01T16:28:14.654Z"
   },
   {
    "duration": 3,
    "start_time": "2023-04-01T16:28:14.734Z"
   },
   {
    "duration": 19,
    "start_time": "2023-04-01T16:28:14.739Z"
   },
   {
    "duration": 23,
    "start_time": "2023-04-01T16:28:14.760Z"
   },
   {
    "duration": 27,
    "start_time": "2023-04-01T16:28:14.785Z"
   },
   {
    "duration": 69,
    "start_time": "2023-04-01T16:28:14.813Z"
   },
   {
    "duration": 62,
    "start_time": "2023-04-01T16:28:14.884Z"
   },
   {
    "duration": 350,
    "start_time": "2023-04-01T16:28:14.950Z"
   },
   {
    "duration": 35,
    "start_time": "2023-04-01T16:28:15.302Z"
   },
   {
    "duration": 5,
    "start_time": "2023-04-01T16:28:15.339Z"
   },
   {
    "duration": 363,
    "start_time": "2023-04-01T16:28:15.346Z"
   },
   {
    "duration": 189,
    "start_time": "2023-04-01T16:28:15.711Z"
   },
   {
    "duration": 0,
    "start_time": "2023-04-01T16:28:15.903Z"
   },
   {
    "duration": 0,
    "start_time": "2023-04-01T16:28:15.905Z"
   },
   {
    "duration": 0,
    "start_time": "2023-04-01T16:28:15.906Z"
   },
   {
    "duration": 0,
    "start_time": "2023-04-01T16:28:15.908Z"
   },
   {
    "duration": 0,
    "start_time": "2023-04-01T16:28:15.909Z"
   },
   {
    "duration": 0,
    "start_time": "2023-04-01T16:28:15.911Z"
   },
   {
    "duration": 1,
    "start_time": "2023-04-01T16:28:15.912Z"
   },
   {
    "duration": 0,
    "start_time": "2023-04-01T16:28:15.914Z"
   },
   {
    "duration": 0,
    "start_time": "2023-04-01T16:28:15.934Z"
   },
   {
    "duration": 0,
    "start_time": "2023-04-01T16:28:15.936Z"
   },
   {
    "duration": 0,
    "start_time": "2023-04-01T16:28:15.937Z"
   },
   {
    "duration": 0,
    "start_time": "2023-04-01T16:28:15.939Z"
   },
   {
    "duration": 0,
    "start_time": "2023-04-01T16:28:15.940Z"
   },
   {
    "duration": 0,
    "start_time": "2023-04-01T16:28:15.941Z"
   },
   {
    "duration": 0,
    "start_time": "2023-04-01T16:28:15.943Z"
   },
   {
    "duration": 0,
    "start_time": "2023-04-01T16:28:15.944Z"
   },
   {
    "duration": 0,
    "start_time": "2023-04-01T16:28:15.946Z"
   },
   {
    "duration": 0,
    "start_time": "2023-04-01T16:28:15.947Z"
   },
   {
    "duration": 0,
    "start_time": "2023-04-01T16:28:15.949Z"
   },
   {
    "duration": 0,
    "start_time": "2023-04-01T16:28:15.950Z"
   },
   {
    "duration": 0,
    "start_time": "2023-04-01T16:28:15.952Z"
   },
   {
    "duration": 0,
    "start_time": "2023-04-01T16:28:15.953Z"
   },
   {
    "duration": 0,
    "start_time": "2023-04-01T16:28:15.955Z"
   },
   {
    "duration": 0,
    "start_time": "2023-04-01T16:28:15.956Z"
   },
   {
    "duration": 0,
    "start_time": "2023-04-01T16:28:16.101Z"
   },
   {
    "duration": 0,
    "start_time": "2023-04-01T16:28:16.102Z"
   },
   {
    "duration": 0,
    "start_time": "2023-04-01T16:28:16.103Z"
   },
   {
    "duration": 0,
    "start_time": "2023-04-01T16:28:16.105Z"
   },
   {
    "duration": 0,
    "start_time": "2023-04-01T16:28:16.134Z"
   },
   {
    "duration": 0,
    "start_time": "2023-04-01T16:28:16.135Z"
   },
   {
    "duration": 0,
    "start_time": "2023-04-01T16:28:16.136Z"
   },
   {
    "duration": 0,
    "start_time": "2023-04-01T16:28:16.137Z"
   },
   {
    "duration": 0,
    "start_time": "2023-04-01T16:28:16.138Z"
   },
   {
    "duration": 0,
    "start_time": "2023-04-01T16:28:16.140Z"
   },
   {
    "duration": 0,
    "start_time": "2023-04-01T16:28:16.141Z"
   },
   {
    "duration": 0,
    "start_time": "2023-04-01T16:28:16.142Z"
   },
   {
    "duration": 18,
    "start_time": "2023-04-01T16:31:29.525Z"
   },
   {
    "duration": 11,
    "start_time": "2023-04-01T16:31:45.726Z"
   },
   {
    "duration": 10,
    "start_time": "2023-04-01T16:31:58.952Z"
   },
   {
    "duration": 29,
    "start_time": "2023-04-01T16:35:58.108Z"
   },
   {
    "duration": 13,
    "start_time": "2023-04-01T16:36:12.244Z"
   },
   {
    "duration": 3,
    "start_time": "2023-04-01T16:57:55.477Z"
   },
   {
    "duration": 1137,
    "start_time": "2023-04-01T16:57:55.518Z"
   },
   {
    "duration": 8,
    "start_time": "2023-04-01T16:57:56.658Z"
   },
   {
    "duration": 107,
    "start_time": "2023-04-01T16:57:56.668Z"
   },
   {
    "duration": 5,
    "start_time": "2023-04-01T16:57:56.778Z"
   },
   {
    "duration": 51,
    "start_time": "2023-04-01T16:57:56.786Z"
   },
   {
    "duration": 3,
    "start_time": "2023-04-01T16:57:56.840Z"
   },
   {
    "duration": 45,
    "start_time": "2023-04-01T16:57:56.846Z"
   },
   {
    "duration": 87,
    "start_time": "2023-04-01T16:57:56.893Z"
   },
   {
    "duration": 77,
    "start_time": "2023-04-01T16:57:56.982Z"
   },
   {
    "duration": 399,
    "start_time": "2023-04-01T16:57:57.062Z"
   },
   {
    "duration": 18,
    "start_time": "2023-04-01T16:57:57.463Z"
   },
   {
    "duration": 4,
    "start_time": "2023-04-01T16:57:57.483Z"
   },
   {
    "duration": 418,
    "start_time": "2023-04-01T16:57:57.488Z"
   },
   {
    "duration": 6,
    "start_time": "2023-04-01T16:57:57.909Z"
   },
   {
    "duration": 17,
    "start_time": "2023-04-01T16:57:57.917Z"
   },
   {
    "duration": 407,
    "start_time": "2023-04-01T16:57:57.936Z"
   },
   {
    "duration": 9,
    "start_time": "2023-04-01T16:57:58.345Z"
   },
   {
    "duration": 16,
    "start_time": "2023-04-01T16:57:58.356Z"
   },
   {
    "duration": 326,
    "start_time": "2023-04-01T16:57:58.374Z"
   },
   {
    "duration": 7,
    "start_time": "2023-04-01T16:57:58.702Z"
   },
   {
    "duration": 23,
    "start_time": "2023-04-01T16:57:58.710Z"
   },
   {
    "duration": 253,
    "start_time": "2023-04-01T16:57:58.735Z"
   },
   {
    "duration": 6,
    "start_time": "2023-04-01T16:57:58.990Z"
   },
   {
    "duration": 236,
    "start_time": "2023-04-01T16:57:58.997Z"
   },
   {
    "duration": 6,
    "start_time": "2023-04-01T16:57:59.235Z"
   },
   {
    "duration": 8,
    "start_time": "2023-04-01T16:57:59.243Z"
   },
   {
    "duration": 514,
    "start_time": "2023-04-01T16:57:59.252Z"
   },
   {
    "duration": 6,
    "start_time": "2023-04-01T16:57:59.767Z"
   },
   {
    "duration": 15,
    "start_time": "2023-04-01T16:57:59.775Z"
   },
   {
    "duration": 9,
    "start_time": "2023-04-01T16:57:59.792Z"
   },
   {
    "duration": 16,
    "start_time": "2023-04-01T16:57:59.803Z"
   },
   {
    "duration": 456,
    "start_time": "2023-04-01T16:57:59.822Z"
   },
   {
    "duration": 7,
    "start_time": "2023-04-01T16:58:00.280Z"
   },
   {
    "duration": 13,
    "start_time": "2023-04-01T16:58:00.289Z"
   },
   {
    "duration": 303,
    "start_time": "2023-04-01T16:58:00.304Z"
   },
   {
    "duration": 7,
    "start_time": "2023-04-01T16:58:00.608Z"
   },
   {
    "duration": 323,
    "start_time": "2023-04-01T16:58:00.616Z"
   },
   {
    "duration": 6,
    "start_time": "2023-04-01T16:58:00.942Z"
   },
   {
    "duration": 423,
    "start_time": "2023-04-01T16:58:00.950Z"
   },
   {
    "duration": 7,
    "start_time": "2023-04-01T16:58:01.375Z"
   },
   {
    "duration": 15,
    "start_time": "2023-04-01T16:58:01.386Z"
   },
   {
    "duration": 15,
    "start_time": "2023-04-01T16:58:01.402Z"
   },
   {
    "duration": 17,
    "start_time": "2023-04-01T16:58:01.419Z"
   },
   {
    "duration": 50,
    "start_time": "2023-04-01T16:58:01.439Z"
   },
   {
    "duration": 18,
    "start_time": "2023-04-01T16:58:01.491Z"
   },
   {
    "duration": 19,
    "start_time": "2023-04-01T16:58:01.511Z"
   },
   {
    "duration": 25,
    "start_time": "2023-04-01T16:58:01.532Z"
   },
   {
    "duration": 16,
    "start_time": "2023-04-01T16:58:01.559Z"
   },
   {
    "duration": 17,
    "start_time": "2023-04-01T16:58:01.576Z"
   },
   {
    "duration": 352,
    "start_time": "2023-04-01T17:01:14.162Z"
   },
   {
    "duration": 328,
    "start_time": "2023-04-01T17:01:23.829Z"
   },
   {
    "duration": 321,
    "start_time": "2023-04-01T17:01:44.877Z"
   },
   {
    "duration": 418,
    "start_time": "2023-04-01T17:02:03.021Z"
   },
   {
    "duration": 421,
    "start_time": "2023-04-01T17:16:00.043Z"
   },
   {
    "duration": 425,
    "start_time": "2023-04-01T17:19:17.032Z"
   },
   {
    "duration": 403,
    "start_time": "2023-04-01T17:20:15.383Z"
   },
   {
    "duration": 277,
    "start_time": "2023-04-01T17:22:20.444Z"
   },
   {
    "duration": 349,
    "start_time": "2023-04-01T17:22:33.952Z"
   },
   {
    "duration": 407,
    "start_time": "2023-04-01T17:24:22.621Z"
   },
   {
    "duration": 1490,
    "start_time": "2023-04-01T17:24:58.150Z"
   },
   {
    "duration": 1076,
    "start_time": "2023-04-01T17:24:59.642Z"
   },
   {
    "duration": 4,
    "start_time": "2023-04-01T17:25:00.720Z"
   },
   {
    "duration": 136,
    "start_time": "2023-04-01T17:25:00.725Z"
   },
   {
    "duration": 4,
    "start_time": "2023-04-01T17:25:00.863Z"
   },
   {
    "duration": 67,
    "start_time": "2023-04-01T17:25:00.869Z"
   },
   {
    "duration": 10,
    "start_time": "2023-04-01T17:25:00.937Z"
   },
   {
    "duration": 40,
    "start_time": "2023-04-01T17:25:00.948Z"
   },
   {
    "duration": 76,
    "start_time": "2023-04-01T17:25:00.990Z"
   },
   {
    "duration": 52,
    "start_time": "2023-04-01T17:25:01.069Z"
   },
   {
    "duration": 402,
    "start_time": "2023-04-01T17:25:01.122Z"
   },
   {
    "duration": 29,
    "start_time": "2023-04-01T17:25:01.526Z"
   },
   {
    "duration": 8,
    "start_time": "2023-04-01T17:25:01.558Z"
   },
   {
    "duration": 452,
    "start_time": "2023-04-01T17:25:01.568Z"
   },
   {
    "duration": 13,
    "start_time": "2023-04-01T17:25:02.022Z"
   },
   {
    "duration": 27,
    "start_time": "2023-04-01T17:25:02.037Z"
   },
   {
    "duration": 321,
    "start_time": "2023-04-01T17:25:02.066Z"
   },
   {
    "duration": 7,
    "start_time": "2023-04-01T17:25:02.389Z"
   },
   {
    "duration": 10,
    "start_time": "2023-04-01T17:25:02.398Z"
   },
   {
    "duration": 322,
    "start_time": "2023-04-01T17:25:02.409Z"
   },
   {
    "duration": 6,
    "start_time": "2023-04-01T17:25:02.733Z"
   },
   {
    "duration": 12,
    "start_time": "2023-04-01T17:25:02.740Z"
   },
   {
    "duration": 326,
    "start_time": "2023-04-01T17:25:02.753Z"
   },
   {
    "duration": 6,
    "start_time": "2023-04-01T17:25:03.081Z"
   },
   {
    "duration": 242,
    "start_time": "2023-04-01T17:25:03.089Z"
   },
   {
    "duration": 6,
    "start_time": "2023-04-01T17:25:03.333Z"
   },
   {
    "duration": 38,
    "start_time": "2023-04-01T17:25:03.340Z"
   },
   {
    "duration": 422,
    "start_time": "2023-04-01T17:25:03.381Z"
   },
   {
    "duration": 6,
    "start_time": "2023-04-01T17:25:03.805Z"
   },
   {
    "duration": 26,
    "start_time": "2023-04-01T17:25:03.813Z"
   },
   {
    "duration": 11,
    "start_time": "2023-04-01T17:25:03.842Z"
   },
   {
    "duration": 16,
    "start_time": "2023-04-01T17:25:03.855Z"
   },
   {
    "duration": 398,
    "start_time": "2023-04-01T17:25:03.873Z"
   },
   {
    "duration": 5,
    "start_time": "2023-04-01T17:25:04.273Z"
   },
   {
    "duration": 13,
    "start_time": "2023-04-01T17:25:04.280Z"
   },
   {
    "duration": 280,
    "start_time": "2023-04-01T17:25:04.294Z"
   },
   {
    "duration": 6,
    "start_time": "2023-04-01T17:25:04.576Z"
   },
   {
    "duration": 314,
    "start_time": "2023-04-01T17:25:04.584Z"
   },
   {
    "duration": 5,
    "start_time": "2023-04-01T17:25:04.901Z"
   },
   {
    "duration": 562,
    "start_time": "2023-04-01T17:25:04.907Z"
   },
   {
    "duration": 7,
    "start_time": "2023-04-01T17:25:05.471Z"
   },
   {
    "duration": 13,
    "start_time": "2023-04-01T17:25:05.480Z"
   },
   {
    "duration": 35,
    "start_time": "2023-04-01T17:25:05.494Z"
   },
   {
    "duration": 19,
    "start_time": "2023-04-01T17:25:05.531Z"
   },
   {
    "duration": 26,
    "start_time": "2023-04-01T17:25:05.552Z"
   },
   {
    "duration": 16,
    "start_time": "2023-04-01T17:25:05.580Z"
   },
   {
    "duration": 21,
    "start_time": "2023-04-01T17:25:05.598Z"
   },
   {
    "duration": 27,
    "start_time": "2023-04-01T17:25:05.621Z"
   },
   {
    "duration": 16,
    "start_time": "2023-04-01T17:25:05.650Z"
   },
   {
    "duration": 20,
    "start_time": "2023-04-01T17:25:05.668Z"
   },
   {
    "duration": 494,
    "start_time": "2023-04-01T17:27:59.431Z"
   },
   {
    "duration": 325,
    "start_time": "2023-04-01T17:30:21.255Z"
   },
   {
    "duration": 289,
    "start_time": "2023-04-01T17:39:17.825Z"
   },
   {
    "duration": 13,
    "start_time": "2023-04-01T17:40:19.837Z"
   },
   {
    "duration": 86,
    "start_time": "2023-04-01T22:16:54.322Z"
   },
   {
    "duration": 2155,
    "start_time": "2023-04-01T22:17:02.064Z"
   },
   {
    "duration": 1437,
    "start_time": "2023-04-01T22:17:04.222Z"
   },
   {
    "duration": 5,
    "start_time": "2023-04-01T22:17:05.661Z"
   },
   {
    "duration": 140,
    "start_time": "2023-04-01T22:17:05.668Z"
   },
   {
    "duration": 5,
    "start_time": "2023-04-01T22:17:05.810Z"
   },
   {
    "duration": 95,
    "start_time": "2023-04-01T22:17:05.817Z"
   },
   {
    "duration": 14,
    "start_time": "2023-04-01T22:17:05.913Z"
   },
   {
    "duration": 76,
    "start_time": "2023-04-01T22:17:05.928Z"
   },
   {
    "duration": 161,
    "start_time": "2023-04-01T22:17:06.006Z"
   },
   {
    "duration": 56,
    "start_time": "2023-04-01T22:17:06.169Z"
   },
   {
    "duration": 498,
    "start_time": "2023-04-01T22:17:06.226Z"
   },
   {
    "duration": 38,
    "start_time": "2023-04-01T22:17:06.725Z"
   },
   {
    "duration": 34,
    "start_time": "2023-04-01T22:17:06.765Z"
   },
   {
    "duration": 584,
    "start_time": "2023-04-01T22:17:06.803Z"
   },
   {
    "duration": 8,
    "start_time": "2023-04-01T22:17:07.389Z"
   },
   {
    "duration": 101,
    "start_time": "2023-04-01T22:17:07.399Z"
   },
   {
    "duration": 515,
    "start_time": "2023-04-01T22:17:07.502Z"
   },
   {
    "duration": 18,
    "start_time": "2023-04-01T22:17:08.019Z"
   },
   {
    "duration": 13,
    "start_time": "2023-04-01T22:17:08.039Z"
   },
   {
    "duration": 458,
    "start_time": "2023-04-01T22:17:08.055Z"
   },
   {
    "duration": 253,
    "start_time": "2023-04-01T22:17:08.515Z"
   },
   {
    "duration": 8,
    "start_time": "2023-04-01T22:17:08.775Z"
   },
   {
    "duration": 22,
    "start_time": "2023-04-01T22:17:08.785Z"
   },
   {
    "duration": 407,
    "start_time": "2023-04-01T22:17:08.815Z"
   },
   {
    "duration": 11,
    "start_time": "2023-04-01T22:17:09.224Z"
   },
   {
    "duration": 306,
    "start_time": "2023-04-01T22:17:09.237Z"
   },
   {
    "duration": 10,
    "start_time": "2023-04-01T22:17:09.545Z"
   },
   {
    "duration": 63,
    "start_time": "2023-04-01T22:17:09.556Z"
   },
   {
    "duration": 637,
    "start_time": "2023-04-01T22:17:09.621Z"
   },
   {
    "duration": 7,
    "start_time": "2023-04-01T22:17:10.261Z"
   },
   {
    "duration": 32,
    "start_time": "2023-04-01T22:17:10.270Z"
   },
   {
    "duration": 3,
    "start_time": "2023-04-01T22:17:10.305Z"
   },
   {
    "duration": 15,
    "start_time": "2023-04-01T22:17:10.311Z"
   },
   {
    "duration": 592,
    "start_time": "2023-04-01T22:17:10.329Z"
   },
   {
    "duration": 13,
    "start_time": "2023-04-01T22:17:10.923Z"
   },
   {
    "duration": 79,
    "start_time": "2023-04-01T22:17:10.938Z"
   },
   {
    "duration": 470,
    "start_time": "2023-04-01T22:17:11.019Z"
   },
   {
    "duration": 7,
    "start_time": "2023-04-01T22:17:11.492Z"
   },
   {
    "duration": 461,
    "start_time": "2023-04-01T22:17:11.501Z"
   },
   {
    "duration": 20,
    "start_time": "2023-04-01T22:17:11.978Z"
   },
   {
    "duration": 715,
    "start_time": "2023-04-01T22:17:12.005Z"
   },
   {
    "duration": 30,
    "start_time": "2023-04-01T22:17:12.723Z"
   },
   {
    "duration": 52,
    "start_time": "2023-04-01T22:17:12.757Z"
   },
   {
    "duration": 10,
    "start_time": "2023-04-01T22:17:12.811Z"
   },
   {
    "duration": 7,
    "start_time": "2023-04-01T22:17:12.825Z"
   },
   {
    "duration": 88,
    "start_time": "2023-04-01T22:17:12.833Z"
   },
   {
    "duration": 20,
    "start_time": "2023-04-01T22:17:12.922Z"
   },
   {
    "duration": 57,
    "start_time": "2023-04-01T22:17:12.946Z"
   },
   {
    "duration": 69,
    "start_time": "2023-04-01T22:17:13.006Z"
   },
   {
    "duration": 49,
    "start_time": "2023-04-01T22:17:13.076Z"
   },
   {
    "duration": 31,
    "start_time": "2023-04-01T22:17:13.127Z"
   },
   {
    "duration": 109,
    "start_time": "2023-04-01T22:20:56.294Z"
   },
   {
    "duration": 378,
    "start_time": "2023-04-01T22:21:07.625Z"
   },
   {
    "duration": 869,
    "start_time": "2023-04-01T22:22:39.792Z"
   },
   {
    "duration": 97,
    "start_time": "2023-04-01T22:23:42.404Z"
   },
   {
    "duration": 268,
    "start_time": "2023-04-01T22:39:55.901Z"
   },
   {
    "duration": 272,
    "start_time": "2023-04-01T22:40:20.331Z"
   },
   {
    "duration": 239,
    "start_time": "2023-04-01T22:40:46.862Z"
   },
   {
    "duration": 219,
    "start_time": "2023-04-01T22:41:19.500Z"
   },
   {
    "duration": 280,
    "start_time": "2023-04-01T22:41:44.201Z"
   },
   {
    "duration": 180,
    "start_time": "2023-04-01T22:43:04.342Z"
   },
   {
    "duration": 227,
    "start_time": "2023-04-01T22:44:39.305Z"
   },
   {
    "duration": 220,
    "start_time": "2023-04-01T22:44:46.352Z"
   },
   {
    "duration": 235,
    "start_time": "2023-04-01T22:48:28.799Z"
   },
   {
    "duration": 308,
    "start_time": "2023-04-01T22:49:04.817Z"
   },
   {
    "duration": 462,
    "start_time": "2023-04-01T22:51:28.375Z"
   },
   {
    "duration": 272,
    "start_time": "2023-04-01T22:51:41.716Z"
   },
   {
    "duration": 270,
    "start_time": "2023-04-01T22:53:38.617Z"
   },
   {
    "duration": 203,
    "start_time": "2023-04-01T22:54:08.628Z"
   },
   {
    "duration": 98,
    "start_time": "2023-04-02T11:30:18.891Z"
   },
   {
    "duration": 1821,
    "start_time": "2023-04-02T11:30:25.868Z"
   },
   {
    "duration": 1206,
    "start_time": "2023-04-02T11:30:27.694Z"
   },
   {
    "duration": 4,
    "start_time": "2023-04-02T11:30:28.902Z"
   },
   {
    "duration": 78,
    "start_time": "2023-04-02T11:30:28.908Z"
   },
   {
    "duration": 3,
    "start_time": "2023-04-02T11:30:28.987Z"
   },
   {
    "duration": 23,
    "start_time": "2023-04-02T11:30:28.991Z"
   },
   {
    "duration": 2,
    "start_time": "2023-04-02T11:30:29.016Z"
   },
   {
    "duration": 26,
    "start_time": "2023-04-02T11:30:29.020Z"
   },
   {
    "duration": 53,
    "start_time": "2023-04-02T11:30:29.050Z"
   },
   {
    "duration": 83,
    "start_time": "2023-04-02T11:30:29.106Z"
   },
   {
    "duration": 429,
    "start_time": "2023-04-02T11:30:29.194Z"
   },
   {
    "duration": 24,
    "start_time": "2023-04-02T11:30:29.625Z"
   },
   {
    "duration": 9,
    "start_time": "2023-04-02T11:30:29.650Z"
   },
   {
    "duration": 431,
    "start_time": "2023-04-02T11:30:29.662Z"
   },
   {
    "duration": 6,
    "start_time": "2023-04-02T11:30:30.094Z"
   },
   {
    "duration": 31,
    "start_time": "2023-04-02T11:30:30.101Z"
   },
   {
    "duration": 373,
    "start_time": "2023-04-02T11:30:30.134Z"
   },
   {
    "duration": 9,
    "start_time": "2023-04-02T11:30:30.509Z"
   },
   {
    "duration": 54,
    "start_time": "2023-04-02T11:30:30.520Z"
   },
   {
    "duration": 254,
    "start_time": "2023-04-02T11:30:30.576Z"
   },
   {
    "duration": 57,
    "start_time": "2023-04-02T11:30:30.832Z"
   },
   {
    "duration": 5,
    "start_time": "2023-04-02T11:30:30.894Z"
   },
   {
    "duration": 217,
    "start_time": "2023-04-02T11:30:30.901Z"
   },
   {
    "duration": 7,
    "start_time": "2023-04-02T11:30:31.120Z"
   },
   {
    "duration": 432,
    "start_time": "2023-04-02T11:30:31.149Z"
   },
   {
    "duration": 13,
    "start_time": "2023-04-02T11:30:31.586Z"
   },
   {
    "duration": 11,
    "start_time": "2023-04-02T11:30:31.600Z"
   },
   {
    "duration": 422,
    "start_time": "2023-04-02T11:30:31.613Z"
   },
   {
    "duration": 15,
    "start_time": "2023-04-02T11:30:32.037Z"
   },
   {
    "duration": 20,
    "start_time": "2023-04-02T11:30:32.061Z"
   },
   {
    "duration": 19,
    "start_time": "2023-04-02T11:30:32.082Z"
   },
   {
    "duration": 10,
    "start_time": "2023-04-02T11:30:32.103Z"
   },
   {
    "duration": 417,
    "start_time": "2023-04-02T11:30:32.115Z"
   },
   {
    "duration": 50,
    "start_time": "2023-04-02T11:30:32.534Z"
   },
   {
    "duration": 5,
    "start_time": "2023-04-02T11:30:32.594Z"
   },
   {
    "duration": 371,
    "start_time": "2023-04-02T11:30:32.601Z"
   },
   {
    "duration": 7,
    "start_time": "2023-04-02T11:30:32.992Z"
   },
   {
    "duration": 358,
    "start_time": "2023-04-02T11:30:33.001Z"
   },
   {
    "duration": 9,
    "start_time": "2023-04-02T11:30:33.360Z"
   },
   {
    "duration": 593,
    "start_time": "2023-04-02T11:30:33.370Z"
   },
   {
    "duration": 11,
    "start_time": "2023-04-02T11:30:33.971Z"
   },
   {
    "duration": 8,
    "start_time": "2023-04-02T11:30:33.987Z"
   },
   {
    "duration": 9,
    "start_time": "2023-04-02T11:30:34.000Z"
   },
   {
    "duration": 6,
    "start_time": "2023-04-02T11:30:34.012Z"
   },
   {
    "duration": 41,
    "start_time": "2023-04-02T11:30:34.020Z"
   },
   {
    "duration": 32,
    "start_time": "2023-04-02T11:30:34.063Z"
   },
   {
    "duration": 11,
    "start_time": "2023-04-02T11:30:34.096Z"
   },
   {
    "duration": 21,
    "start_time": "2023-04-02T11:30:34.109Z"
   },
   {
    "duration": 60,
    "start_time": "2023-04-02T11:30:34.132Z"
   },
   {
    "duration": 16,
    "start_time": "2023-04-02T11:30:34.193Z"
   },
   {
    "duration": 282,
    "start_time": "2023-04-02T11:31:00.020Z"
   },
   {
    "duration": 287,
    "start_time": "2023-04-02T11:31:18.213Z"
   },
   {
    "duration": 362,
    "start_time": "2023-04-02T11:36:18.939Z"
   },
   {
    "duration": 250,
    "start_time": "2023-04-02T11:46:36.923Z"
   },
   {
    "duration": 264,
    "start_time": "2023-04-02T11:46:55.799Z"
   },
   {
    "duration": 252,
    "start_time": "2023-04-02T11:50:16.776Z"
   },
   {
    "duration": 145,
    "start_time": "2023-04-02T11:52:24.567Z"
   },
   {
    "duration": 178,
    "start_time": "2023-04-02T11:58:35.937Z"
   },
   {
    "duration": 6,
    "start_time": "2023-04-02T11:59:21.127Z"
   },
   {
    "duration": 161,
    "start_time": "2023-04-02T12:01:41.107Z"
   },
   {
    "duration": 145,
    "start_time": "2023-04-02T12:03:13.011Z"
   },
   {
    "duration": 316,
    "start_time": "2023-04-02T12:04:32.581Z"
   },
   {
    "duration": 16,
    "start_time": "2023-04-02T12:59:56.666Z"
   },
   {
    "duration": 18,
    "start_time": "2023-04-02T13:04:30.840Z"
   },
   {
    "duration": 15,
    "start_time": "2023-04-02T13:05:59.551Z"
   },
   {
    "duration": 29,
    "start_time": "2023-04-02T13:06:52.501Z"
   },
   {
    "duration": 6,
    "start_time": "2023-04-02T13:08:36.370Z"
   },
   {
    "duration": 12,
    "start_time": "2023-04-02T13:16:21.050Z"
   },
   {
    "duration": 16,
    "start_time": "2023-04-02T13:16:31.053Z"
   },
   {
    "duration": 12,
    "start_time": "2023-04-02T13:17:17.176Z"
   },
   {
    "duration": 24,
    "start_time": "2023-04-02T13:17:36.504Z"
   },
   {
    "duration": 18,
    "start_time": "2023-04-02T13:19:21.143Z"
   },
   {
    "duration": 10,
    "start_time": "2023-04-02T13:26:39.136Z"
   },
   {
    "duration": 6,
    "start_time": "2023-04-02T13:26:42.767Z"
   },
   {
    "duration": 19,
    "start_time": "2023-04-02T13:35:18.984Z"
   },
   {
    "duration": 5,
    "start_time": "2023-04-02T13:39:39.762Z"
   },
   {
    "duration": 20,
    "start_time": "2023-04-02T13:40:22.287Z"
   },
   {
    "duration": 6,
    "start_time": "2023-04-02T13:41:48.190Z"
   },
   {
    "duration": 33653,
    "start_time": "2023-04-02T13:43:21.699Z"
   },
   {
    "duration": 34248,
    "start_time": "2023-04-02T13:44:16.548Z"
   },
   {
    "duration": 31,
    "start_time": "2023-04-02T13:48:00.066Z"
   },
   {
    "duration": 28,
    "start_time": "2023-04-02T13:48:37.578Z"
   },
   {
    "duration": 24,
    "start_time": "2023-04-02T13:49:54.548Z"
   },
   {
    "duration": 16,
    "start_time": "2023-04-02T13:50:15.063Z"
   },
   {
    "duration": 19,
    "start_time": "2023-04-02T13:50:28.306Z"
   },
   {
    "duration": 1861,
    "start_time": "2023-04-03T13:42:05.331Z"
   },
   {
    "duration": 1224,
    "start_time": "2023-04-03T13:42:07.193Z"
   },
   {
    "duration": 4,
    "start_time": "2023-04-03T13:42:08.419Z"
   },
   {
    "duration": 82,
    "start_time": "2023-04-03T13:42:08.425Z"
   },
   {
    "duration": 3,
    "start_time": "2023-04-03T13:42:08.509Z"
   },
   {
    "duration": 29,
    "start_time": "2023-04-03T13:42:08.513Z"
   },
   {
    "duration": 3,
    "start_time": "2023-04-03T13:42:08.543Z"
   },
   {
    "duration": 13,
    "start_time": "2023-04-03T13:42:08.547Z"
   },
   {
    "duration": 67,
    "start_time": "2023-04-03T13:42:08.562Z"
   },
   {
    "duration": 46,
    "start_time": "2023-04-03T13:42:08.632Z"
   },
   {
    "duration": 393,
    "start_time": "2023-04-03T13:42:08.679Z"
   },
   {
    "duration": 29,
    "start_time": "2023-04-03T13:42:09.073Z"
   },
   {
    "duration": 4,
    "start_time": "2023-04-03T13:42:09.103Z"
   },
   {
    "duration": 387,
    "start_time": "2023-04-03T13:42:09.109Z"
   },
   {
    "duration": 6,
    "start_time": "2023-04-03T13:42:09.497Z"
   },
   {
    "duration": 12,
    "start_time": "2023-04-03T13:42:09.505Z"
   },
   {
    "duration": 286,
    "start_time": "2023-04-03T13:42:09.518Z"
   },
   {
    "duration": 7,
    "start_time": "2023-04-03T13:42:09.806Z"
   },
   {
    "duration": 15,
    "start_time": "2023-04-03T13:42:09.815Z"
   },
   {
    "duration": 222,
    "start_time": "2023-04-03T13:42:09.831Z"
   },
   {
    "duration": 6,
    "start_time": "2023-04-03T13:42:10.055Z"
   },
   {
    "duration": 11,
    "start_time": "2023-04-03T13:42:10.062Z"
   },
   {
    "duration": 156,
    "start_time": "2023-04-03T13:42:10.074Z"
   },
   {
    "duration": 5,
    "start_time": "2023-04-03T13:42:10.232Z"
   },
   {
    "duration": 213,
    "start_time": "2023-04-03T13:42:10.239Z"
   },
   {
    "duration": 6,
    "start_time": "2023-04-03T13:42:10.453Z"
   },
   {
    "duration": 37,
    "start_time": "2023-04-03T13:42:10.460Z"
   },
   {
    "duration": 393,
    "start_time": "2023-04-03T13:42:10.501Z"
   },
   {
    "duration": 6,
    "start_time": "2023-04-03T13:42:10.895Z"
   },
   {
    "duration": 28,
    "start_time": "2023-04-03T13:42:10.903Z"
   },
   {
    "duration": 15,
    "start_time": "2023-04-03T13:42:10.933Z"
   },
   {
    "duration": 22,
    "start_time": "2023-04-03T13:42:10.950Z"
   },
   {
    "duration": 182,
    "start_time": "2023-04-03T13:42:10.974Z"
   },
   {
    "duration": 6,
    "start_time": "2023-04-03T13:42:11.157Z"
   },
   {
    "duration": 17,
    "start_time": "2023-04-03T13:42:11.164Z"
   },
   {
    "duration": 153,
    "start_time": "2023-04-03T13:42:11.182Z"
   },
   {
    "duration": 5,
    "start_time": "2023-04-03T13:42:11.337Z"
   },
   {
    "duration": 155,
    "start_time": "2023-04-03T13:42:11.343Z"
   },
   {
    "duration": 6,
    "start_time": "2023-04-03T13:42:11.500Z"
   },
   {
    "duration": 321,
    "start_time": "2023-04-03T13:42:11.508Z"
   },
   {
    "duration": 6,
    "start_time": "2023-04-03T13:42:11.830Z"
   },
   {
    "duration": 22,
    "start_time": "2023-04-03T13:42:11.838Z"
   },
   {
    "duration": 29,
    "start_time": "2023-04-03T13:42:11.861Z"
   },
   {
    "duration": 6,
    "start_time": "2023-04-03T13:42:11.891Z"
   },
   {
    "duration": 39,
    "start_time": "2023-04-03T13:42:11.899Z"
   },
   {
    "duration": 6,
    "start_time": "2023-04-03T13:42:11.939Z"
   },
   {
    "duration": 24,
    "start_time": "2023-04-03T13:42:11.946Z"
   },
   {
    "duration": 31,
    "start_time": "2023-04-03T13:42:11.972Z"
   },
   {
    "duration": 7,
    "start_time": "2023-04-03T13:42:12.004Z"
   },
   {
    "duration": 45,
    "start_time": "2023-04-03T13:42:12.012Z"
   },
   {
    "duration": 17,
    "start_time": "2023-04-03T13:42:12.058Z"
   },
   {
    "duration": 16,
    "start_time": "2023-04-03T13:42:12.077Z"
   },
   {
    "duration": 26,
    "start_time": "2023-04-03T13:42:12.095Z"
   },
   {
    "duration": 24,
    "start_time": "2023-04-03T13:42:12.123Z"
   },
   {
    "duration": 17,
    "start_time": "2023-04-03T13:42:12.149Z"
   },
   {
    "duration": 39,
    "start_time": "2023-04-03T13:42:12.168Z"
   },
   {
    "duration": 21,
    "start_time": "2023-04-03T13:42:12.209Z"
   },
   {
    "duration": 20,
    "start_time": "2023-04-03T13:42:12.231Z"
   },
   {
    "duration": 48,
    "start_time": "2023-04-03T13:42:12.252Z"
   },
   {
    "duration": 9,
    "start_time": "2023-04-03T13:42:12.301Z"
   },
   {
    "duration": 8,
    "start_time": "2023-04-03T13:42:12.312Z"
   },
   {
    "duration": 52,
    "start_time": "2023-04-03T16:38:26.276Z"
   },
   {
    "duration": 1575,
    "start_time": "2023-04-03T16:38:32.986Z"
   },
   {
    "duration": 921,
    "start_time": "2023-04-03T16:38:34.563Z"
   },
   {
    "duration": 4,
    "start_time": "2023-04-03T16:38:35.486Z"
   },
   {
    "duration": 77,
    "start_time": "2023-04-03T16:38:35.491Z"
   },
   {
    "duration": 3,
    "start_time": "2023-04-03T16:38:35.570Z"
   },
   {
    "duration": 31,
    "start_time": "2023-04-03T16:38:35.574Z"
   },
   {
    "duration": 3,
    "start_time": "2023-04-03T16:38:35.606Z"
   },
   {
    "duration": 10,
    "start_time": "2023-04-03T16:38:35.610Z"
   },
   {
    "duration": 46,
    "start_time": "2023-04-03T16:38:35.622Z"
   },
   {
    "duration": 77,
    "start_time": "2023-04-03T16:38:35.671Z"
   },
   {
    "duration": 474,
    "start_time": "2023-04-03T16:38:35.750Z"
   },
   {
    "duration": 17,
    "start_time": "2023-04-03T16:38:36.226Z"
   },
   {
    "duration": 4,
    "start_time": "2023-04-03T16:38:36.245Z"
   },
   {
    "duration": 406,
    "start_time": "2023-04-03T16:38:36.250Z"
   },
   {
    "duration": 6,
    "start_time": "2023-04-03T16:38:36.658Z"
   },
   {
    "duration": 6,
    "start_time": "2023-04-03T16:38:36.666Z"
   },
   {
    "duration": 331,
    "start_time": "2023-04-03T16:38:36.674Z"
   },
   {
    "duration": 8,
    "start_time": "2023-04-03T16:38:37.007Z"
   },
   {
    "duration": 9,
    "start_time": "2023-04-03T16:38:37.017Z"
   },
   {
    "duration": 266,
    "start_time": "2023-04-03T16:38:37.028Z"
   },
   {
    "duration": 16,
    "start_time": "2023-04-03T16:38:37.296Z"
   },
   {
    "duration": 5,
    "start_time": "2023-04-03T16:38:37.315Z"
   },
   {
    "duration": 195,
    "start_time": "2023-04-03T16:38:37.322Z"
   },
   {
    "duration": 6,
    "start_time": "2023-04-03T16:38:37.519Z"
   },
   {
    "duration": 242,
    "start_time": "2023-04-03T16:38:37.527Z"
   },
   {
    "duration": 6,
    "start_time": "2023-04-03T16:38:37.771Z"
   },
   {
    "duration": 19,
    "start_time": "2023-04-03T16:38:37.779Z"
   },
   {
    "duration": 456,
    "start_time": "2023-04-03T16:38:37.803Z"
   },
   {
    "duration": 5,
    "start_time": "2023-04-03T16:38:38.261Z"
   },
   {
    "duration": 8,
    "start_time": "2023-04-03T16:38:38.268Z"
   },
   {
    "duration": 3,
    "start_time": "2023-04-03T16:38:38.278Z"
   },
   {
    "duration": 21,
    "start_time": "2023-04-03T16:38:38.282Z"
   },
   {
    "duration": 194,
    "start_time": "2023-04-03T16:38:38.305Z"
   },
   {
    "duration": 6,
    "start_time": "2023-04-03T16:38:38.503Z"
   },
   {
    "duration": 5,
    "start_time": "2023-04-03T16:38:38.510Z"
   },
   {
    "duration": 179,
    "start_time": "2023-04-03T16:38:38.516Z"
   },
   {
    "duration": 9,
    "start_time": "2023-04-03T16:38:38.697Z"
   },
   {
    "duration": 158,
    "start_time": "2023-04-03T16:38:38.708Z"
   },
   {
    "duration": 6,
    "start_time": "2023-04-03T16:38:38.867Z"
   },
   {
    "duration": 361,
    "start_time": "2023-04-03T16:38:38.874Z"
   },
   {
    "duration": 6,
    "start_time": "2023-04-03T16:38:39.237Z"
   },
   {
    "duration": 8,
    "start_time": "2023-04-03T16:38:39.244Z"
   },
   {
    "duration": 12,
    "start_time": "2023-04-03T16:38:39.254Z"
   },
   {
    "duration": 8,
    "start_time": "2023-04-03T16:38:39.267Z"
   },
   {
    "duration": 45,
    "start_time": "2023-04-03T16:38:39.276Z"
   },
   {
    "duration": 7,
    "start_time": "2023-04-03T16:38:39.323Z"
   },
   {
    "duration": 23,
    "start_time": "2023-04-03T16:38:39.332Z"
   },
   {
    "duration": 45,
    "start_time": "2023-04-03T16:38:39.358Z"
   },
   {
    "duration": 9,
    "start_time": "2023-04-03T16:38:39.405Z"
   },
   {
    "duration": 27,
    "start_time": "2023-04-03T16:38:39.415Z"
   },
   {
    "duration": 18,
    "start_time": "2023-04-03T16:38:39.444Z"
   },
   {
    "duration": 39,
    "start_time": "2023-04-03T16:38:39.464Z"
   },
   {
    "duration": 30,
    "start_time": "2023-04-03T16:38:39.505Z"
   },
   {
    "duration": 21,
    "start_time": "2023-04-03T16:38:39.537Z"
   },
   {
    "duration": 18,
    "start_time": "2023-04-03T16:38:39.560Z"
   },
   {
    "duration": 41,
    "start_time": "2023-04-03T16:38:39.580Z"
   },
   {
    "duration": 20,
    "start_time": "2023-04-03T16:38:39.622Z"
   },
   {
    "duration": 19,
    "start_time": "2023-04-03T16:38:39.644Z"
   },
   {
    "duration": 40,
    "start_time": "2023-04-03T16:38:39.665Z"
   },
   {
    "duration": 8,
    "start_time": "2023-04-03T16:38:39.707Z"
   },
   {
    "duration": 8,
    "start_time": "2023-04-03T16:38:39.717Z"
   },
   {
    "duration": 220,
    "start_time": "2023-04-03T16:39:54.297Z"
   }
  ],
  "kernelspec": {
   "display_name": "Python 3 (ipykernel)",
   "language": "python",
   "name": "python3"
  },
  "language_info": {
   "codemirror_mode": {
    "name": "ipython",
    "version": 3
   },
   "file_extension": ".py",
   "mimetype": "text/x-python",
   "name": "python",
   "nbconvert_exporter": "python",
   "pygments_lexer": "ipython3",
   "version": "3.9.13"
  },
  "toc": {
   "base_numbering": 1,
   "nav_menu": {},
   "number_sections": true,
   "sideBar": true,
   "skip_h1_title": true,
   "title_cell": "Table of Contents",
   "title_sidebar": "Contents",
   "toc_cell": false,
   "toc_position": {
    "height": "calc(100% - 180px)",
    "left": "10px",
    "top": "150px",
    "width": "512px"
   },
   "toc_section_display": true,
   "toc_window_display": false
  }
 },
 "nbformat": 4,
 "nbformat_minor": 5
}
